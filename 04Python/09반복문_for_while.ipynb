{
 "cells": [
  {
   "cell_type": "markdown",
   "id": "3a78e40b",
   "metadata": {},
   "source": [
    "# 반복문 for, while\n",
    "* 반복문은 동일한 작업을 여러 번 반복해야 할 경우 사용\n",
    "* for, while 두 종류의 반복문이 있음\n",
    "* for는 **반복 횟수가 정해져 있는 경우** 사용\n",
    "* while은 반복 횟수사 정해져 있지 않은 경우 사용(무한 반복)"
   ]
  },
  {
   "cell_type": "markdown",
   "id": "c9d013aa",
   "metadata": {},
   "source": [
    "# for 반복문: 반복할 횟수가 정해져 있는 경우\n",
    "for 변수1, 변수2 in 반복할 객체/자료(문자열, 리스트, 튜플, 딕션너리):<br>\n",
    "____반복할 코드 "
   ]
  },
  {
   "cell_type": "code",
   "execution_count": null,
   "id": "86eb1b82",
   "metadata": {},
   "outputs": [],
   "source": [
    "# 숫자 생성 함수 range(시작, 끝, step)"
   ]
  },
  {
   "cell_type": "code",
   "execution_count": 1,
   "id": "fa427dbc",
   "metadata": {},
   "outputs": [
    {
     "name": "stdout",
     "output_type": "stream",
     "text": [
      "1\n",
      "2\n",
      "3\n",
      "4\n",
      "5\n",
      "6\n",
      "7\n",
      "8\n",
      "9\n",
      "10\n"
     ]
    }
   ],
   "source": [
    "# for 문을 이용해서 숫자 1-10 출력\n",
    "for i in range(1,11):\n",
    "    print(i)"
   ]
  },
  {
   "cell_type": "markdown",
   "id": "386311ce",
   "metadata": {},
   "source": [
    "* 리스트와 튜플"
   ]
  },
  {
   "cell_type": "code",
   "execution_count": 4,
   "id": "13d9f39d",
   "metadata": {},
   "outputs": [],
   "source": [
    "ㅣ1= [1,2,3,4,5,'리스트', [1,2,3], (4,5,6)]\n",
    "t1=(1,2,3,4,5,'리스트', [1,2,3], (4,5,6))"
   ]
  },
  {
   "cell_type": "code",
   "execution_count": 6,
   "id": "dc56c2fc",
   "metadata": {},
   "outputs": [
    {
     "name": "stdout",
     "output_type": "stream",
     "text": [
      "1 <class 'int'>\n",
      "2 <class 'int'>\n",
      "3 <class 'int'>\n",
      "4 <class 'int'>\n",
      "5 <class 'int'>\n",
      "리스트 <class 'str'>\n",
      "[1, 2, 3] <class 'list'>\n",
      "(4, 5, 6) <class 'tuple'>\n"
     ]
    }
   ],
   "source": [
    "# 리스트를 반복문에 넣어서 요소를 하나씩 출력\n",
    "for i in ㅣ1:\n",
    "    print(i, type(i))"
   ]
  },
  {
   "cell_type": "code",
   "execution_count": 7,
   "id": "a6773cd6",
   "metadata": {},
   "outputs": [
    {
     "name": "stdout",
     "output_type": "stream",
     "text": [
      "1 <class 'int'>\n",
      "2 <class 'int'>\n",
      "3 <class 'int'>\n",
      "4 <class 'int'>\n",
      "5 <class 'int'>\n",
      "리스트 <class 'str'>\n",
      "[1, 2, 3] <class 'list'>\n",
      "(4, 5, 6) <class 'tuple'>\n"
     ]
    }
   ],
   "source": [
    "# 튜플를 반복문에 넣어서 요소를 하나씩 출력\n",
    "for i in t1:\n",
    "    print(i, type(i))"
   ]
  },
  {
   "cell_type": "code",
   "execution_count": 8,
   "id": "c64d605e",
   "metadata": {},
   "outputs": [
    {
     "data": {
      "text/plain": [
       "{'이름': '홍길동', '나이': 40, '주소': '서울', '전화번호': '010-111-1111'}"
      ]
     },
     "execution_count": 8,
     "metadata": {},
     "output_type": "execute_result"
    }
   ],
   "source": [
    "d=dict(이름='홍길동', 나이=40, 주소='서울', 전화번호='010-111-1111')\n",
    "d"
   ]
  },
  {
   "cell_type": "code",
   "execution_count": 11,
   "id": "f3253c09",
   "metadata": {},
   "outputs": [
    {
     "data": {
      "text/plain": [
       "4"
      ]
     },
     "execution_count": 11,
     "metadata": {},
     "output_type": "execute_result"
    }
   ],
   "source": [
    "# 딕셔너리는 len을 사용시 가장 상위 key의 갯수가 출력\n",
    "len(d)"
   ]
  },
  {
   "cell_type": "code",
   "execution_count": 10,
   "id": "54b4beba",
   "metadata": {},
   "outputs": [
    {
     "name": "stdout",
     "output_type": "stream",
     "text": [
      "이름\n",
      "나이\n",
      "주소\n",
      "전화번호\n"
     ]
    }
   ],
   "source": [
    "# 딕셔너리를 반복문에 넣으면 딕셔너리의 key가 출력 \n",
    "for i in d:\n",
    "    print(i)"
   ]
  },
  {
   "cell_type": "code",
   "execution_count": 12,
   "id": "f5155d46",
   "metadata": {},
   "outputs": [
    {
     "name": "stdout",
     "output_type": "stream",
     "text": [
      "홍길동\n",
      "40\n",
      "서울\n",
      "010-111-1111\n"
     ]
    }
   ],
   "source": [
    "# key를 이용해 value를 출력 \n",
    "for i in d:\n",
    "    print(d[i])"
   ]
  },
  {
   "cell_type": "code",
   "execution_count": 13,
   "id": "6e8fb016",
   "metadata": {},
   "outputs": [
    {
     "name": "stdout",
     "output_type": "stream",
     "text": [
      "홍길동\n",
      "40\n",
      "서울\n",
      "010-111-1111\n"
     ]
    }
   ],
   "source": [
    "# key를 이용해 value를 출력 \n",
    "for i in d:\n",
    "    print(d.get(i,'key없음'))"
   ]
  },
  {
   "cell_type": "code",
   "execution_count": 16,
   "id": "a471ba4e",
   "metadata": {},
   "outputs": [
    {
     "name": "stdout",
     "output_type": "stream",
     "text": [
      "<class 'dict_values'>\n",
      "홍길동\n",
      "40\n",
      "서울\n",
      "010-111-1111\n"
     ]
    }
   ],
   "source": [
    "# 딕셔너리 함수인 values()\n",
    "d.values()\n",
    "print(type(d.values()))\n",
    "for i in d.values():\n",
    "    print(i)"
   ]
  },
  {
   "cell_type": "code",
   "execution_count": 17,
   "id": "d4f4ebde",
   "metadata": {},
   "outputs": [
    {
     "name": "stdout",
     "output_type": "stream",
     "text": [
      "('이름', '홍길동')\n",
      "('나이', 40)\n",
      "('주소', '서울')\n",
      "('전화번호', '010-111-1111')\n"
     ]
    }
   ],
   "source": [
    "# 딕셔너리의 key와 value를 동시에 출력 \n",
    "for i in d.items():\n",
    "    print(i)"
   ]
  },
  {
   "cell_type": "code",
   "execution_count": 18,
   "id": "7814e868",
   "metadata": {},
   "outputs": [
    {
     "name": "stdout",
     "output_type": "stream",
     "text": [
      "key:이름 value:홍길동\n",
      "key:나이 value:40\n",
      "key:주소 value:서울\n",
      "key:전화번호 value:010-111-1111\n"
     ]
    }
   ],
   "source": [
    "# 딕셔너리의 key와 value를 동시에 출력 \n",
    "for k,v in d.items():\n",
    "    print(f'key:{k} value:{v}')"
   ]
  },
  {
   "cell_type": "markdown",
   "id": "d987bc1a",
   "metadata": {},
   "source": [
    "* for 반복문을 이용해서 1부터 10까지 정수를 더한 합을 출력하세요"
   ]
  },
  {
   "cell_type": "code",
   "execution_count": 19,
   "id": "c76539ae",
   "metadata": {},
   "outputs": [
    {
     "name": "stdout",
     "output_type": "stream",
     "text": [
      "1\n",
      "3\n",
      "6\n",
      "10\n",
      "15\n",
      "21\n",
      "28\n",
      "36\n",
      "45\n",
      "55\n"
     ]
    }
   ],
   "source": [
    "hap=0\n",
    "for num in range(1,11):\n",
    "    hap+=num\n",
    "    print(hap)\n"
   ]
  },
  {
   "cell_type": "markdown",
   "id": "de7805b8",
   "metadata": {},
   "source": [
    "* 1에소 50사이의 숫자중에서 짝수만 더한 합을 구하세요. \n",
    "    * 숫자를 1-50 사이로 생성\n",
    "    * 짝수인지 판별 if \n",
    "    * hap 변수에 짝수만 합하기 \n",
    "    * 합계 출력하기 "
   ]
  },
  {
   "cell_type": "code",
   "execution_count": 21,
   "id": "e7a22e63",
   "metadata": {},
   "outputs": [
    {
     "name": "stdout",
     "output_type": "stream",
     "text": [
      "650\n"
     ]
    }
   ],
   "source": [
    "hap=0\n",
    "for num in range(1,51):\n",
    "    if num%2==0:\n",
    "        hap+=num\n",
    "print(hap)"
   ]
  },
  {
   "cell_type": "markdown",
   "id": "d03db347",
   "metadata": {},
   "source": [
    "## 반복문에 사용할 자료를 일부 구간만 사용하기\n",
    "* 슬라이싱"
   ]
  },
  {
   "cell_type": "markdown",
   "id": "93ba7841",
   "metadata": {},
   "source": [
    "* 1부터 100까지 숫자를 생성하고 그중에서 30-70까지만 더해서 출력하세요."
   ]
  },
  {
   "cell_type": "code",
   "execution_count": 23,
   "id": "da842b9a",
   "metadata": {},
   "outputs": [
    {
     "name": "stdout",
     "output_type": "stream",
     "text": [
      "2050\n"
     ]
    }
   ],
   "source": [
    "# if 조건문을 이용해서 필터링\n",
    "hap=0\n",
    "for num in range(1,101):\n",
    "#     print(num, end=' ')\n",
    "    if 30 <=num <=70:\n",
    "        hap+=num\n",
    "print(hap)"
   ]
  },
  {
   "cell_type": "code",
   "execution_count": 25,
   "id": "bef1bcbf",
   "metadata": {},
   "outputs": [
    {
     "name": "stdout",
     "output_type": "stream",
     "text": [
      "2050\n"
     ]
    }
   ],
   "source": [
    "# 슬라이싱 활용\n",
    "hap=0\n",
    "for num in range(1,101)[29:70]:\n",
    "#     print(num)\n",
    "    hap+=num\n",
    "\n",
    "print(hap)"
   ]
  },
  {
   "cell_type": "markdown",
   "id": "25fde4cc",
   "metadata": {},
   "source": [
    "* 1-100까지 숫자 둥에서 짝수만 합 구하기(슬라이싱 활용)"
   ]
  },
  {
   "cell_type": "code",
   "execution_count": 27,
   "id": "1acc7682",
   "metadata": {},
   "outputs": [
    {
     "name": "stdout",
     "output_type": "stream",
     "text": [
      "2550\n"
     ]
    }
   ],
   "source": [
    "\n",
    "hap=0\n",
    "for num in range(1,101)[1::2]:\n",
    "#     print(num)\n",
    "    hap+=num\n",
    "\n",
    "print(hap)"
   ]
  },
  {
   "cell_type": "markdown",
   "id": "e52a8696",
   "metadata": {},
   "source": [
    "* 1에서 100까지 숫자를 생성하고 역순으로 출력하세요"
   ]
  },
  {
   "cell_type": "code",
   "execution_count": 30,
   "id": "aa17d31c",
   "metadata": {},
   "outputs": [
    {
     "name": "stdout",
     "output_type": "stream",
     "text": [
      "100 99 98 97 96 95 94 93 92 91 90 89 88 87 86 85 84 83 82 81 80 79 78 77 76 75 74 73 72 71 70 69 68 67 66 65 64 63 62 61 60 59 58 57 56 55 54 53 52 51 50 49 48 47 46 45 44 43 42 41 40 39 38 37 36 35 34 33 32 31 30 29 28 27 26 25 24 23 22 21 20 19 18 17 16 15 14 13 12 11 10 9 8 7 6 5 4 3 2 1 "
     ]
    }
   ],
   "source": [
    "# range 함수 역순\n",
    "for num in range(100,0,-1):\n",
    "    print(num, end=' ')"
   ]
  },
  {
   "cell_type": "code",
   "execution_count": 28,
   "id": "bbb2d7a4",
   "metadata": {},
   "outputs": [
    {
     "name": "stdout",
     "output_type": "stream",
     "text": [
      "100 99 98 97 96 95 94 93 92 91 90 89 88 87 86 85 84 83 82 81 80 79 78 77 76 75 74 73 72 71 70 69 68 67 66 65 64 63 62 61 60 59 58 57 56 55 54 53 52 51 50 49 48 47 46 45 44 43 42 41 40 39 38 37 36 35 34 33 32 31 30 29 28 27 26 25 24 23 22 21 20 19 18 17 16 15 14 13 12 11 10 9 8 7 6 5 4 3 2 1 "
     ]
    }
   ],
   "source": [
    "# 슬라이싱을 이용한 역인덱싱\n",
    "for num in range(1,101)[::-1]:\n",
    "    print(num, end=' ')"
   ]
  },
  {
   "cell_type": "code",
   "execution_count": 31,
   "id": "f4ba6697",
   "metadata": {},
   "outputs": [
    {
     "name": "stdout",
     "output_type": "stream",
     "text": [
      "100 99 98 97 96 95 94 93 92 91 90 89 88 87 86 85 84 83 82 81 80 79 78 77 76 75 74 73 72 71 70 69 68 67 66 65 64 63 62 61 60 59 58 57 56 55 54 53 52 51 50 49 48 47 46 45 44 43 42 41 40 39 38 37 36 35 34 33 32 31 30 29 28 27 26 25 24 23 22 21 20 19 18 17 16 15 14 13 12 11 10 9 8 7 6 5 4 3 2 1 "
     ]
    }
   ],
   "source": [
    "# reversed() 함수\n",
    "for num in reversed(range(1,101)):\n",
    "    print(num, end=' ')"
   ]
  },
  {
   "cell_type": "code",
   "execution_count": 32,
   "id": "25e7a4d6",
   "metadata": {},
   "outputs": [
    {
     "name": "stdout",
     "output_type": "stream",
     "text": [
      "5 4 3 2 1 "
     ]
    }
   ],
   "source": [
    "# sorted( reverse=True) 함수\n",
    "for num in sorted([1,2,3,4,5],reverse=True):\n",
    "    print(num, end=' ')"
   ]
  },
  {
   "cell_type": "markdown",
   "id": "ab018b48",
   "metadata": {},
   "source": [
    "# enumerate() 반복문에서 자료의 인덱스를 만들어주는 함수"
   ]
  },
  {
   "cell_type": "code",
   "execution_count": 33,
   "id": "0886355d",
   "metadata": {},
   "outputs": [],
   "source": [
    "s = 'enumerate 함수는 반복문에서 index를 만들어 출력해 주는 함수입니다.'"
   ]
  },
  {
   "cell_type": "code",
   "execution_count": 34,
   "id": "ee9734c7",
   "metadata": {},
   "outputs": [],
   "source": [
    "import time"
   ]
  },
  {
   "cell_type": "code",
   "execution_count": 44,
   "id": "63b85c04",
   "metadata": {},
   "outputs": [
    {
     "name": "stdout",
     "output_type": "stream",
     "text": [
      "44/44 실행중\r"
     ]
    }
   ],
   "source": [
    "for idx, i in enumerate(s):\n",
    "    print(f'{idx+1}/{len(s)} 실행중', end='\\r')\n",
    "#     if idx%2==0:\n",
    "#     print(i, end=' ')\n",
    "    time.sleep(0.1)"
   ]
  },
  {
   "cell_type": "code",
   "execution_count": 46,
   "id": "5c245cfd",
   "metadata": {},
   "outputs": [
    {
     "name": "stdout",
     "output_type": "stream",
     "text": [
      "(0, 'e')\n",
      "(1, 'n')\n",
      "(2, 'u')\n",
      "(3, 'm')\n",
      "(4, 'e')\n",
      "(5, 'r')\n",
      "(6, 'a')\n",
      "(7, 't')\n",
      "(8, 'e')\n",
      "(9, ' ')\n",
      "(10, '함')\n",
      "(11, '수')\n",
      "(12, '는')\n",
      "(13, ' ')\n",
      "(14, '반')\n",
      "(15, '복')\n",
      "(16, '문')\n",
      "(17, '에')\n",
      "(18, '서')\n",
      "(19, ' ')\n",
      "(20, 'i')\n",
      "(21, 'n')\n",
      "(22, 'd')\n",
      "(23, 'e')\n",
      "(24, 'x')\n",
      "(25, '를')\n",
      "(26, ' ')\n",
      "(27, '만')\n",
      "(28, '들')\n",
      "(29, '어')\n",
      "(30, ' ')\n",
      "(31, '출')\n",
      "(32, '력')\n",
      "(33, '해')\n",
      "(34, ' ')\n",
      "(35, '주')\n",
      "(36, '는')\n",
      "(37, ' ')\n",
      "(38, '함')\n",
      "(39, '수')\n",
      "(40, '입')\n",
      "(41, '니')\n",
      "(42, '다')\n",
      "(43, '.')\n"
     ]
    }
   ],
   "source": [
    "for i in enumerate(s):\n",
    "#     print(f'{idx+1}/{len(s)} 실행중', end='\\r')\n",
    "#     if idx%2==0:\n",
    "    print(i)"
   ]
  },
  {
   "cell_type": "markdown",
   "id": "fd2b0bc7",
   "metadata": {},
   "source": [
    "# continue/ break\n",
    "* continue: 코드 실행을 건너 뛰고 반복을 계속 진행\n",
    "* break: 특정 조건이 되었을 때 반복문 정지"
   ]
  },
  {
   "cell_type": "code",
   "execution_count": 52,
   "id": "5e411304",
   "metadata": {},
   "outputs": [
    {
     "name": "stdout",
     "output_type": "stream",
     "text": [
      "1 n\n",
      "3 m\n",
      "5 r\n",
      "7 t\n",
      "9  \n",
      "11 수\n",
      "13  \n",
      "15 복\n",
      "17 에\n",
      "19  \n"
     ]
    }
   ],
   "source": [
    "for idx, i in enumerate(s):\n",
    "    if idx%2==0:\n",
    "        continue\n",
    "        print(idx, i)\n",
    "    else:\n",
    "        if idx >19:\n",
    "            break\n",
    "            pass\n",
    "        print(idx, i)"
   ]
  },
  {
   "cell_type": "code",
   "execution_count": 55,
   "id": "ac1aabb6",
   "metadata": {},
   "outputs": [
    {
     "name": "stdout",
     "output_type": "stream",
     "text": [
      "짝수의 리스트: [2, 4, 6, 8, 10, 12, 14, 16, 18, 20, 22, 24, 26, 28, 30, 32, 34, 36, 38, 40, 42, 44, 46, 48, 50, 52, 54, 56, 58, 60, 62, 64, 66, 68, 70]\n",
      "홀수의 합: 1225\n"
     ]
    }
   ],
   "source": [
    "# 1-100까지 숫자를 생성하고 홀수만 합계를 구하세요. \n",
    "# 짝수면 짝수만 모인 리스트를 마들고 출력하세요. \n",
    "# 숫자가 70을 초과하면 멈추세요.\n",
    "hap=0\n",
    "list=[]\n",
    "for i  in range(1,101):\n",
    "    if i >70: break\n",
    "    if i%2==0:\n",
    "        list.append(i)\n",
    "    else:\n",
    "         hap+=i \n",
    "print(f'짝수의 리스트: {list}')\n",
    "print(f'홀수의 합: {hap}')\n"
   ]
  },
  {
   "cell_type": "markdown",
   "id": "0189f087",
   "metadata": {},
   "source": [
    "# while: 반복할 횟수가 정해지지 않은 경우\n",
    "* 무한 반복 가능 \n",
    "* 무한 반복이 되지 않도록 조건식을 잘 짜주는 것이 중요 \n",
    "변수 선언 및 초기화  num=0<br>\n",
    "while 조건식:<br>\n",
    "____반복할 코드 <br>\n",
    "____변수 증가/감소 코드<br> \n",
    "____반복문이 종료되는 조건 + break"
   ]
  },
  {
   "cell_type": "markdown",
   "id": "817dc59d",
   "metadata": {},
   "source": [
    "* while 문으로 1-10까지 출력하기 "
   ]
  },
  {
   "cell_type": "code",
   "execution_count": 56,
   "id": "5db2b318",
   "metadata": {},
   "outputs": [
    {
     "name": "stdout",
     "output_type": "stream",
     "text": [
      "1 2 3 4 5 6 7 8 9 10 "
     ]
    }
   ],
   "source": [
    "num=1\n",
    "while num < 11:\n",
    "    print(num, end=\" \")\n",
    "    num+=1"
   ]
  },
  {
   "cell_type": "code",
   "execution_count": 57,
   "id": "df9f77ec",
   "metadata": {},
   "outputs": [
    {
     "name": "stdout",
     "output_type": "stream",
     "text": [
      "1 2 3 4 5 6 7 8 9 10 "
     ]
    }
   ],
   "source": [
    "num=1\n",
    "while True:\n",
    "    if num >10:\n",
    "        break\n",
    "    print(num, end=\" \")\n",
    "    num+=1\n",
    "    "
   ]
  },
  {
   "cell_type": "markdown",
   "id": "6ee84fd7",
   "metadata": {},
   "source": [
    "* 1-50까지 수 중에서 3의 배수이거나 짝수인 수를 찾아서 합계를 출력하세요. "
   ]
  },
  {
   "cell_type": "code",
   "execution_count": 64,
   "id": "bc37177d",
   "metadata": {},
   "outputs": [
    {
     "name": "stdout",
     "output_type": "stream",
     "text": [
      "842\n",
      "[4, 8, 12, 16, 20, 24, 28, 32, 36, 40, 44, 48]\n"
     ]
    }
   ],
   "source": [
    "num=1\n",
    "hap=0\n",
    "list_4s=[]\n",
    "while num <=50:\n",
    "    if num%3 ==0 or num%2 ==0:\n",
    "        hap+=num\n",
    "#     print(num)\n",
    "    if num%4==0:\n",
    "        list_4s.append(num)\n",
    "    num+=1\n",
    "print(hap)\n",
    "print(list_4s)"
   ]
  },
  {
   "cell_type": "markdown",
   "id": "9917d833",
   "metadata": {},
   "source": [
    "# while의 무한 반복\n",
    "* while 뒤의 조건이 True인 경우 무한 반복\n",
    "* while문 내에서 if 조건문으로 break를 걸어주어야 멈춤\n",
    "* True가 되는 조건: True, 1, 정수, 실수, 문자열, list 등 자료가 들어있는 모든 변수나 자료 \n",
    "* False가 되는 조건: False, 0, 0.0,\"\",'',[],(),{}"
   ]
  },
  {
   "cell_type": "code",
   "execution_count": null,
   "id": "bf2eb63f",
   "metadata": {},
   "outputs": [],
   "source": [
    "i=1\n",
    "while True:\n",
    "    print(i, '무한 반복')\n",
    "    i+=1"
   ]
  }
 ],
 "metadata": {
  "kernelspec": {
   "display_name": "Python 3 (ipykernel)",
   "language": "python",
   "name": "python3"
  },
  "language_info": {
   "codemirror_mode": {
    "name": "ipython",
    "version": 3
   },
   "file_extension": ".py",
   "mimetype": "text/x-python",
   "name": "python",
   "nbconvert_exporter": "python",
   "pygments_lexer": "ipython3",
   "version": "3.9.23"
  }
 },
 "nbformat": 4,
 "nbformat_minor": 5
}
