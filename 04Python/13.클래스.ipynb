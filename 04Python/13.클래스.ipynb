{
 "cells": [
  {
   "cell_type": "markdown",
   "id": "f32f6d6e",
   "metadata": {},
   "source": [
    "# 클래스\n",
    "* 객체지향 프로그래밍\n",
    "* 코드를 재사용하는데 특화 \n",
    "* 여러 사람이 이용할 때 같은 코드를 독립적으로 사용 가능\n",
    "* 캡슐화, 상속, 다형성 같은 개념 사용 \n"
   ]
  },
  {
   "cell_type": "markdown",
   "id": "f1ac178d",
   "metadata": {},
   "source": [
    "## 1) 절차적 프로그래밍\n",
    "* 프로그래밍을 순차적으로 하는 것\n",
    "* 코드가 위에서 아래로 절차적으로 실행 "
   ]
  },
  {
   "cell_type": "code",
   "execution_count": 1,
   "id": "ddca5aee",
   "metadata": {},
   "outputs": [
    {
     "name": "stdout",
     "output_type": "stream",
     "text": [
      "[1, 4, 9, 16]\n"
     ]
    }
   ],
   "source": [
    "# nums =[1,2,3,4] 의 각 요소를 제곱한 리스트를 출력하세요. \n",
    "nums=[1,2,3,4]\n",
    "squares =[]\n",
    "for i in nums:\n",
    "    squares.append(i**2)\n",
    "print(squares)"
   ]
  },
  {
   "cell_type": "markdown",
   "id": "3d6e003a",
   "metadata": {},
   "source": [
    "## 2) 함수형 프로그래밍\n",
    "* 여러 개의 함수를 작성해서 함수에 기반해 프로그래밍 실행\n",
    "* 코드의 재사용 가능\n",
    "* 유지보수가 쉬워짐\n",
    "* 버그 발생률이 낮고 예측 가능성이 높음\n",
    "* 병렬처리, 동시성 처리에 강함 - 멀티코어를 이용할 때 유리 "
   ]
  },
  {
   "cell_type": "code",
   "execution_count": 4,
   "id": "6a5e1572",
   "metadata": {},
   "outputs": [
    {
     "name": "stdout",
     "output_type": "stream",
     "text": [
      "[1, 4, 9, 16]\n"
     ]
    }
   ],
   "source": [
    "nums = [1,2,3,4]\n",
    "squares = list(map(lambda x : x**2, nums))\n",
    "print(squares)"
   ]
  },
  {
   "cell_type": "markdown",
   "id": "96a3f175",
   "metadata": {},
   "source": [
    "## 3) 객체지향형 프로그래밍\n",
    "* Java, C++ \n",
    "* 클래스 기반으로 프로그래밍\n",
    "* 코드를 재사용하는데 특화\n",
    "* 여러 사람이 이용할 때 같은 코드를 독립적으로 사용 가능\n"
   ]
  },
  {
   "cell_type": "code",
   "execution_count": 6,
   "id": "29dee9a2",
   "metadata": {},
   "outputs": [],
   "source": [
    "class NumberList():\n",
    "    def __init__(self, numbers):\n",
    "        self.numbers = numbers\n",
    "    def squared(self):\n",
    "        return [x**2 for x in self.numbers]"
   ]
  },
  {
   "cell_type": "code",
   "execution_count": 9,
   "id": "4342bab3",
   "metadata": {},
   "outputs": [
    {
     "data": {
      "text/plain": [
       "[1, 4, 9, 16]"
      ]
     },
     "execution_count": 9,
     "metadata": {},
     "output_type": "execute_result"
    }
   ],
   "source": [
    "squared = NumberList([1,2,3,4])\n",
    "squared.squared()"
   ]
  },
  {
   "cell_type": "markdown",
   "id": "41433bf2",
   "metadata": {},
   "source": [
    "# 클래스 만들기\n",
    "* 클래스 하나에 여러개의 함수(매서드)를 포함\n",
    "* 클래스 = 공장(커피머신 공장)  - 커피머신\n",
    "* 매서드 = 커피머신의 기능(에스프레소, 아메리카노, 카페라테, 스팀) "
   ]
  },
  {
   "cell_type": "markdown",
   "id": "2a1a3ced",
   "metadata": {},
   "source": [
    "# 클래스를 사용해야 하는 이유 "
   ]
  },
  {
   "cell_type": "code",
   "execution_count": 10,
   "id": "ac30b5a3",
   "metadata": {},
   "outputs": [],
   "source": [
    "# 더하기 함수 만들기 \n",
    "def add(num1, num2):\n",
    "    result = num1+num2\n",
    "    return result"
   ]
  },
  {
   "cell_type": "code",
   "execution_count": 11,
   "id": "244ce574",
   "metadata": {},
   "outputs": [
    {
     "data": {
      "text/plain": [
       "8"
      ]
     },
     "execution_count": 11,
     "metadata": {},
     "output_type": "execute_result"
    }
   ],
   "source": [
    "add(3,5)"
   ]
  },
  {
   "cell_type": "markdown",
   "id": "3f2da77a",
   "metadata": {},
   "source": [
    "* 이전에 계산했던 결과를 기억하는 계산기"
   ]
  },
  {
   "cell_type": "code",
   "execution_count": 16,
   "id": "cdd5a99c",
   "metadata": {},
   "outputs": [],
   "source": [
    "result_cal =0 \n",
    "def add(num, result_cal):\n",
    "    print('result_cal: ', result_cal)\n",
    "    result_cal += num \n",
    "    return result_cal "
   ]
  },
  {
   "cell_type": "code",
   "execution_count": 17,
   "id": "dd1c973d",
   "metadata": {},
   "outputs": [
    {
     "name": "stdout",
     "output_type": "stream",
     "text": [
      "result_cal:  0\n"
     ]
    },
    {
     "data": {
      "text/plain": [
       "10"
      ]
     },
     "execution_count": 17,
     "metadata": {},
     "output_type": "execute_result"
    }
   ],
   "source": [
    "add(10, result_cal)"
   ]
  },
  {
   "cell_type": "code",
   "execution_count": 18,
   "id": "9d0f81b0",
   "metadata": {},
   "outputs": [
    {
     "name": "stdout",
     "output_type": "stream",
     "text": [
      "result_cal:  0\n"
     ]
    },
    {
     "data": {
      "text/plain": [
       "5"
      ]
     },
     "execution_count": 18,
     "metadata": {},
     "output_type": "execute_result"
    }
   ],
   "source": [
    "add(5, result_cal)"
   ]
  },
  {
   "cell_type": "markdown",
   "id": "2b843d2e",
   "metadata": {},
   "source": [
    "* 지역 변수를 전역변수로 변경"
   ]
  },
  {
   "cell_type": "code",
   "execution_count": 21,
   "id": "533d26f2",
   "metadata": {},
   "outputs": [],
   "source": [
    "result_cal =0 \n",
    "def add2(num):\n",
    "    global result_cal\n",
    "    print('result_cal: ', result_cal)\n",
    "    result_cal += num \n",
    "    return result_cal "
   ]
  },
  {
   "cell_type": "code",
   "execution_count": 22,
   "id": "054888a1",
   "metadata": {},
   "outputs": [
    {
     "name": "stdout",
     "output_type": "stream",
     "text": [
      "result_cal:  0\n"
     ]
    },
    {
     "data": {
      "text/plain": [
       "10"
      ]
     },
     "execution_count": 22,
     "metadata": {},
     "output_type": "execute_result"
    }
   ],
   "source": [
    "add2(10)"
   ]
  },
  {
   "cell_type": "code",
   "execution_count": 23,
   "id": "db3f9541",
   "metadata": {},
   "outputs": [
    {
     "name": "stdout",
     "output_type": "stream",
     "text": [
      "result_cal:  10\n"
     ]
    },
    {
     "data": {
      "text/plain": [
       "25"
      ]
     },
     "execution_count": 23,
     "metadata": {},
     "output_type": "execute_result"
    }
   ],
   "source": [
    "add2(15)"
   ]
  },
  {
   "cell_type": "markdown",
   "id": "454209b3",
   "metadata": {},
   "source": [
    "* 만약 mul 함수를 길동잉하 둘리가 동시에 같이 쓰고 다면?\n",
    "* 함수를 여러개 만들면 된다.\n",
    "* 사용자가 많을 경우 매우 비효율적이 된다\n",
    "* 하나의 코드로 여러 사함이 이용해도 독립적으로 작동하게 하는 것이 클래스"
   ]
  },
  {
   "cell_type": "code",
   "execution_count": null,
   "id": "f5ce78c3",
   "metadata": {},
   "outputs": [],
   "source": [
    "result_cal =0 \n",
    "def add_gildong(num):\n",
    "    global result_cal\n",
    "    print('result_cal: ', result_cal)\n",
    "    result_cal += num \n",
    "    return result_cal \n"
   ]
  },
  {
   "cell_type": "code",
   "execution_count": null,
   "id": "0c910e95",
   "metadata": {},
   "outputs": [],
   "source": [
    "def add_duli(num):\n",
    "    global result_cal\n",
    "    print('result_cal: ', result_cal)\n",
    "    result_cal += num \n",
    "    return result_cal "
   ]
  },
  {
   "cell_type": "markdown",
   "id": "b69ee2a4",
   "metadata": {},
   "source": [
    "# 클래스 만들기\n",
    "* 클래스의 이름은 대문자로 시작하는 카멜표기법으로 만든다.  class CalcGildong()\n",
    "class 클래스명():<br>\n",
    "____def 매소드명1():<br>\n",
    "________실행할 코드<br>\n",
    "________return<br>\n",
    "____def 매소드명2():<br>\n",
    "________실행할 코드<br>\n",
    "________return<br>"
   ]
  },
  {
   "cell_type": "code",
   "execution_count": 25,
   "id": "a912f565",
   "metadata": {},
   "outputs": [],
   "source": [
    "class Calc():\n",
    "    def __init__(self):\n",
    "        self.result =0\n",
    "    def add(self, num):\n",
    "        self.result +=num\n",
    "        return self.result"
   ]
  },
  {
   "cell_type": "markdown",
   "id": "2328cfc9",
   "metadata": {},
   "source": [
    "# 인스턴스\n",
    "* 만들어진 클래스를 변수에 담는 것\n",
    "* 만들어진 물건을 사용자에게 배송 "
   ]
  },
  {
   "cell_type": "code",
   "execution_count": 26,
   "id": "6112e35c",
   "metadata": {},
   "outputs": [],
   "source": [
    "gil = Calc()"
   ]
  },
  {
   "cell_type": "code",
   "execution_count": 27,
   "id": "ed89ccaa",
   "metadata": {},
   "outputs": [
    {
     "data": {
      "text/plain": [
       "5"
      ]
     },
     "execution_count": 27,
     "metadata": {},
     "output_type": "execute_result"
    }
   ],
   "source": [
    "gil.add(5)"
   ]
  },
  {
   "cell_type": "code",
   "execution_count": 28,
   "id": "61a71875",
   "metadata": {},
   "outputs": [
    {
     "data": {
      "text/plain": [
       "15"
      ]
     },
     "execution_count": 28,
     "metadata": {},
     "output_type": "execute_result"
    }
   ],
   "source": [
    "gil.add(10)"
   ]
  },
  {
   "cell_type": "code",
   "execution_count": 29,
   "id": "0094c475",
   "metadata": {},
   "outputs": [
    {
     "data": {
      "text/plain": [
       "35"
      ]
     },
     "execution_count": 29,
     "metadata": {},
     "output_type": "execute_result"
    }
   ],
   "source": [
    "gil.add(20)"
   ]
  },
  {
   "cell_type": "code",
   "execution_count": 30,
   "id": "afc15474",
   "metadata": {},
   "outputs": [],
   "source": [
    "dul = Calc()"
   ]
  },
  {
   "cell_type": "code",
   "execution_count": 31,
   "id": "fc459146",
   "metadata": {},
   "outputs": [
    {
     "data": {
      "text/plain": [
       "100"
      ]
     },
     "execution_count": 31,
     "metadata": {},
     "output_type": "execute_result"
    }
   ],
   "source": [
    "dul.add(100)"
   ]
  },
  {
   "cell_type": "markdown",
   "id": "47dfdc23",
   "metadata": {},
   "source": [
    "# 클래스 사용방법\n",
    "* 변수에 클래스를 담아서 인스턴스 생성(배송)\n",
    "* 공장에서 만든 커피머신을 사용자에게 배송(인스턴스) \n",
    "* 인스턴스 변수명 = 클래스명() => 인스턴스 생성 \n",
    "* 인스턴스를 생성하면 인스턴스변수명.메소드명으로 클래스에 정의한 메소드는 사용할 수 있다."
   ]
  },
  {
   "cell_type": "markdown",
   "id": "645859e6",
   "metadata": {},
   "source": [
    "# 메소드(method)\n",
    "* 클래스 안에 정의하는 함수\n",
    "* 클래스에 기능을 만들어 준다\n",
    "* def 메소드명(self, 매개변수1, 매개변수2, **kwargs):<br>\n",
    "____self.매개변수 = 매개변수"
   ]
  },
  {
   "cell_type": "code",
   "execution_count": 41,
   "id": "103ed161",
   "metadata": {},
   "outputs": [],
   "source": [
    "class FourCal():\n",
    "    #데이터 입력을 받는 역할의 setdata method\n",
    "    def setdata(self, num1, *num2):\n",
    "        self.num1=num1\n",
    "        self.num2=num2\n",
    "        print(\"self.num1\", self.num1)\n",
    "        print(\"self.num2\", self.num2)"
   ]
  },
  {
   "cell_type": "code",
   "execution_count": 33,
   "id": "983307c8",
   "metadata": {},
   "outputs": [],
   "source": [
    "sam = FourCal()"
   ]
  },
  {
   "cell_type": "code",
   "execution_count": 34,
   "id": "ecb6f9fd",
   "metadata": {},
   "outputs": [
    {
     "name": "stdout",
     "output_type": "stream",
     "text": [
      "self.num1 1\n",
      "self.num1 (2, 3, 4)\n"
     ]
    }
   ],
   "source": [
    "sam.setdata(1,2,3,4)"
   ]
  },
  {
   "cell_type": "code",
   "execution_count": 35,
   "id": "74b60b42",
   "metadata": {},
   "outputs": [],
   "source": [
    "dul = FourCal()"
   ]
  },
  {
   "cell_type": "code",
   "execution_count": 36,
   "id": "c530c5f6",
   "metadata": {},
   "outputs": [
    {
     "name": "stdout",
     "output_type": "stream",
     "text": [
      "self.num1 5\n",
      "self.num1 (6, 7, 8)\n"
     ]
    }
   ],
   "source": [
    "dul.setdata(5,6,7,8)"
   ]
  },
  {
   "cell_type": "markdown",
   "id": "88c3c317",
   "metadata": {},
   "source": [
    "# 클래스에 기능 추가하기"
   ]
  },
  {
   "cell_type": "code",
   "execution_count": 42,
   "id": "fc855818",
   "metadata": {},
   "outputs": [],
   "source": [
    "class FourCal():\n",
    "    #데이터 입력을 받는 역할의 setdata method\n",
    "    def setdata(self, num1, num2):\n",
    "        self.num1=num1\n",
    "        self.num2=num2\n",
    "        print(\"self.num1:\", self.num1)\n",
    "        print(\"self.num2:\", self.num2)\n",
    "        \n",
    "    #덧셈\n",
    "    def add(self):\n",
    "        result = self.num1 + self.num2\n",
    "        return result\n",
    "    def sub(self):\n",
    "        result = self.num1 - self.num2\n",
    "        return result\n",
    "    def mul(self):\n",
    "        result = self.num1 * self.num2\n",
    "        return result\n",
    "    def div(self):\n",
    "        result = self.num1 / self.num2\n",
    "        return result"
   ]
  },
  {
   "cell_type": "code",
   "execution_count": 43,
   "id": "ad46498f",
   "metadata": {},
   "outputs": [],
   "source": [
    "sam = FourCal()"
   ]
  },
  {
   "cell_type": "code",
   "execution_count": 44,
   "id": "dc74b2d0",
   "metadata": {},
   "outputs": [
    {
     "name": "stdout",
     "output_type": "stream",
     "text": [
      "self.num1: 3\n",
      "self.num2: 5\n"
     ]
    }
   ],
   "source": [
    "sam.setdata(3,5)"
   ]
  },
  {
   "cell_type": "code",
   "execution_count": 45,
   "id": "92a8a27d",
   "metadata": {},
   "outputs": [
    {
     "data": {
      "text/plain": [
       "8"
      ]
     },
     "execution_count": 45,
     "metadata": {},
     "output_type": "execute_result"
    }
   ],
   "source": [
    "sam.add()"
   ]
  },
  {
   "cell_type": "code",
   "execution_count": 46,
   "id": "19943a84",
   "metadata": {},
   "outputs": [
    {
     "data": {
      "text/plain": [
       "-2"
      ]
     },
     "execution_count": 46,
     "metadata": {},
     "output_type": "execute_result"
    }
   ],
   "source": [
    "sam.sub()"
   ]
  },
  {
   "cell_type": "code",
   "execution_count": 47,
   "id": "cc638663",
   "metadata": {},
   "outputs": [
    {
     "data": {
      "text/plain": [
       "15"
      ]
     },
     "execution_count": 47,
     "metadata": {},
     "output_type": "execute_result"
    }
   ],
   "source": [
    "sam.mul()"
   ]
  },
  {
   "cell_type": "code",
   "execution_count": 48,
   "id": "e51e4b8e",
   "metadata": {},
   "outputs": [
    {
     "data": {
      "text/plain": [
       "0.6"
      ]
     },
     "execution_count": 48,
     "metadata": {},
     "output_type": "execute_result"
    }
   ],
   "source": [
    "sam.div()"
   ]
  },
  {
   "cell_type": "markdown",
   "id": "bb1ed745",
   "metadata": {},
   "source": [
    "# 생성자\n",
    "* 클래스를 실행해서 인스턴스를 만들 때 자동실행되고 초기값을 받도록 해주는 메소드 \n",
    "* 생성자(constuctor)는 객체(인스턴스)가 생성될 때 자동으로 호출되는 메서드, 주로 초기값을 받을 때 사용\n",
    "* 클래스 내에서 메서드명으로 __init__를 사용하면 그것이 생성자가 된다. \n",
    "* 생성자를 이용해 초기값을 받는 FourCal2"
   ]
  },
  {
   "cell_type": "code",
   "execution_count": 51,
   "id": "80223ced",
   "metadata": {},
   "outputs": [],
   "source": [
    "class FourCal2():\n",
    "    #데이터 입력을 받는 역할의 setdata method\n",
    "    def __init__(self, num1, num2):\n",
    "        self.num1=num1\n",
    "        self.num2=num2\n",
    "        \n",
    "    #덧셈\n",
    "    def add(self):\n",
    "        result = self.num1 + self.num2\n",
    "        return result\n",
    "    def sub(self):\n",
    "        result = self.num1 - self.num2\n",
    "        return result\n",
    "    def mul(self):\n",
    "        result = self.num1 * self.num2\n",
    "        return result\n",
    "    def div(self):\n",
    "        result = self.num1 / self.num2\n",
    "        return result"
   ]
  },
  {
   "cell_type": "code",
   "execution_count": 52,
   "id": "a343a10e",
   "metadata": {},
   "outputs": [],
   "source": [
    "gil = FourCal2(3,5)"
   ]
  },
  {
   "cell_type": "code",
   "execution_count": 53,
   "id": "76f98180",
   "metadata": {},
   "outputs": [
    {
     "data": {
      "text/plain": [
       "8"
      ]
     },
     "execution_count": 53,
     "metadata": {},
     "output_type": "execute_result"
    }
   ],
   "source": [
    "gil.add()"
   ]
  },
  {
   "cell_type": "code",
   "execution_count": 54,
   "id": "e6b5d694",
   "metadata": {},
   "outputs": [
    {
     "data": {
      "text/plain": [
       "-2"
      ]
     },
     "execution_count": 54,
     "metadata": {},
     "output_type": "execute_result"
    }
   ],
   "source": [
    "gil.sub()"
   ]
  },
  {
   "cell_type": "code",
   "execution_count": 55,
   "id": "d664e245",
   "metadata": {},
   "outputs": [
    {
     "data": {
      "text/plain": [
       "15"
      ]
     },
     "execution_count": 55,
     "metadata": {},
     "output_type": "execute_result"
    }
   ],
   "source": [
    "gil.mul()"
   ]
  },
  {
   "cell_type": "code",
   "execution_count": 56,
   "id": "65ffbed3",
   "metadata": {},
   "outputs": [
    {
     "data": {
      "text/plain": [
       "0.6"
      ]
     },
     "execution_count": 56,
     "metadata": {},
     "output_type": "execute_result"
    }
   ],
   "source": [
    "gil.div()"
   ]
  },
  {
   "cell_type": "markdown",
   "id": "bd399ab5",
   "metadata": {},
   "source": [
    "# 클래스의 상속 \n",
    "* 어떤 클래스를 만들 때 다른 클래스의 기능을 물려받는 것\n",
    "* 기존 클래스에 기능을 추가할 때, 기능을 변경할 때 \n",
    "* A클래스를 상속받아 B클래스를 생성하면 B클래스는 A클래스의 모든 기능을 사용할 수 있다. \n",
    "\n",
    "* FourCal2을 상속받아 제곱기능을 추가한 MoreFourCal 만들기"
   ]
  },
  {
   "cell_type": "code",
   "execution_count": 57,
   "id": "adc87dec",
   "metadata": {},
   "outputs": [],
   "source": [
    "class MoreFourCal(FourCal2):\n",
    "    def pow(self):\n",
    "        result = self.num1**self.num2\n",
    "        return result"
   ]
  },
  {
   "cell_type": "code",
   "execution_count": 58,
   "id": "c6630c25",
   "metadata": {},
   "outputs": [],
   "source": [
    "dul = MoreFourCal(3,5)"
   ]
  },
  {
   "cell_type": "code",
   "execution_count": 59,
   "id": "5c72773b",
   "metadata": {},
   "outputs": [
    {
     "data": {
      "text/plain": [
       "243"
      ]
     },
     "execution_count": 59,
     "metadata": {},
     "output_type": "execute_result"
    }
   ],
   "source": [
    "dul.pow()"
   ]
  },
  {
   "cell_type": "code",
   "execution_count": 60,
   "id": "1df94701",
   "metadata": {},
   "outputs": [
    {
     "data": {
      "text/plain": [
       "8"
      ]
     },
     "execution_count": 60,
     "metadata": {},
     "output_type": "execute_result"
    }
   ],
   "source": [
    "dul.add()"
   ]
  },
  {
   "cell_type": "code",
   "execution_count": 61,
   "id": "9a0863eb",
   "metadata": {},
   "outputs": [
    {
     "data": {
      "text/plain": [
       "-2"
      ]
     },
     "execution_count": 61,
     "metadata": {},
     "output_type": "execute_result"
    }
   ],
   "source": [
    "dul.sub()"
   ]
  },
  {
   "cell_type": "code",
   "execution_count": 62,
   "id": "211cb020",
   "metadata": {},
   "outputs": [
    {
     "data": {
      "text/plain": [
       "15"
      ]
     },
     "execution_count": 62,
     "metadata": {},
     "output_type": "execute_result"
    }
   ],
   "source": [
    "dul.mul()"
   ]
  },
  {
   "cell_type": "markdown",
   "id": "ae5d3d58",
   "metadata": {},
   "source": [
    "# 메서드 오버라이딩(methode overriding)\n",
    "* 부모 클래스에서 상속한 메서드를 자식 클래스에서 동일한 이름으로 재정의\n",
    "* 기존에 있던 메서드의 기능을 수정할 때 사용 "
   ]
  },
  {
   "cell_type": "code",
   "execution_count": 64,
   "id": "8960c04f",
   "metadata": {},
   "outputs": [],
   "source": [
    "kim = FourCal2(4,0)"
   ]
  },
  {
   "cell_type": "code",
   "execution_count": 65,
   "id": "b5baa116",
   "metadata": {},
   "outputs": [
    {
     "data": {
      "text/plain": [
       "4"
      ]
     },
     "execution_count": 65,
     "metadata": {},
     "output_type": "execute_result"
    }
   ],
   "source": [
    "kim.add()"
   ]
  },
  {
   "cell_type": "code",
   "execution_count": 66,
   "id": "ed09681e",
   "metadata": {},
   "outputs": [
    {
     "data": {
      "text/plain": [
       "4"
      ]
     },
     "execution_count": 66,
     "metadata": {},
     "output_type": "execute_result"
    }
   ],
   "source": [
    "kim.sub()"
   ]
  },
  {
   "cell_type": "code",
   "execution_count": 67,
   "id": "de894918",
   "metadata": {},
   "outputs": [
    {
     "data": {
      "text/plain": [
       "0"
      ]
     },
     "execution_count": 67,
     "metadata": {},
     "output_type": "execute_result"
    }
   ],
   "source": [
    "kim.mul()"
   ]
  },
  {
   "cell_type": "code",
   "execution_count": 68,
   "id": "b4637b39",
   "metadata": {
    "scrolled": true
   },
   "outputs": [
    {
     "ename": "ZeroDivisionError",
     "evalue": "division by zero",
     "output_type": "error",
     "traceback": [
      "\u001b[1;31m---------------------------------------------------------------------------\u001b[0m",
      "\u001b[1;31mZeroDivisionError\u001b[0m                         Traceback (most recent call last)",
      "Cell \u001b[1;32mIn[68], line 1\u001b[0m\n\u001b[1;32m----> 1\u001b[0m \u001b[43mkim\u001b[49m\u001b[38;5;241;43m.\u001b[39;49m\u001b[43mdiv\u001b[49m\u001b[43m(\u001b[49m\u001b[43m)\u001b[49m\n",
      "Cell \u001b[1;32mIn[51], line 18\u001b[0m, in \u001b[0;36mFourCal2.div\u001b[1;34m(self)\u001b[0m\n\u001b[0;32m     17\u001b[0m \u001b[38;5;28;01mdef\u001b[39;00m\u001b[38;5;250m \u001b[39m\u001b[38;5;21mdiv\u001b[39m(\u001b[38;5;28mself\u001b[39m):\n\u001b[1;32m---> 18\u001b[0m     result \u001b[38;5;241m=\u001b[39m \u001b[38;5;28;43mself\u001b[39;49m\u001b[38;5;241;43m.\u001b[39;49m\u001b[43mnum1\u001b[49m\u001b[43m \u001b[49m\u001b[38;5;241;43m/\u001b[39;49m\u001b[43m \u001b[49m\u001b[38;5;28;43mself\u001b[39;49m\u001b[38;5;241;43m.\u001b[39;49m\u001b[43mnum2\u001b[49m\n\u001b[0;32m     19\u001b[0m     \u001b[38;5;28;01mreturn\u001b[39;00m result\n",
      "\u001b[1;31mZeroDivisionError\u001b[0m: division by zero"
     ]
    }
   ],
   "source": [
    "kim.div()"
   ]
  },
  {
   "cell_type": "code",
   "execution_count": 69,
   "id": "a4dc962e",
   "metadata": {},
   "outputs": [],
   "source": [
    "class SafeFourCal(FourCal2):\n",
    "    def div(self):\n",
    "        if self.num2 ==0:\n",
    "            return 0\n",
    "        else:\n",
    "            return self.num1/self.num2"
   ]
  },
  {
   "cell_type": "code",
   "execution_count": 71,
   "id": "cbf360f7",
   "metadata": {},
   "outputs": [
    {
     "data": {
      "text/plain": [
       "0"
      ]
     },
     "execution_count": 71,
     "metadata": {},
     "output_type": "execute_result"
    }
   ],
   "source": [
    "kim = SafeFourCal(5,0)\n",
    "kim.div()"
   ]
  },
  {
   "cell_type": "markdown",
   "id": "15290834",
   "metadata": {},
   "source": [
    "# 메서드 오버로딩\n",
    "* 한 클래스 안에서 동일한 이름의 매서드의 기능을 다르게 재정의\n",
    "* 동일한 이름의 메서드가 기능이 약간 변경된 채로 여러 개 존재 "
   ]
  },
  {
   "cell_type": "code",
   "execution_count": 74,
   "id": "5288c3f0",
   "metadata": {},
   "outputs": [],
   "source": [
    "class OverLoading():\n",
    "\n",
    "    def add(self, x,y,z):\n",
    "        return x+y+z\n",
    "    def add(self,x,y,z,a):\n",
    "        return x+y+z+a\n",
    "    def add(self,x,y):\n",
    "        return x + y"
   ]
  },
  {
   "cell_type": "code",
   "execution_count": 75,
   "id": "249d57ab",
   "metadata": {},
   "outputs": [
    {
     "data": {
      "text/plain": [
       "7"
      ]
     },
     "execution_count": 75,
     "metadata": {},
     "output_type": "execute_result"
    }
   ],
   "source": [
    "sam = OverLoading()\n",
    "sam.add(3,4)"
   ]
  },
  {
   "cell_type": "markdown",
   "id": "3360eefb",
   "metadata": {},
   "source": [
    "multipledispatch 패키지를 통한 매서드 오버로딩"
   ]
  },
  {
   "cell_type": "code",
   "execution_count": 76,
   "id": "ad18ad88",
   "metadata": {},
   "outputs": [
    {
     "name": "stdout",
     "output_type": "stream",
     "text": [
      "Collecting multipledispatch\n",
      "  Downloading multipledispatch-1.0.0-py3-none-any.whl.metadata (3.8 kB)\n",
      "Downloading multipledispatch-1.0.0-py3-none-any.whl (12 kB)\n",
      "Installing collected packages: multipledispatch\n",
      "Successfully installed multipledispatch-1.0.0\n"
     ]
    }
   ],
   "source": [
    "!pip install multipledispatch"
   ]
  },
  {
   "cell_type": "code",
   "execution_count": 77,
   "id": "68af0084",
   "metadata": {},
   "outputs": [],
   "source": [
    "from multipledispatch import dispatch"
   ]
  },
  {
   "cell_type": "code",
   "execution_count": 79,
   "id": "8b2db353",
   "metadata": {},
   "outputs": [],
   "source": [
    "class OverLoading2():\n",
    "    @dispatch(int,int,int)\n",
    "    def add(self, x,y,z):\n",
    "        return x+y+z\n",
    "    @dispatch(int,int,int,int)\n",
    "    def add(self,x,y,z,a):\n",
    "        return x+y+z+a\n",
    "    @dispatch(int,int)\n",
    "    def add(self,x,y):\n",
    "        return x + y"
   ]
  },
  {
   "cell_type": "code",
   "execution_count": 80,
   "id": "9843d891",
   "metadata": {},
   "outputs": [
    {
     "data": {
      "text/plain": [
       "18"
      ]
     },
     "execution_count": 80,
     "metadata": {},
     "output_type": "execute_result"
    }
   ],
   "source": [
    "sam = OverLoading2()\n",
    "sam.add(3,4,5,6)"
   ]
  },
  {
   "cell_type": "markdown",
   "id": "6af7860b",
   "metadata": {},
   "source": [
    "# 클래스 속성과 인스턴스 속성\n",
    "* 클래스 속성: 클래스 전체에서 공유하는 속성(변수), 모든 인스턴스에서 공유 \n",
    "* 인스턴스 속성: 인스턴스에서만 사용하는 속성, 인스턴스 공유 안됨"
   ]
  },
  {
   "cell_type": "code",
   "execution_count": 81,
   "id": "c84373d5",
   "metadata": {},
   "outputs": [],
   "source": [
    "class DoorLock():\n",
    "    #클래스 속성 \n",
    "    password='0000'"
   ]
  },
  {
   "cell_type": "code",
   "execution_count": 83,
   "id": "8feb5c62",
   "metadata": {},
   "outputs": [],
   "source": [
    "dul = DoorLock()"
   ]
  },
  {
   "cell_type": "code",
   "execution_count": 84,
   "id": "4ad7aac5",
   "metadata": {},
   "outputs": [
    {
     "data": {
      "text/plain": [
       "'0000'"
      ]
     },
     "execution_count": 84,
     "metadata": {},
     "output_type": "execute_result"
    }
   ],
   "source": [
    "dul.password"
   ]
  },
  {
   "cell_type": "markdown",
   "id": "5199a00c",
   "metadata": {},
   "source": [
    "park의 인스턴스 속성(비번 변경) "
   ]
  },
  {
   "cell_type": "code",
   "execution_count": 85,
   "id": "061d0ae1",
   "metadata": {},
   "outputs": [],
   "source": [
    "park = DoorLock()"
   ]
  },
  {
   "cell_type": "code",
   "execution_count": 87,
   "id": "fee17cd2",
   "metadata": {},
   "outputs": [],
   "source": [
    "# 인스턴스 속성으로 변경 \n",
    "park.password ='1234'"
   ]
  },
  {
   "cell_type": "code",
   "execution_count": 88,
   "id": "0755f494",
   "metadata": {
    "scrolled": true
   },
   "outputs": [
    {
     "data": {
      "text/plain": [
       "'1234'"
      ]
     },
     "execution_count": 88,
     "metadata": {},
     "output_type": "execute_result"
    }
   ],
   "source": [
    "park.password"
   ]
  },
  {
   "cell_type": "code",
   "execution_count": 89,
   "id": "8ea50c0d",
   "metadata": {},
   "outputs": [
    {
     "data": {
      "text/plain": [
       "'0000'"
      ]
     },
     "execution_count": 89,
     "metadata": {},
     "output_type": "execute_result"
    }
   ],
   "source": [
    "DoorLock.password"
   ]
  },
  {
   "cell_type": "markdown",
   "id": "66ad626f",
   "metadata": {},
   "source": [
    "# 비공개 클래스 속성\n",
    "* __변수명 - 비공개 속성 변수\n",
    "* 보안이 필요해서 남들에게 정보를 노출하고 싶지 않을 때 사용 "
   ]
  },
  {
   "cell_type": "code",
   "execution_count": 100,
   "id": "f4b66666",
   "metadata": {},
   "outputs": [],
   "source": [
    "class Pinfo():\n",
    "    lastname ='홍'\n",
    "    __first_name ='길동'\n",
    "    __password = '9513'"
   ]
  },
  {
   "cell_type": "code",
   "execution_count": 101,
   "id": "51273489",
   "metadata": {},
   "outputs": [
    {
     "data": {
      "text/plain": [
       "'홍'"
      ]
     },
     "execution_count": 101,
     "metadata": {},
     "output_type": "execute_result"
    }
   ],
   "source": [
    "Pinfo.lastname"
   ]
  },
  {
   "cell_type": "code",
   "execution_count": 102,
   "id": "a58894ca",
   "metadata": {},
   "outputs": [
    {
     "ename": "AttributeError",
     "evalue": "type object 'Pinfo' has no attribute '__first_name'",
     "output_type": "error",
     "traceback": [
      "\u001b[1;31m---------------------------------------------------------------------------\u001b[0m",
      "\u001b[1;31mAttributeError\u001b[0m                            Traceback (most recent call last)",
      "Cell \u001b[1;32mIn[102], line 1\u001b[0m\n\u001b[1;32m----> 1\u001b[0m \u001b[43mPinfo\u001b[49m\u001b[38;5;241;43m.\u001b[39;49m\u001b[43m__first_name\u001b[49m\n",
      "\u001b[1;31mAttributeError\u001b[0m: type object 'Pinfo' has no attribute '__first_name'"
     ]
    }
   ],
   "source": [
    "Pinfo.__first_name"
   ]
  },
  {
   "cell_type": "code",
   "execution_count": 103,
   "id": "b37e5a4a",
   "metadata": {},
   "outputs": [],
   "source": [
    "hong = Pinfo()"
   ]
  },
  {
   "cell_type": "code",
   "execution_count": 104,
   "id": "55e5e925",
   "metadata": {},
   "outputs": [
    {
     "data": {
      "text/plain": [
       "'홍'"
      ]
     },
     "execution_count": 104,
     "metadata": {},
     "output_type": "execute_result"
    }
   ],
   "source": [
    "hong.lastname"
   ]
  },
  {
   "cell_type": "code",
   "execution_count": 105,
   "id": "17c7b565",
   "metadata": {},
   "outputs": [
    {
     "ename": "AttributeError",
     "evalue": "'Pinfo' object has no attribute '__first_name'",
     "output_type": "error",
     "traceback": [
      "\u001b[1;31m---------------------------------------------------------------------------\u001b[0m",
      "\u001b[1;31mAttributeError\u001b[0m                            Traceback (most recent call last)",
      "Cell \u001b[1;32mIn[105], line 1\u001b[0m\n\u001b[1;32m----> 1\u001b[0m \u001b[43mhong\u001b[49m\u001b[38;5;241;43m.\u001b[39;49m\u001b[43m__first_name\u001b[49m\n",
      "\u001b[1;31mAttributeError\u001b[0m: 'Pinfo' object has no attribute '__first_name'"
     ]
    }
   ],
   "source": [
    "hong.__first_name"
   ]
  },
  {
   "cell_type": "markdown",
   "id": "d7d8f81d",
   "metadata": {},
   "source": [
    "* 비공개 클래스 속성을 직접 출력하려고 하면 에러\n",
    "* 클래스 내에서 메서드를 만들어서 출력하면 출력 가능"
   ]
  },
  {
   "cell_type": "code",
   "execution_count": 106,
   "id": "b737d64c",
   "metadata": {},
   "outputs": [],
   "source": [
    "class Pinfo():\n",
    "    lastname ='홍'\n",
    "    __first_name ='길동'\n",
    "    __password = '9513'\n",
    "    \n",
    "    def print_name(self):\n",
    "        print(self.__first_name)\n",
    "    def print_password(self):\n",
    "        print(self.__password)"
   ]
  },
  {
   "cell_type": "code",
   "execution_count": 107,
   "id": "1bf63312",
   "metadata": {},
   "outputs": [],
   "source": [
    "sam = Pinfo()"
   ]
  },
  {
   "cell_type": "code",
   "execution_count": 108,
   "id": "62bc6519",
   "metadata": {},
   "outputs": [
    {
     "name": "stdout",
     "output_type": "stream",
     "text": [
      "길동\n"
     ]
    }
   ],
   "source": [
    "sam.print_name()"
   ]
  },
  {
   "cell_type": "markdown",
   "id": "621f2353",
   "metadata": {},
   "source": [
    "# 정적 메서드 static method\n",
    "* 인스턴스를 만들지 않고도 클래스의 메서드를 바로 사용할 수 있는 메서드\n",
    "* 메서드 위에 @staticmethod라는 데코레이터를 붙여서 만든다. \n",
    "* static method는 self를 받지 않으므로 인스턴스 속성, 인스턴스 메서드가 필요하지 않을 때 사용"
   ]
  },
  {
   "cell_type": "code",
   "execution_count": null,
   "id": "da93c064",
   "metadata": {},
   "outputs": [],
   "source": []
  }
 ],
 "metadata": {
  "kernelspec": {
   "display_name": "Python 3 (ipykernel)",
   "language": "python",
   "name": "python3"
  },
  "language_info": {
   "codemirror_mode": {
    "name": "ipython",
    "version": 3
   },
   "file_extension": ".py",
   "mimetype": "text/x-python",
   "name": "python",
   "nbconvert_exporter": "python",
   "pygments_lexer": "ipython3",
   "version": "3.9.23"
  }
 },
 "nbformat": 4,
 "nbformat_minor": 5
}
