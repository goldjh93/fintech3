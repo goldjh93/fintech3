{
 "cells": [
  {
   "cell_type": "markdown",
   "id": "d8ec4db5",
   "metadata": {},
   "source": [
    "# 변수\n",
    "* 자료를 감는 택배상자\n",
    "* 택배상자에는 자료를 1개만 넣을 수 있다. \n",
    "* 변수는 영문과 숫자를 조합해서 만들 수 있다. \n",
    "* 변수명의 시작은 반드시 영문자로 시작 or \\_영문자로 시작\n",
    "* 변수명이 숫자로 시작하거나 -같은 특수문자로 시작하면 오류\n",
    "* **예약어(이미 파이썬에서 사용하고 있는 함수명. 문법용 단어 ex) for, list, if, id)**는 변수명으로 사용할 수 없다. \n",
    "    * **주의!!** 파이썬에서는 예약어를 써도 변수가 만들어 진다. \n",
    "    * 예약어로 변수를 만들지 않도록 주의!!\n",
    "* 변수명은 스네이크 표기법으로 작성한다. "
   ]
  },
  {
   "cell_type": "code",
   "execution_count": 1,
   "id": "dd0df93d",
   "metadata": {},
   "outputs": [],
   "source": [
    "a=1"
   ]
  },
  {
   "cell_type": "code",
   "execution_count": 2,
   "id": "d145a84b",
   "metadata": {},
   "outputs": [
    {
     "data": {
      "text/plain": [
       "1"
      ]
     },
     "execution_count": 2,
     "metadata": {},
     "output_type": "execute_result"
    }
   ],
   "source": [
    "a"
   ]
  },
  {
   "cell_type": "code",
   "execution_count": 3,
   "id": "608c9a5c",
   "metadata": {},
   "outputs": [
    {
     "data": {
      "text/plain": [
       "'홍길동'"
      ]
     },
     "execution_count": 3,
     "metadata": {},
     "output_type": "execute_result"
    }
   ],
   "source": [
    "# 변수명을 2단어 이상으로 만들 때는 _로 연결하는 스네이크 표기업을 쓴다.\n",
    "user_name='홍길동'\n",
    "user_name"
   ]
  },
  {
   "cell_type": "code",
   "execution_count": 4,
   "id": "7b2a9f93",
   "metadata": {},
   "outputs": [],
   "source": [
    "# 변수명은 변수명만으로 안에 무엇이 있을지 예측 가능해야한다. \n",
    "all_reviews ='모든 리뷰'\n"
   ]
  },
  {
   "cell_type": "code",
   "execution_count": 5,
   "id": "0045f0ed",
   "metadata": {},
   "outputs": [],
   "source": [
    "review_one = \"리뷰 한 개\"\n",
    "hap=0"
   ]
  },
  {
   "cell_type": "code",
   "execution_count": 6,
   "id": "967d41f3",
   "metadata": {},
   "outputs": [],
   "source": [
    "# 변수 지우기 del\n",
    "del hap"
   ]
  },
  {
   "cell_type": "code",
   "execution_count": 7,
   "id": "d9479109",
   "metadata": {},
   "outputs": [
    {
     "ename": "NameError",
     "evalue": "name 'hap' is not defined",
     "output_type": "error",
     "traceback": [
      "\u001b[1;31m---------------------------------------------------------------------------\u001b[0m",
      "\u001b[1;31mNameError\u001b[0m                                 Traceback (most recent call last)",
      "Cell \u001b[1;32mIn[7], line 1\u001b[0m\n\u001b[1;32m----> 1\u001b[0m \u001b[43mhap\u001b[49m\n",
      "\u001b[1;31mNameError\u001b[0m: name 'hap' is not defined"
     ]
    }
   ],
   "source": [
    "hap"
   ]
  },
  {
   "cell_type": "markdown",
   "id": "6ff4d95e",
   "metadata": {},
   "source": [
    "여러 개의 변수 동시에 만들고 자료 입력하기 "
   ]
  },
  {
   "cell_type": "code",
   "execution_count": null,
   "id": "77753caa",
   "metadata": {},
   "outputs": [],
   "source": [
    "a=1\n",
    "b=2\n"
   ]
  },
  {
   "cell_type": "code",
   "execution_count": 8,
   "id": "476772f4",
   "metadata": {},
   "outputs": [],
   "source": [
    "a, b, c = 1,2,3"
   ]
  },
  {
   "cell_type": "code",
   "execution_count": 9,
   "id": "fbd5b20f",
   "metadata": {},
   "outputs": [
    {
     "name": "stdout",
     "output_type": "stream",
     "text": [
      "1 2 3\n"
     ]
    }
   ],
   "source": [
    "print(a,b,c)"
   ]
  },
  {
   "cell_type": "code",
   "execution_count": 10,
   "id": "14395c74",
   "metadata": {},
   "outputs": [],
   "source": [
    "a,b,c= [5,6,7]"
   ]
  },
  {
   "cell_type": "code",
   "execution_count": 11,
   "id": "31bd0f5a",
   "metadata": {},
   "outputs": [
    {
     "name": "stdout",
     "output_type": "stream",
     "text": [
      "5 6 7\n"
     ]
    }
   ],
   "source": [
    "print(a,b,c)"
   ]
  },
  {
   "cell_type": "code",
   "execution_count": 12,
   "id": "6b6db1a2",
   "metadata": {},
   "outputs": [],
   "source": [
    "a,b,c=(8,9,10)"
   ]
  },
  {
   "cell_type": "code",
   "execution_count": 13,
   "id": "5f66c134",
   "metadata": {},
   "outputs": [
    {
     "name": "stdout",
     "output_type": "stream",
     "text": [
      "8 9 10\n"
     ]
    }
   ],
   "source": [
    "print(a,b,c)"
   ]
  },
  {
   "cell_type": "code",
   "execution_count": null,
   "id": "e117cb8c",
   "metadata": {},
   "outputs": [],
   "source": []
  },
  {
   "cell_type": "markdown",
   "id": "84e0a965",
   "metadata": {},
   "source": [
    "# 자료형(data type)\n",
    "## 파이썬의 자료형은 동적으로 변화\n",
    "* int : 정수(소수점이 없는 숫자) \n",
    "* float: 실수(소수점이 있는 숫자) \n",
    "* str: 문자 / 문자열\n",
    "* list: 여러개의 자료가 순서대로 저장된 자료형, 모든 자료형을 넣어 만들 수 있음 [자료]\n",
    "* tuple: list비슷하나 한 번 만들면 수정이 안됨. 모든 자료형을 넣어 만들 수 있음(자료) \n",
    "* dictionary: key:value 쌍으로 이루어진 자료형, 모든 자료형 넣어 만들 수 있음{ key: value} \n",
    "* set: 집합자료형, 자료의 중복이 되지 않음. {자료형}"
   ]
  },
  {
   "cell_type": "markdown",
   "id": "f0d32cec",
   "metadata": {},
   "source": [
    "# 데이터 타입을 출력하는 함수 type(변수) "
   ]
  },
  {
   "cell_type": "markdown",
   "id": "9a6ebc12",
   "metadata": {},
   "source": [
    "# 1. 정수형 변수(int)"
   ]
  },
  {
   "cell_type": "code",
   "execution_count": 14,
   "id": "90bc50cf",
   "metadata": {},
   "outputs": [
    {
     "name": "stdout",
     "output_type": "stream",
     "text": [
      "10\n",
      "<class 'int'>\n"
     ]
    }
   ],
   "source": [
    "a =10\n",
    "print(a) \n",
    "print(type(a))"
   ]
  },
  {
   "cell_type": "markdown",
   "id": "46ec0a18",
   "metadata": {},
   "source": [
    "# 2. 실수형 변수(float)"
   ]
  },
  {
   "cell_type": "code",
   "execution_count": 15,
   "id": "bf60d25d",
   "metadata": {},
   "outputs": [
    {
     "name": "stdout",
     "output_type": "stream",
     "text": [
      "3.14\n",
      "<class 'float'>\n"
     ]
    }
   ],
   "source": [
    "b= 3.14\n",
    "print(b)\n",
    "print(type(b))"
   ]
  },
  {
   "cell_type": "markdown",
   "id": "fce0e9d5",
   "metadata": {},
   "source": [
    "# 3. 문자형 변수(str) \n",
    "* 문자형 데이터는 반드시 따옴표 \\' , \\\" 안에 작성해야 한다.\n",
    "* 문자: 문자 1개\n",
    "* 문자열: 문자가 여러개 있는 것, **열** 즉, 순서가 있다.  "
   ]
  },
  {
   "cell_type": "code",
   "execution_count": 16,
   "id": "4febada2",
   "metadata": {},
   "outputs": [
    {
     "name": "stdout",
     "output_type": "stream",
     "text": [
      "문\n"
     ]
    }
   ],
   "source": [
    "c = \"문\"\n",
    "print(c)"
   ]
  },
  {
   "cell_type": "code",
   "execution_count": 17,
   "id": "b2c2f930",
   "metadata": {},
   "outputs": [
    {
     "name": "stdout",
     "output_type": "stream",
     "text": [
      "문자열\n"
     ]
    }
   ],
   "source": [
    "c='문자열'\n",
    "print(c) "
   ]
  },
  {
   "cell_type": "markdown",
   "id": "aafb7b85",
   "metadata": {},
   "source": [
    "# 문자열 인덱싱: 문자열은 순서가 있으므로 변수명[번호] 형태로 해당위치의 문자를 출력/추출이 가능 "
   ]
  },
  {
   "cell_type": "code",
   "execution_count": 19,
   "id": "92545a05",
   "metadata": {},
   "outputs": [
    {
     "data": {
      "text/plain": [
       "'자'"
      ]
     },
     "execution_count": 19,
     "metadata": {},
     "output_type": "execute_result"
    }
   ],
   "source": [
    "c[1]"
   ]
  },
  {
   "cell_type": "code",
   "execution_count": 20,
   "id": "b096afff",
   "metadata": {},
   "outputs": [
    {
     "data": {
      "text/plain": [
       "'문'"
      ]
     },
     "execution_count": 20,
     "metadata": {},
     "output_type": "execute_result"
    }
   ],
   "source": [
    "c[0]"
   ]
  },
  {
   "cell_type": "code",
   "execution_count": 21,
   "id": "88040d1c",
   "metadata": {},
   "outputs": [
    {
     "data": {
      "text/plain": [
       "'열'"
      ]
     },
     "execution_count": 21,
     "metadata": {},
     "output_type": "execute_result"
    }
   ],
   "source": [
    "c[-1]"
   ]
  },
  {
   "cell_type": "code",
   "execution_count": 33,
   "id": "a93d38a8",
   "metadata": {},
   "outputs": [],
   "source": [
    "long_char= \"문자열은 아무리 길이가 길어도 함 줄로 입력해야 한다. 만약 줄바꾸꿈을 하소 싶다면 \\\\를 줄 바꿈할  곳 끛에 넣고 줄바꿈을 하루 수 있다.\" "
   ]
  },
  {
   "cell_type": "code",
   "execution_count": 34,
   "id": "f87d63c8",
   "metadata": {},
   "outputs": [
    {
     "name": "stdout",
     "output_type": "stream",
     "text": [
      "문자열은 아무리 길이가 길어도 함 줄로 입력해야 한다. 만약 줄바꾸꿈을 하소 싶다면 \\를 줄 바꿈할  곳 끛에 넣고 줄바꿈을 하루 수 있다.\n"
     ]
    }
   ],
   "source": [
    "print(long_char)"
   ]
  },
  {
   "cell_type": "code",
   "execution_count": 40,
   "id": "605d2297",
   "metadata": {},
   "outputs": [],
   "source": [
    "long_char2= \"문자열은 아무리 길이가 길어도 함 줄로 입력해야 한다. \\\n",
    "만약 줄바꾸꿈을 하소 싶다면 \\\\를 줄 바꿈할 곳에 넣고\\\n",
    "줄바꿈을 하루 수 있다.\" "
   ]
  },
  {
   "cell_type": "code",
   "execution_count": 37,
   "id": "116acc1b",
   "metadata": {},
   "outputs": [
    {
     "name": "stdout",
     "output_type": "stream",
     "text": [
      "문자열은 아무리 길이가 길어도 함 줄로 입력해야 한다. 만약 줄바꾸꿈을 하소 싶다면 \\를 줄 바꿈할  곳 끛에 넣고줄바꿈을 하루 수 있다.\n"
     ]
    }
   ],
   "source": [
    "print(long_char2)"
   ]
  },
  {
   "cell_type": "code",
   "execution_count": 41,
   "id": "beb57f1e",
   "metadata": {},
   "outputs": [],
   "source": [
    "# 출력시 줄바꿈으로 하고 싶을 때 \\n\n",
    "\n",
    "long_char4= \"문자열은 아무리 길이가 길어도 함 줄로 입력해야 한다. \\n\\\n",
    "만약 줄바꾸꿈을 하소 싶다면 \\\\를 줄 바꿈할 곳에 넣고\\n\\\n",
    "줄바꿈을 하루 수 있다.\" "
   ]
  },
  {
   "cell_type": "code",
   "execution_count": 42,
   "id": "98d718ef",
   "metadata": {},
   "outputs": [
    {
     "name": "stdout",
     "output_type": "stream",
     "text": [
      "문자열은 아무리 길이가 길어도 함 줄로 입력해야 한다. \n",
      "만약 줄바꾸꿈을 하소 싶다면 \\를 줄 바꿈할 곳에 넣고\n",
      "줄바꿈을 하루 수 있다.\n"
     ]
    }
   ],
   "source": [
    "print(long_char4)"
   ]
  },
  {
   "cell_type": "markdown",
   "id": "b0412200",
   "metadata": {},
   "source": [
    "# 이스케이프문자 없이 줄바꿈하며 입력하고 싶을 때\n",
    "''' ''' \"\"\" \"\"\""
   ]
  },
  {
   "cell_type": "code",
   "execution_count": 43,
   "id": "0677e7c6",
   "metadata": {},
   "outputs": [],
   "source": [
    "long_char5= \"\"\"문자열은 아무리 길이가 길어도 함 줄로 입력해야 한다. \n",
    "만약 줄바꾸꿈을 하소 싶다면 \\\\를 줄 바꿈할 곳에 넣고\n",
    "줄바꿈을 하루 수 있다.\"\"\" "
   ]
  },
  {
   "cell_type": "code",
   "execution_count": 44,
   "id": "e99e7196",
   "metadata": {},
   "outputs": [
    {
     "name": "stdout",
     "output_type": "stream",
     "text": [
      "문자열은 아무리 길이가 길어도 함 줄로 입력해야 한다. \n",
      "만약 줄바꾸꿈을 하소 싶다면 \\를 줄 바꿈할 곳에 넣고\n",
      "줄바꿈을 하루 수 있다.\n"
     ]
    }
   ],
   "source": [
    "print(long_char5)"
   ]
  },
  {
   "cell_type": "code",
   "execution_count": 45,
   "id": "5ad52ea3",
   "metadata": {},
   "outputs": [],
   "source": [
    "long_char6= '''문자열은 아무리 길이가 길어도 함 줄로 입력해야 한다. \n",
    "만약 줄바꾸꿈을 하소 싶다면 \\\\를 줄 바꿈할 곳에 넣고\n",
    "줄바꿈을 하루 수 있다.''' "
   ]
  },
  {
   "cell_type": "code",
   "execution_count": 46,
   "id": "45507a81",
   "metadata": {},
   "outputs": [
    {
     "data": {
      "text/plain": [
       "'문자열은 아무리 길이가 길어도 함 줄로 입력해야 한다. \\n만약 줄바꾸꿈을 하소 싶다면 \\\\를 줄 바꿈할 곳에 넣고\\n줄바꿈을 하루 수 있다.'"
      ]
     },
     "execution_count": 46,
     "metadata": {},
     "output_type": "execute_result"
    }
   ],
   "source": [
    "long_char6"
   ]
  },
  {
   "cell_type": "markdown",
   "id": "716b0eed",
   "metadata": {},
   "source": [
    "# 문자열의 길이 재기 len(문자열/변수) "
   ]
  },
  {
   "cell_type": "code",
   "execution_count": 47,
   "id": "c6a40fdf",
   "metadata": {},
   "outputs": [
    {
     "data": {
      "text/plain": [
       "49"
      ]
     },
     "execution_count": 47,
     "metadata": {},
     "output_type": "execute_result"
    }
   ],
   "source": [
    "len('asdadsadfsdfvgdgfdgadfsgdfsafgdfdegfrgrefgfegfdfd')"
   ]
  },
  {
   "cell_type": "code",
   "execution_count": 47,
   "id": "85d4ed3c",
   "metadata": {},
   "outputs": [
    {
     "data": {
      "text/plain": [
       "49"
      ]
     },
     "execution_count": 47,
     "metadata": {},
     "output_type": "execute_result"
    }
   ],
   "source": [
    "len('asdadsadfsdfvgdgfdgadfsgdfsafgdfdegfrgrefgfegfdfd')"
   ]
  },
  {
   "cell_type": "markdown",
   "id": "6e20ea15",
   "metadata": {},
   "source": [
    "# 문자열의 번호(index)는 길이 -1 \n",
    "* len의 결과가 74일경우 인덱스는 0-73번까지 "
   ]
  },
  {
   "cell_type": "code",
   "execution_count": 49,
   "id": "2647e75f",
   "metadata": {},
   "outputs": [
    {
     "data": {
      "text/plain": [
       "'.'"
      ]
     },
     "execution_count": 49,
     "metadata": {},
     "output_type": "execute_result"
    }
   ],
   "source": [
    "long_char6[-1]"
   ]
  },
  {
   "cell_type": "markdown",
   "id": "31159df3",
   "metadata": {},
   "source": [
    "# 문자의 덧셈, 곱셈\n",
    "* 문자의 덧셈: 붙이시\n",
    "* 문자의 곱셈: 반복 "
   ]
  },
  {
   "cell_type": "code",
   "execution_count": 50,
   "id": "e81da5e2",
   "metadata": {},
   "outputs": [],
   "source": [
    "c ='python'\n",
    "d=\"고양이\""
   ]
  },
  {
   "cell_type": "code",
   "execution_count": 51,
   "id": "86731ec0",
   "metadata": {},
   "outputs": [
    {
     "name": "stdout",
     "output_type": "stream",
     "text": [
      "python 고양이\n"
     ]
    }
   ],
   "source": [
    "print(c,d)"
   ]
  },
  {
   "cell_type": "code",
   "execution_count": 52,
   "id": "7573e65e",
   "metadata": {},
   "outputs": [
    {
     "name": "stdout",
     "output_type": "stream",
     "text": [
      "python고양이\n"
     ]
    }
   ],
   "source": [
    "e= c+d\n",
    "print(e)"
   ]
  },
  {
   "cell_type": "code",
   "execution_count": 53,
   "id": "e633956d",
   "metadata": {},
   "outputs": [
    {
     "name": "stdout",
     "output_type": "stream",
     "text": [
      "python 고양이\n"
     ]
    }
   ],
   "source": [
    "# 문자 + 문자2 == 문자문자2\n",
    "f= c+\" \"+d\n",
    "print(f)"
   ]
  },
  {
   "cell_type": "code",
   "execution_count": 54,
   "id": "86d49301",
   "metadata": {},
   "outputs": [
    {
     "name": "stdout",
     "output_type": "stream",
     "text": [
      "**********\n",
      "hellp world\n",
      "**********\n"
     ]
    }
   ],
   "source": [
    "# 문자 곱셈 == 문자 반복\n",
    "a = \"*\"\n",
    "b =\"hellp world\"\n",
    "print(a*10)\n",
    "print(b)\n",
    "print(a*10)"
   ]
  },
  {
   "cell_type": "markdown",
   "id": "be4efc3f",
   "metadata": {},
   "source": [
    "# 문자열의 인덱싱과 슬라이싱\n",
    "* 인덱싱: 문자열에 앞에서부터 부여된 숫자를 대괄호 안에 넣어서 그 위치의 문자를 출력하는 것\n",
    "    * 변수[숫자]\n",
    "* 슬라이싱: 문자역에 부여된 인덱스 번호를 범위로 묶어서 가져오는 것\n",
    "    * 변수[시작번호: 끝번호+1:간격]"
   ]
  },
  {
   "cell_type": "code",
   "execution_count": 55,
   "id": "05f1d2d7",
   "metadata": {},
   "outputs": [],
   "source": [
    "slicing='슬라이싱: 문자역에 부여된 인덱스 번호를 범위로 묶어서 가져오는 것'"
   ]
  },
  {
   "cell_type": "code",
   "execution_count": 56,
   "id": "a9f8f496",
   "metadata": {},
   "outputs": [
    {
     "data": {
      "text/plain": [
       "'슬'"
      ]
     },
     "execution_count": 56,
     "metadata": {},
     "output_type": "execute_result"
    }
   ],
   "source": [
    "slicing[0]"
   ]
  },
  {
   "cell_type": "code",
   "execution_count": 57,
   "id": "9468a2ce",
   "metadata": {},
   "outputs": [
    {
     "data": {
      "text/plain": [
       "'문자역에'"
      ]
     },
     "execution_count": 57,
     "metadata": {},
     "output_type": "execute_result"
    }
   ],
   "source": [
    "slicing[6:10]"
   ]
  },
  {
   "cell_type": "code",
   "execution_count": 59,
   "id": "c179fa38",
   "metadata": {},
   "outputs": [
    {
     "data": {
      "text/plain": [
       "'슬이:문역 여 덱 호 위 어 져는것'"
      ]
     },
     "execution_count": 59,
     "metadata": {},
     "output_type": "execute_result"
    }
   ],
   "source": [
    "slicing[::2]"
   ]
  },
  {
   "cell_type": "markdown",
   "id": "1e2213ee",
   "metadata": {},
   "source": [
    "# 리스트 list \n",
    "* 리스트는 []안에 정수, 실수, 문자/문자열, 리스트, 튜플, 딕셔너리 를 모두 넣어서 만든다. \n",
    "* 리스트는 여러가지 자료가 나열된 형태이므로 순서가 있다. \n",
    "* 인덱, 슬라이싱 가능\n",
    "* 자료의 추가/ 삭제가 가능 "
   ]
  },
  {
   "cell_type": "code",
   "execution_count": 60,
   "id": "aaa4952b",
   "metadata": {},
   "outputs": [],
   "source": [
    "a = [1,3.5, \"삼\", \"사십오\", [1,2,3], (4,5,6), {\"key\": \"value\"}]"
   ]
  },
  {
   "cell_type": "code",
   "execution_count": 64,
   "id": "fa9dba7c",
   "metadata": {},
   "outputs": [
    {
     "name": "stdout",
     "output_type": "stream",
     "text": [
      "[[1, 2, 3], (4, 5, 6), {'key': 'value'}]\n"
     ]
    }
   ],
   "source": [
    "print(a[4:7])"
   ]
  },
  {
   "cell_type": "code",
   "execution_count": 63,
   "id": "90004378",
   "metadata": {},
   "outputs": [
    {
     "name": "stdout",
     "output_type": "stream",
     "text": [
      "<class 'list'>\n"
     ]
    }
   ],
   "source": [
    "print(type(a))"
   ]
  },
  {
   "cell_type": "code",
   "execution_count": 65,
   "id": "cbd8c3bf",
   "metadata": {},
   "outputs": [
    {
     "name": "stdout",
     "output_type": "stream",
     "text": [
      "<class 'dict'>\n"
     ]
    }
   ],
   "source": [
    "print(type(a[6]))"
   ]
  },
  {
   "cell_type": "markdown",
   "id": "cc52298f",
   "metadata": {},
   "source": [
    "#  리스트 안에 리스트/투플이 있는 경우는?"
   ]
  },
  {
   "cell_type": "code",
   "execution_count": 66,
   "id": "9628e42d",
   "metadata": {},
   "outputs": [
    {
     "data": {
      "text/plain": [
       "[1, 3.5, '삼', '사십오', [1, 2, 3], (4, 5, 6), {'key': 'value'}]"
      ]
     },
     "execution_count": 66,
     "metadata": {},
     "output_type": "execute_result"
    }
   ],
   "source": [
    "a"
   ]
  },
  {
   "cell_type": "code",
   "execution_count": 68,
   "id": "7082a65f",
   "metadata": {},
   "outputs": [
    {
     "data": {
      "text/plain": [
       "'오'"
      ]
     },
     "execution_count": 68,
     "metadata": {},
     "output_type": "execute_result"
    }
   ],
   "source": [
    "a[3][2]"
   ]
  },
  {
   "cell_type": "code",
   "execution_count": 69,
   "id": "a738bb2e",
   "metadata": {},
   "outputs": [
    {
     "data": {
      "text/plain": [
       "3"
      ]
     },
     "execution_count": 69,
     "metadata": {},
     "output_type": "execute_result"
    }
   ],
   "source": [
    "a[4][2]"
   ]
  },
  {
   "cell_type": "markdown",
   "id": "e0ef24e6",
   "metadata": {},
   "source": [
    "# 중첩리스트"
   ]
  },
  {
   "cell_type": "code",
   "execution_count": 76,
   "id": "a3fe7f82",
   "metadata": {},
   "outputs": [],
   "source": [
    "b= [1, 3.5, '삼', '사십오', [1, 2, [4,5,[7,8,9]]], (4,5,6),{'key': 'value'}]"
   ]
  },
  {
   "cell_type": "code",
   "execution_count": 74,
   "id": "a614efaa",
   "metadata": {
    "scrolled": true
   },
   "outputs": [
    {
     "data": {
      "text/plain": [
       "9"
      ]
     },
     "execution_count": 74,
     "metadata": {},
     "output_type": "execute_result"
    }
   ],
   "source": [
    "b[4][2][2][2]"
   ]
  },
  {
   "cell_type": "markdown",
   "id": "68b248b9",
   "metadata": {},
   "source": [
    "# len함수로 길이 구하기 "
   ]
  },
  {
   "cell_type": "code",
   "execution_count": 77,
   "id": "458a30a2",
   "metadata": {},
   "outputs": [
    {
     "data": {
      "text/plain": [
       "7"
      ]
     },
     "execution_count": 77,
     "metadata": {},
     "output_type": "execute_result"
    }
   ],
   "source": [
    "len(b)"
   ]
  },
  {
   "cell_type": "code",
   "execution_count": 78,
   "id": "50fc67c4",
   "metadata": {},
   "outputs": [
    {
     "data": {
      "text/plain": [
       "3"
      ]
     },
     "execution_count": 78,
     "metadata": {},
     "output_type": "execute_result"
    }
   ],
   "source": [
    "len(b[3])"
   ]
  },
  {
   "cell_type": "code",
   "execution_count": 82,
   "id": "4cffb85b",
   "metadata": {},
   "outputs": [
    {
     "data": {
      "text/plain": [
       "3"
      ]
     },
     "execution_count": 82,
     "metadata": {},
     "output_type": "execute_result"
    }
   ],
   "source": [
    "len(b[4][2])"
   ]
  },
  {
   "cell_type": "markdown",
   "id": "b3fd7716",
   "metadata": {},
   "source": [
    "# 리스트에 자료 추가하기 .append(자료) \n",
    "* append로 추가된 자료는 리스트의 가장 마지막에 추가 됨"
   ]
  },
  {
   "cell_type": "code",
   "execution_count": 83,
   "id": "1f39a710",
   "metadata": {},
   "outputs": [],
   "source": [
    "b.append(99)"
   ]
  },
  {
   "cell_type": "code",
   "execution_count": 84,
   "id": "9bf6139c",
   "metadata": {},
   "outputs": [
    {
     "data": {
      "text/plain": [
       "[1,\n",
       " 3.5,\n",
       " '삼',\n",
       " '사십오',\n",
       " [1, 2, [4, 5, [7, 8, 9]]],\n",
       " (4, 5, 6),\n",
       " {'key': 'value'},\n",
       " 99]"
      ]
     },
     "execution_count": 84,
     "metadata": {},
     "output_type": "execute_result"
    }
   ],
   "source": [
    "b"
   ]
  },
  {
   "cell_type": "code",
   "execution_count": 85,
   "id": "e5c62200",
   "metadata": {},
   "outputs": [],
   "source": [
    "b.append(99.999)"
   ]
  },
  {
   "cell_type": "code",
   "execution_count": 86,
   "id": "71ddabeb",
   "metadata": {},
   "outputs": [
    {
     "data": {
      "text/plain": [
       "[1,\n",
       " 3.5,\n",
       " '삼',\n",
       " '사십오',\n",
       " [1, 2, [4, 5, [7, 8, 9]]],\n",
       " (4, 5, 6),\n",
       " {'key': 'value'},\n",
       " 99,\n",
       " 99.999]"
      ]
     },
     "execution_count": 86,
     "metadata": {},
     "output_type": "execute_result"
    }
   ],
   "source": [
    "b"
   ]
  },
  {
   "cell_type": "code",
   "execution_count": 87,
   "id": "37ec14f4",
   "metadata": {},
   "outputs": [],
   "source": [
    "b.append([\"일\", \"이\", \"삼\"])"
   ]
  },
  {
   "cell_type": "code",
   "execution_count": 89,
   "id": "ccdb540d",
   "metadata": {},
   "outputs": [
    {
     "data": {
      "text/plain": [
       "[1,\n",
       " 3.5,\n",
       " '삼',\n",
       " '사십오',\n",
       " [1, 2, [4, 5, [7, 8, 9]]],\n",
       " (4, 5, 6),\n",
       " {'key': 'value'},\n",
       " 99,\n",
       " 99.999,\n",
       " ['일', '이', '삼']]"
      ]
     },
     "execution_count": 89,
     "metadata": {},
     "output_type": "execute_result"
    }
   ],
   "source": [
    "b"
   ]
  },
  {
   "cell_type": "code",
   "execution_count": 91,
   "id": "0989fc50",
   "metadata": {},
   "outputs": [],
   "source": [
    "b.append((1,2,3))"
   ]
  },
  {
   "cell_type": "code",
   "execution_count": 92,
   "id": "cb29af11",
   "metadata": {},
   "outputs": [
    {
     "data": {
      "text/plain": [
       "[1,\n",
       " 3.5,\n",
       " '삼',\n",
       " '사십오',\n",
       " [1, 2, [4, 5, [7, 8, 9]]],\n",
       " (4, 5, 6),\n",
       " {'key': 'value'},\n",
       " 99,\n",
       " 99.999,\n",
       " ['일', '이', '삼'],\n",
       " (1, 2, 3)]"
      ]
     },
     "execution_count": 92,
     "metadata": {},
     "output_type": "execute_result"
    }
   ],
   "source": [
    "b"
   ]
  },
  {
   "cell_type": "code",
   "execution_count": 93,
   "id": "dab602a3",
   "metadata": {},
   "outputs": [],
   "source": [
    "b.append({\"key2\": \"value2\"})"
   ]
  },
  {
   "cell_type": "code",
   "execution_count": 94,
   "id": "9807e309",
   "metadata": {},
   "outputs": [
    {
     "data": {
      "text/plain": [
       "[1,\n",
       " 3.5,\n",
       " '삼',\n",
       " '사십오',\n",
       " [1, 2, [4, 5, [7, 8, 9]]],\n",
       " (4, 5, 6),\n",
       " {'key': 'value'},\n",
       " 99,\n",
       " 99.999,\n",
       " ['일', '이', '삼'],\n",
       " (1, 2, 3),\n",
       " {'key2': 'value2'}]"
      ]
     },
     "execution_count": 94,
     "metadata": {},
     "output_type": "execute_result"
    }
   ],
   "source": [
    "b"
   ]
  },
  {
   "cell_type": "code",
   "execution_count": 95,
   "id": "5710da15",
   "metadata": {},
   "outputs": [
    {
     "data": {
      "text/plain": [
       "[1,\n",
       " 3.5,\n",
       " '삼',\n",
       " '사십오',\n",
       " [1, 2, [4, 5, [7, 8, 9]]],\n",
       " (4, 5, 6),\n",
       " {'key': 'value'},\n",
       " 99,\n",
       " 99.999,\n",
       " (1, 2, 3),\n",
       " {'key2': 'value2'}]"
      ]
     },
     "execution_count": 95,
     "metadata": {},
     "output_type": "execute_result"
    }
   ],
   "source": [
    "del b[-3]\n",
    "b"
   ]
  },
  {
   "cell_type": "code",
   "execution_count": 96,
   "id": "6360d386",
   "metadata": {},
   "outputs": [
    {
     "data": {
      "text/plain": [
       "[1,\n",
       " 3.5,\n",
       " '삼',\n",
       " '사십오',\n",
       " [1, 2, [4, 5, [7, 8, 9]]],\n",
       " (4, 5, 6),\n",
       " {'key': 'value'},\n",
       " 99,\n",
       " 99.999,\n",
       " (1, 2, 3)]"
      ]
     },
     "execution_count": 96,
     "metadata": {},
     "output_type": "execute_result"
    }
   ],
   "source": [
    "del b[10:12]\n",
    "b"
   ]
  },
  {
   "cell_type": "markdown",
   "id": "82b4b1fd",
   "metadata": {},
   "source": [
    "# 튜플 tuple\n",
    "* 여러가지 자료를 ()안에 넣어서 만드는 자료형\n",
    "* 모든 data type의 자료를 넣을 수 있다.\n",
    "* 한 번 생성하면 수정이 되지 않는다. \n",
    "* 튜플이 리스트보다 실행 속도가 빠르다. "
   ]
  },
  {
   "cell_type": "code",
   "execution_count": 97,
   "id": "49a83e0f",
   "metadata": {},
   "outputs": [],
   "source": [
    "t = (1,)"
   ]
  },
  {
   "cell_type": "code",
   "execution_count": 98,
   "id": "a4a3de62",
   "metadata": {},
   "outputs": [
    {
     "data": {
      "text/plain": [
       "(1,)"
      ]
     },
     "execution_count": 98,
     "metadata": {},
     "output_type": "execute_result"
    }
   ],
   "source": [
    "t"
   ]
  },
  {
   "cell_type": "code",
   "execution_count": 99,
   "id": "3aeb76f3",
   "metadata": {},
   "outputs": [
    {
     "data": {
      "text/plain": [
       "2"
      ]
     },
     "execution_count": 99,
     "metadata": {},
     "output_type": "execute_result"
    }
   ],
   "source": [
    "t2=(2)\n",
    "t2"
   ]
  },
  {
   "cell_type": "code",
   "execution_count": 100,
   "id": "ff102e19",
   "metadata": {},
   "outputs": [
    {
     "data": {
      "text/plain": [
       "(tuple, int)"
      ]
     },
     "execution_count": 100,
     "metadata": {},
     "output_type": "execute_result"
    }
   ],
   "source": [
    "type(t), type(t2)"
   ]
  },
  {
   "cell_type": "code",
   "execution_count": 101,
   "id": "4d99803f",
   "metadata": {},
   "outputs": [],
   "source": [
    "t3 = (1, 2.5, '삼', '사십오', [1, 2, 3], (4,5,6),{'key': 'value'})"
   ]
  },
  {
   "cell_type": "code",
   "execution_count": 102,
   "id": "f4600e70",
   "metadata": {},
   "outputs": [
    {
     "data": {
      "text/plain": [
       "2"
      ]
     },
     "execution_count": 102,
     "metadata": {},
     "output_type": "execute_result"
    }
   ],
   "source": [
    "t3[4][1]"
   ]
  },
  {
   "cell_type": "code",
   "execution_count": 103,
   "id": "d89da76e",
   "metadata": {},
   "outputs": [
    {
     "data": {
      "text/plain": [
       "(1, 2.5, '삼', '사십오')"
      ]
     },
     "execution_count": 103,
     "metadata": {},
     "output_type": "execute_result"
    }
   ],
   "source": [
    "t3[0:4]"
   ]
  },
  {
   "cell_type": "code",
   "execution_count": 104,
   "id": "d905e1a3",
   "metadata": {},
   "outputs": [
    {
     "ename": "AttributeError",
     "evalue": "'tuple' object has no attribute 'append'",
     "output_type": "error",
     "traceback": [
      "\u001b[1;31m---------------------------------------------------------------------------\u001b[0m",
      "\u001b[1;31mAttributeError\u001b[0m                            Traceback (most recent call last)",
      "Cell \u001b[1;32mIn[104], line 2\u001b[0m\n\u001b[0;32m      1\u001b[0m \u001b[38;5;66;03m# 튜플은 자료 추가가 안됨.\u001b[39;00m\n\u001b[1;32m----> 2\u001b[0m \u001b[43mt3\u001b[49m\u001b[38;5;241;43m.\u001b[39;49m\u001b[43mappend\u001b[49m(\u001b[38;5;241m1\u001b[39m)\n",
      "\u001b[1;31mAttributeError\u001b[0m: 'tuple' object has no attribute 'append'"
     ]
    }
   ],
   "source": [
    "# 튜플은 자료 추가가 안됨.\n",
    "t3.append(1)"
   ]
  },
  {
   "cell_type": "code",
   "execution_count": 105,
   "id": "e743de3c",
   "metadata": {},
   "outputs": [
    {
     "ename": "TypeError",
     "evalue": "'tuple' object does not support item assignment",
     "output_type": "error",
     "traceback": [
      "\u001b[1;31m---------------------------------------------------------------------------\u001b[0m",
      "\u001b[1;31mTypeError\u001b[0m                                 Traceback (most recent call last)",
      "Cell \u001b[1;32mIn[105], line 2\u001b[0m\n\u001b[0;32m      1\u001b[0m \u001b[38;5;66;03m# 튜플은 자료 수정도 안됨\u001b[39;00m\n\u001b[1;32m----> 2\u001b[0m \u001b[43mt3\u001b[49m\u001b[43m[\u001b[49m\u001b[38;5;241;43m0\u001b[39;49m\u001b[43m]\u001b[49m \u001b[38;5;241m=\u001b[39m \u001b[38;5;241m100\u001b[39m\n",
      "\u001b[1;31mTypeError\u001b[0m: 'tuple' object does not support item assignment"
     ]
    }
   ],
   "source": [
    "# 튜플은 자료 수정도 안됨\n",
    "t3[0] = 100"
   ]
  },
  {
   "cell_type": "markdown",
   "id": "d415e2a3",
   "metadata": {},
   "source": [
    "# 6. 딕션너리형(dict) json {\"key\":\"value\"}\n",
    "* key 와 value로 이루어진 데이터형 \n",
    "* json 이라고 불리며 웹상에서 데이터를 주고 받을 떄 주로 사용\n",
    "* 딕셔너리의 value에는 모든 자료형이 올 수 있음. \n",
    "* 딕셔너리의 key에는 lsit,dict는 올 수 없음. \n",
    "* key를 호출하면 value가 출력됨. \n",
    "* 딕셔너리는 순서가 없는 자료형"
   ]
  },
  {
   "cell_type": "code",
   "execution_count": 107,
   "id": "8e003c4e",
   "metadata": {},
   "outputs": [],
   "source": [
    "dict1 ={'이름': \"고길동\", \"나이\":33, \"키\":175.4, \"가족\": ['둘리','또치', '도우너']}"
   ]
  },
  {
   "cell_type": "code",
   "execution_count": 112,
   "id": "b155b5c6",
   "metadata": {},
   "outputs": [
    {
     "name": "stdout",
     "output_type": "stream",
     "text": [
      "고길동 <class 'str'>\n"
     ]
    }
   ],
   "source": [
    "print(dict1[\"이름\"], type(dict1[\"이름\"]))"
   ]
  },
  {
   "cell_type": "code",
   "execution_count": 113,
   "id": "a6f0c7aa",
   "metadata": {},
   "outputs": [
    {
     "name": "stdout",
     "output_type": "stream",
     "text": [
      "33 <class 'int'>\n"
     ]
    }
   ],
   "source": [
    "print(dict1[\"나이\"], type(dict1[\"나이\"]))"
   ]
  },
  {
   "cell_type": "code",
   "execution_count": 114,
   "id": "6a3bf37c",
   "metadata": {},
   "outputs": [
    {
     "name": "stdout",
     "output_type": "stream",
     "text": [
      "175.4 <class 'float'>\n"
     ]
    }
   ],
   "source": [
    "print(dict1[\"키\"], type(dict1[\"키\"]))"
   ]
  },
  {
   "cell_type": "code",
   "execution_count": 115,
   "id": "c76657e0",
   "metadata": {},
   "outputs": [
    {
     "name": "stdout",
     "output_type": "stream",
     "text": [
      "['둘리', '또치', '도우너'] <class 'list'>\n"
     ]
    }
   ],
   "source": [
    "print(dict1[\"가족\"], type(dict1[\"가족\"]))"
   ]
  },
  {
   "cell_type": "code",
   "execution_count": 116,
   "id": "950b7c7c",
   "metadata": {},
   "outputs": [
    {
     "data": {
      "text/plain": [
       "'둘리'"
      ]
     },
     "execution_count": 116,
     "metadata": {},
     "output_type": "execute_result"
    }
   ],
   "source": [
    "dict1[\"가족\"][0]"
   ]
  },
  {
   "cell_type": "code",
   "execution_count": 117,
   "id": "95fb180d",
   "metadata": {},
   "outputs": [],
   "source": [
    "dict2={\"가족\": [\"둘리\", \"또치\", \"도우너\", {\"키\":[145, 155,165]}]}"
   ]
  },
  {
   "cell_type": "markdown",
   "id": "7b031bd6",
   "metadata": {},
   "source": [
    "# dict에서 len은 key의 갯수"
   ]
  },
  {
   "cell_type": "code",
   "execution_count": 119,
   "id": "717a2363",
   "metadata": {},
   "outputs": [
    {
     "data": {
      "text/plain": [
       "155"
      ]
     },
     "execution_count": 119,
     "metadata": {},
     "output_type": "execute_result"
    }
   ],
   "source": [
    "dict2[\"가족\"][3][\"키\"][1]"
   ]
  },
  {
   "cell_type": "markdown",
   "id": "9901633e",
   "metadata": {},
   "source": [
    "# 딕셔너리에 자료 추가/삭제하기 \n",
    "* 자료추가\n",
    "    * 변수명['새로운 key'] = 새 자료 **key가 중복되면 안됨, 중복될 경우 나중 값으로 젚어쓰기 됨**\n",
    "    * 자료삭제\n",
    "        * del 변수명['key']"
   ]
  },
  {
   "cell_type": "code",
   "execution_count": 120,
   "id": "332025ba",
   "metadata": {},
   "outputs": [
    {
     "data": {
      "text/plain": [
       "{'가족': ['둘리', '또치', '도우너', {'키': [145, 155, 165]}]}"
      ]
     },
     "execution_count": 120,
     "metadata": {},
     "output_type": "execute_result"
    }
   ],
   "source": [
    "dict2"
   ]
  },
  {
   "cell_type": "code",
   "execution_count": 121,
   "id": "c690a1af",
   "metadata": {},
   "outputs": [],
   "source": [
    "dict2['좋아하는 음식']= ['자장면', '짬뽕', '볶음밥']"
   ]
  },
  {
   "cell_type": "code",
   "execution_count": 122,
   "id": "ce7cdb93",
   "metadata": {},
   "outputs": [
    {
     "data": {
      "text/plain": [
       "{'가족': ['둘리', '또치', '도우너', {'키': [145, 155, 165]}],\n",
       " '좋아하는 음식': ['자장면', '짬뽕', '볶음밥']}"
      ]
     },
     "execution_count": 122,
     "metadata": {},
     "output_type": "execute_result"
    }
   ],
   "source": [
    "dict2"
   ]
  },
  {
   "cell_type": "code",
   "execution_count": 123,
   "id": "47621fb3",
   "metadata": {},
   "outputs": [],
   "source": [
    "del dict2['가족'][3]"
   ]
  },
  {
   "cell_type": "code",
   "execution_count": 124,
   "id": "797c0aaa",
   "metadata": {},
   "outputs": [
    {
     "data": {
      "text/plain": [
       "{'가족': ['둘리', '또치', '도우너'], '좋아하는 음식': ['자장면', '짬뽕', '볶음밥']}"
      ]
     },
     "execution_count": 124,
     "metadata": {},
     "output_type": "execute_result"
    }
   ],
   "source": [
    "dict2"
   ]
  },
  {
   "cell_type": "code",
   "execution_count": 125,
   "id": "100bbc0a",
   "metadata": {},
   "outputs": [],
   "source": [
    "del dict2['좋아하는 음식']"
   ]
  },
  {
   "cell_type": "code",
   "execution_count": 126,
   "id": "dca4406d",
   "metadata": {},
   "outputs": [
    {
     "data": {
      "text/plain": [
       "{'가족': ['둘리', '또치', '도우너']}"
      ]
     },
     "execution_count": 126,
     "metadata": {},
     "output_type": "execute_result"
    }
   ],
   "source": [
    "dict2"
   ]
  },
  {
   "cell_type": "code",
   "execution_count": 127,
   "id": "d2f20b69",
   "metadata": {},
   "outputs": [],
   "source": [
    "dict2['가족']= '대가족'"
   ]
  },
  {
   "cell_type": "code",
   "execution_count": 128,
   "id": "713937cb",
   "metadata": {},
   "outputs": [
    {
     "data": {
      "text/plain": [
       "{'가족': '대가족'}"
      ]
     },
     "execution_count": 128,
     "metadata": {},
     "output_type": "execute_result"
    }
   ],
   "source": [
    "dict2"
   ]
  },
  {
   "cell_type": "markdown",
   "id": "83f76c2d",
   "metadata": {},
   "source": [
    "# 형변환 함수\n",
    "    *data type을 다른 data type으로 바꾸는 것\n",
    "    * int, float, str, list, tuple, dict\n",
    "    "
   ]
  },
  {
   "cell_type": "markdown",
   "id": "4b4dfb2c",
   "metadata": {},
   "source": [
    "## int() 숫자나 문자를 정수로 형변환"
   ]
  },
  {
   "cell_type": "code",
   "execution_count": 129,
   "id": "345836fe",
   "metadata": {},
   "outputs": [
    {
     "name": "stdout",
     "output_type": "stream",
     "text": [
      "3.14 <class 'float'>\n"
     ]
    }
   ],
   "source": [
    "a = 3.14\n",
    "print(a, type(a))"
   ]
  },
  {
   "cell_type": "code",
   "execution_count": 131,
   "id": "dd473114",
   "metadata": {},
   "outputs": [
    {
     "data": {
      "text/plain": [
       "(3, int)"
      ]
     },
     "execution_count": 131,
     "metadata": {},
     "output_type": "execute_result"
    }
   ],
   "source": [
    "int(a) , type(int(a))"
   ]
  },
  {
   "cell_type": "code",
   "execution_count": 132,
   "id": "c55b4763",
   "metadata": {},
   "outputs": [
    {
     "name": "stdout",
     "output_type": "stream",
     "text": [
      "3 <class 'str'>\n"
     ]
    }
   ],
   "source": [
    "b=\"3\"\n",
    "print(b, type(b))"
   ]
  },
  {
   "cell_type": "code",
   "execution_count": 133,
   "id": "b9d10690",
   "metadata": {},
   "outputs": [
    {
     "data": {
      "text/plain": [
       "(3, int)"
      ]
     },
     "execution_count": 133,
     "metadata": {},
     "output_type": "execute_result"
    }
   ],
   "source": [
    "int(b), type(int(b))"
   ]
  },
  {
   "cell_type": "markdown",
   "id": "a91bd4f5",
   "metadata": {},
   "source": [
    "# float() 정수나, 문자를 실수로 형변환"
   ]
  },
  {
   "cell_type": "code",
   "execution_count": 134,
   "id": "edf3fb32",
   "metadata": {},
   "outputs": [
    {
     "name": "stdout",
     "output_type": "stream",
     "text": [
      "200 <class 'int'>\n"
     ]
    }
   ],
   "source": [
    "c=200\n",
    "print(c, type(c))"
   ]
  },
  {
   "cell_type": "code",
   "execution_count": 135,
   "id": "ac304817",
   "metadata": {},
   "outputs": [
    {
     "data": {
      "text/plain": [
       "(200.0, float)"
      ]
     },
     "execution_count": 135,
     "metadata": {},
     "output_type": "execute_result"
    }
   ],
   "source": [
    "float(c), type(float(c))"
   ]
  },
  {
   "cell_type": "code",
   "execution_count": 136,
   "id": "46f3b2c5",
   "metadata": {},
   "outputs": [
    {
     "data": {
      "text/plain": [
       "('3.14', str)"
      ]
     },
     "execution_count": 136,
     "metadata": {},
     "output_type": "execute_result"
    }
   ],
   "source": [
    "d= '3.14'\n",
    "d, type(d)"
   ]
  },
  {
   "cell_type": "code",
   "execution_count": 137,
   "id": "9080d707",
   "metadata": {},
   "outputs": [
    {
     "data": {
      "text/plain": [
       "(3.14, float)"
      ]
     },
     "execution_count": 137,
     "metadata": {},
     "output_type": "execute_result"
    }
   ],
   "source": [
    "d= float(d)\n",
    "d, type(d)"
   ]
  },
  {
   "cell_type": "markdown",
   "id": "ac65426f",
   "metadata": {},
   "source": [
    "## str() 숫자나, 다른 자료형을 문자로 변환"
   ]
  },
  {
   "cell_type": "code",
   "execution_count": 138,
   "id": "f40c2157",
   "metadata": {},
   "outputs": [],
   "source": [
    "a=10\n",
    "b=34.5\n",
    "c=[1,2,4, \"오\"]\n",
    "d = (\"육\", 7, 8.5, 9)\n",
    "e = {3 : [1,2,3]}"
   ]
  },
  {
   "cell_type": "code",
   "execution_count": 141,
   "id": "d0988e1a",
   "metadata": {},
   "outputs": [
    {
     "name": "stdout",
     "output_type": "stream",
     "text": [
      "10 <class 'str'>\n",
      "34.5 <class 'str'>\n",
      "[1, 2, 4, '오'] <class 'str'>\n",
      "('육', 7, 8.5, 9) <class 'str'>\n",
      "{3: [1, 2, 3]} <class 'str'>\n"
     ]
    }
   ],
   "source": [
    "print(str(a), type(str(a)))\n",
    "print(str(b), type(str(b)))\n",
    "print(str(c), type(str(c)))\n",
    "print(str(d), type(str(d)))\n",
    "print(str(e), type(str(e)))"
   ]
  },
  {
   "cell_type": "markdown",
   "id": "97fa3d76",
   "metadata": {},
   "source": [
    "## list() 튜플이나 문자열로 되어 있는 리스트를 리스트로 변환 "
   ]
  },
  {
   "cell_type": "code",
   "execution_count": 146,
   "id": "f97f9dcb",
   "metadata": {},
   "outputs": [
    {
     "data": {
      "text/plain": [
       "(['육', 7, 8.5, 9], list)"
      ]
     },
     "execution_count": 146,
     "metadata": {},
     "output_type": "execute_result"
    }
   ],
   "source": [
    "list(d), type(list(d))"
   ]
  },
  {
   "cell_type": "code",
   "execution_count": 147,
   "id": "0fdf95ee",
   "metadata": {},
   "outputs": [
    {
     "name": "stdout",
     "output_type": "stream",
     "text": [
      "[1, 2, 4, '오'] <class 'str'>\n"
     ]
    }
   ],
   "source": [
    "c=str(c)\n",
    "print(c, type(c))"
   ]
  },
  {
   "cell_type": "code",
   "execution_count": 148,
   "id": "e1725e99",
   "metadata": {},
   "outputs": [
    {
     "data": {
      "text/plain": [
       "['[', '1', ',', ' ', '2', ',', ' ', '4', ',', ' ', \"'\", '오', \"'\", ']']"
      ]
     },
     "execution_count": 148,
     "metadata": {},
     "output_type": "execute_result"
    }
   ],
   "source": [
    "list(c)"
   ]
  },
  {
   "cell_type": "code",
   "execution_count": 149,
   "id": "ea9956fb",
   "metadata": {},
   "outputs": [
    {
     "name": "stdout",
     "output_type": "stream",
     "text": [
      "['육', 7, 8.5, 9] <class 'list'>\n"
     ]
    }
   ],
   "source": [
    "d= list(d)\n",
    "print(d, type(d))"
   ]
  },
  {
   "cell_type": "code",
   "execution_count": 150,
   "id": "9b56f0c3",
   "metadata": {},
   "outputs": [],
   "source": [
    "d.append(\"튜플을 리스트로 변환 후 자료 입력\")"
   ]
  },
  {
   "cell_type": "markdown",
   "id": "4d40a573",
   "metadata": {},
   "source": [
    "## tuple() 리스트를 튜플로 변환"
   ]
  },
  {
   "cell_type": "code",
   "execution_count": 151,
   "id": "765ab8a5",
   "metadata": {},
   "outputs": [
    {
     "data": {
      "text/plain": [
       "(('육', 7, 8.5, 9, '튜플을 리스트로 변환 후 자료 입력'), tuple)"
      ]
     },
     "execution_count": 151,
     "metadata": {},
     "output_type": "execute_result"
    }
   ],
   "source": [
    "d = tuple(d)\n",
    "d, type(d)"
   ]
  },
  {
   "cell_type": "markdown",
   "id": "b27700bc",
   "metadata": {},
   "source": [
    "# 연산자의 종류"
   ]
  },
  {
   "cell_type": "markdown",
   "id": "407ea0ea",
   "metadata": {},
   "source": [
    "## 산술연산자 +,-,*,/ , %, //, **"
   ]
  },
  {
   "cell_type": "code",
   "execution_count": 154,
   "id": "33857132",
   "metadata": {},
   "outputs": [
    {
     "data": {
      "text/plain": [
       "2"
      ]
     },
     "execution_count": 154,
     "metadata": {},
     "output_type": "execute_result"
    }
   ],
   "source": [
    "# 덧셈\n",
    "1+1"
   ]
  },
  {
   "cell_type": "code",
   "execution_count": 155,
   "id": "e270c92e",
   "metadata": {},
   "outputs": [
    {
     "data": {
      "text/plain": [
       "2"
      ]
     },
     "execution_count": 155,
     "metadata": {},
     "output_type": "execute_result"
    }
   ],
   "source": [
    "# 뺼셈\n",
    "3-1"
   ]
  },
  {
   "cell_type": "code",
   "execution_count": 156,
   "id": "58d72838",
   "metadata": {},
   "outputs": [
    {
     "data": {
      "text/plain": [
       "1"
      ]
     },
     "execution_count": 156,
     "metadata": {},
     "output_type": "execute_result"
    }
   ],
   "source": [
    "a=3\n",
    "b=2\n",
    "a-b"
   ]
  },
  {
   "cell_type": "code",
   "execution_count": 157,
   "id": "2a13a20d",
   "metadata": {},
   "outputs": [
    {
     "data": {
      "text/plain": [
       "6"
      ]
     },
     "execution_count": 157,
     "metadata": {},
     "output_type": "execute_result"
    }
   ],
   "source": [
    "# 곱하기 \n",
    "a*b"
   ]
  },
  {
   "cell_type": "markdown",
   "id": "6717a2e0",
   "metadata": {},
   "source": [
    "# 나눗셈을 할 경우 데이터 타입이 정수에서 실수로 바뀐다. "
   ]
  },
  {
   "cell_type": "code",
   "execution_count": 158,
   "id": "77e18a06",
   "metadata": {},
   "outputs": [
    {
     "data": {
      "text/plain": [
       "0.6666666666666666"
      ]
     },
     "execution_count": 158,
     "metadata": {},
     "output_type": "execute_result"
    }
   ],
   "source": [
    "# 나눗셈의 결과는 반드시 실수로 나온다. \n",
    "b/a"
   ]
  },
  {
   "cell_type": "code",
   "execution_count": 162,
   "id": "a4bca1ec",
   "metadata": {},
   "outputs": [
    {
     "data": {
      "text/plain": [
       "(1.5, 1, 0)"
      ]
     },
     "execution_count": 162,
     "metadata": {},
     "output_type": "execute_result"
    }
   ],
   "source": [
    "# 나머지 연산자 % 나눈 후 나머지만 출력 \n",
    "#홀수 짝구 구분시 주로 사용 %2 ==0 짝수, %2==1 홀수\n",
    "#배수를 구할 때 사용 % 3 ==0.3dml qotn, %7 == 7의 배수\n",
    "a/b, a%b, 6%2"
   ]
  },
  {
   "cell_type": "code",
   "execution_count": 165,
   "id": "0ec69108",
   "metadata": {},
   "outputs": [
    {
     "name": "stdout",
     "output_type": "stream",
     "text": [
      "2\n"
     ]
    }
   ],
   "source": [
    "# // 나눗셈 후 \n",
    "print(5//2)"
   ]
  },
  {
   "cell_type": "code",
   "execution_count": 166,
   "id": "39905a0b",
   "metadata": {},
   "outputs": [
    {
     "data": {
      "text/plain": [
       "128"
      ]
     },
     "execution_count": 166,
     "metadata": {},
     "output_type": "execute_result"
    }
   ],
   "source": [
    "# ** 제곱\n",
    "2**7"
   ]
  },
  {
   "cell_type": "markdown",
   "id": "3862cd13",
   "metadata": {},
   "source": [
    "# 할당연산자\n",
    "* =,+=,-=,*=,/= %="
   ]
  },
  {
   "cell_type": "code",
   "execution_count": 167,
   "id": "cb89efa7",
   "metadata": {},
   "outputs": [
    {
     "data": {
      "text/plain": [
       "10"
      ]
     },
     "execution_count": 167,
     "metadata": {},
     "output_type": "execute_result"
    }
   ],
   "source": [
    "# = : 오른쪽 있는 자료를 왼쪽 변수에 집어 넣는 할당 연산자 \n",
    "a = 10\n",
    "a"
   ]
  },
  {
   "cell_type": "code",
   "execution_count": 168,
   "id": "09c7c937",
   "metadata": {},
   "outputs": [
    {
     "data": {
      "text/plain": [
       "12"
      ]
     },
     "execution_count": 168,
     "metadata": {},
     "output_type": "execute_result"
    }
   ],
   "source": [
    "# b =b +10 => b +=10\n",
    "b +=10\n",
    "b"
   ]
  },
  {
   "cell_type": "code",
   "execution_count": 169,
   "id": "817fc384",
   "metadata": {},
   "outputs": [
    {
     "data": {
      "text/plain": [
       "10"
      ]
     },
     "execution_count": 169,
     "metadata": {},
     "output_type": "execute_result"
    }
   ],
   "source": [
    "# b =b-2 => b -=2\n",
    "b -= 2\n",
    "b"
   ]
  },
  {
   "cell_type": "code",
   "execution_count": 170,
   "id": "a94c84bb",
   "metadata": {},
   "outputs": [
    {
     "data": {
      "text/plain": [
       "30"
      ]
     },
     "execution_count": 170,
     "metadata": {},
     "output_type": "execute_result"
    }
   ],
   "source": [
    "# b = b*3 => b *=3\n",
    "b*=3\n",
    "b"
   ]
  },
  {
   "cell_type": "code",
   "execution_count": 171,
   "id": "8cc5b3ee",
   "metadata": {},
   "outputs": [
    {
     "data": {
      "text/plain": [
       "6.0"
      ]
     },
     "execution_count": 171,
     "metadata": {},
     "output_type": "execute_result"
    }
   ],
   "source": [
    "# b =b/5 => b/=5\n",
    "b /= 5\n",
    "b"
   ]
  },
  {
   "cell_type": "code",
   "execution_count": 173,
   "id": "a1180386",
   "metadata": {},
   "outputs": [
    {
     "data": {
      "text/plain": [
       "0.0"
      ]
     },
     "execution_count": 173,
     "metadata": {},
     "output_type": "execute_result"
    }
   ],
   "source": [
    "# b = b%2 => b%=2\n",
    "b%=2\n",
    "b"
   ]
  },
  {
   "cell_type": "markdown",
   "id": "b9da6e60",
   "metadata": {},
   "source": [
    "# 비교연산자\n",
    "* 같다 == \n",
    "* 다르다 != \n",
    "* 초과 >\n",
    "* 이상 >= \n",
    "* 미만 < \n",
    "* 이하 <= "
   ]
  },
  {
   "cell_type": "code",
   "execution_count": 174,
   "id": "bfb2781c",
   "metadata": {},
   "outputs": [],
   "source": [
    "a =3\n",
    "b =3.0\n",
    "c=5\n",
    "d='Python'\n",
    "e='python'\n",
    "f=True\n",
    "g = False"
   ]
  },
  {
   "cell_type": "markdown",
   "id": "67132c33",
   "metadata": {},
   "source": [
    "* == 같으면 True, 다르면 False"
   ]
  },
  {
   "cell_type": "code",
   "execution_count": 176,
   "id": "bed518ad",
   "metadata": {},
   "outputs": [
    {
     "data": {
      "text/plain": [
       "True"
      ]
     },
     "execution_count": 176,
     "metadata": {},
     "output_type": "execute_result"
    }
   ],
   "source": [
    "a == b"
   ]
  },
  {
   "cell_type": "code",
   "execution_count": 177,
   "id": "db6d5bf7",
   "metadata": {},
   "outputs": [
    {
     "data": {
      "text/plain": [
       "False"
      ]
     },
     "execution_count": 177,
     "metadata": {},
     "output_type": "execute_result"
    }
   ],
   "source": [
    " a== c"
   ]
  },
  {
   "cell_type": "code",
   "execution_count": 178,
   "id": "3f0af29f",
   "metadata": {},
   "outputs": [
    {
     "data": {
      "text/plain": [
       "False"
      ]
     },
     "execution_count": 178,
     "metadata": {},
     "output_type": "execute_result"
    }
   ],
   "source": [
    " d == e "
   ]
  },
  {
   "cell_type": "code",
   "execution_count": 179,
   "id": "a02ca1e3",
   "metadata": {},
   "outputs": [
    {
     "data": {
      "text/plain": [
       "False"
      ]
     },
     "execution_count": 179,
     "metadata": {},
     "output_type": "execute_result"
    }
   ],
   "source": [
    "f ==g"
   ]
  },
  {
   "cell_type": "markdown",
   "id": "594f94f0",
   "metadata": {},
   "source": [
    "* != 같으면 False,  다르면 True"
   ]
  },
  {
   "cell_type": "code",
   "execution_count": 180,
   "id": "0fc1e807",
   "metadata": {},
   "outputs": [
    {
     "data": {
      "text/plain": [
       "False"
      ]
     },
     "execution_count": 180,
     "metadata": {},
     "output_type": "execute_result"
    }
   ],
   "source": [
    "a != b"
   ]
  },
  {
   "cell_type": "code",
   "execution_count": 181,
   "id": "99c13949",
   "metadata": {},
   "outputs": [
    {
     "data": {
      "text/plain": [
       "True"
      ]
     },
     "execution_count": 181,
     "metadata": {},
     "output_type": "execute_result"
    }
   ],
   "source": [
    "a != c"
   ]
  },
  {
   "cell_type": "code",
   "execution_count": 182,
   "id": "d01c42de",
   "metadata": {},
   "outputs": [
    {
     "data": {
      "text/plain": [
       "True"
      ]
     },
     "execution_count": 182,
     "metadata": {},
     "output_type": "execute_result"
    }
   ],
   "source": [
    "d != e"
   ]
  },
  {
   "cell_type": "markdown",
   "id": "b854fe9d",
   "metadata": {},
   "source": [
    "* \\> 왼쪽값이 오른쪽 값과 비교해서 크면 True (초과)\n",
    "* \\< 왼쪽값이 오른쪽 값과 비교해서 작으면 True(미만)\n",
    "* \\>= 왼쪽값이 오른쪽 값과 비교해서 크거나 같으면 True(이상)\n",
    "* \\<= 왼쪽값이 오른쪽 값과 비교해서 작거나 같으면 True(이하)"
   ]
  },
  {
   "cell_type": "code",
   "execution_count": 183,
   "id": "31729b97",
   "metadata": {},
   "outputs": [
    {
     "data": {
      "text/plain": [
       "True"
      ]
     },
     "execution_count": 183,
     "metadata": {},
     "output_type": "execute_result"
    }
   ],
   "source": [
    " 5 >= 3"
   ]
  },
  {
   "cell_type": "code",
   "execution_count": 184,
   "id": "a1f3d9df",
   "metadata": {},
   "outputs": [
    {
     "data": {
      "text/plain": [
       "True"
      ]
     },
     "execution_count": 184,
     "metadata": {},
     "output_type": "execute_result"
    }
   ],
   "source": [
    "5 > 3"
   ]
  },
  {
   "cell_type": "code",
   "execution_count": 185,
   "id": "d19d636c",
   "metadata": {},
   "outputs": [
    {
     "data": {
      "text/plain": [
       "False"
      ]
     },
     "execution_count": 185,
     "metadata": {},
     "output_type": "execute_result"
    }
   ],
   "source": [
    "5 < 3"
   ]
  },
  {
   "cell_type": "code",
   "execution_count": 186,
   "id": "9086c650",
   "metadata": {},
   "outputs": [
    {
     "data": {
      "text/plain": [
       "False"
      ]
     },
     "execution_count": 186,
     "metadata": {},
     "output_type": "execute_result"
    }
   ],
   "source": [
    "5 <= 3"
   ]
  },
  {
   "cell_type": "code",
   "execution_count": 187,
   "id": "99d9d895",
   "metadata": {},
   "outputs": [
    {
     "data": {
      "text/plain": [
       "False"
      ]
     },
     "execution_count": 187,
     "metadata": {},
     "output_type": "execute_result"
    }
   ],
   "source": [
    "5 < 5"
   ]
  },
  {
   "cell_type": "markdown",
   "id": "648789f4",
   "metadata": {},
   "source": [
    "# 논리 연산자 \n",
    "* and, or, not"
   ]
  },
  {
   "cell_type": "markdown",
   "id": "6806e675",
   "metadata": {},
   "source": [
    "* and: 왼쪽과 오른쪽 값 모두 True 일 때 True, 하나라도 False면 False"
   ]
  },
  {
   "cell_type": "code",
   "execution_count": 189,
   "id": "68efa2e9",
   "metadata": {},
   "outputs": [
    {
     "data": {
      "text/plain": [
       "True"
      ]
     },
     "execution_count": 189,
     "metadata": {},
     "output_type": "execute_result"
    }
   ],
   "source": [
    "# True and True \n",
    "3 == 3 and 5 > 3"
   ]
  },
  {
   "cell_type": "code",
   "execution_count": 190,
   "id": "9a2f9dca",
   "metadata": {},
   "outputs": [
    {
     "data": {
      "text/plain": [
       "False"
      ]
     },
     "execution_count": 190,
     "metadata": {},
     "output_type": "execute_result"
    }
   ],
   "source": [
    "# Fasle and True \n",
    "3 < 3 and 5 > 3"
   ]
  },
  {
   "cell_type": "code",
   "execution_count": null,
   "id": "74e26b38",
   "metadata": {},
   "outputs": [],
   "source": [
    "# True and False"
   ]
  },
  {
   "cell_type": "code",
   "execution_count": null,
   "id": "3cf8fa70",
   "metadata": {},
   "outputs": [],
   "source": [
    "# False and False "
   ]
  },
  {
   "cell_type": "markdown",
   "id": "21e35c48",
   "metadata": {},
   "source": [
    "* or 왼쪽이나 오른쪽 중에 하나라도 True면 True, 둘 다 False 일 때 만 False "
   ]
  },
  {
   "cell_type": "code",
   "execution_count": 191,
   "id": "d6c5edcf",
   "metadata": {},
   "outputs": [
    {
     "data": {
      "text/plain": [
       "True"
      ]
     },
     "execution_count": 191,
     "metadata": {},
     "output_type": "execute_result"
    }
   ],
   "source": [
    "# True or True \n",
    "3 == 3 or 5 > 3"
   ]
  },
  {
   "cell_type": "code",
   "execution_count": 192,
   "id": "c4142413",
   "metadata": {},
   "outputs": [
    {
     "data": {
      "text/plain": [
       "True"
      ]
     },
     "execution_count": 192,
     "metadata": {},
     "output_type": "execute_result"
    }
   ],
   "source": [
    "# Fasle or True \n",
    "3 < 3 or 5 > 3"
   ]
  },
  {
   "cell_type": "code",
   "execution_count": null,
   "id": "4dabe3ab",
   "metadata": {},
   "outputs": [],
   "source": [
    "# True and False"
   ]
  },
  {
   "cell_type": "code",
   "execution_count": 193,
   "id": "5ff450ca",
   "metadata": {},
   "outputs": [
    {
     "data": {
      "text/plain": [
       "False"
      ]
     },
     "execution_count": 193,
     "metadata": {},
     "output_type": "execute_result"
    }
   ],
   "source": [
    "# False and False \n",
    "3 < 3 or 5 < 3"
   ]
  },
  {
   "cell_type": "markdown",
   "id": "b1ddd926",
   "metadata": {},
   "source": [
    "* not 값을 반대로 뒤집음 True => False, False => True"
   ]
  },
  {
   "cell_type": "code",
   "execution_count": 194,
   "id": "395fc9b3",
   "metadata": {},
   "outputs": [
    {
     "data": {
      "text/plain": [
       "False"
      ]
     },
     "execution_count": 194,
     "metadata": {},
     "output_type": "execute_result"
    }
   ],
   "source": [
    "not True"
   ]
  },
  {
   "cell_type": "code",
   "execution_count": 195,
   "id": "7a75c9da",
   "metadata": {},
   "outputs": [
    {
     "data": {
      "text/plain": [
       "True"
      ]
     },
     "execution_count": 195,
     "metadata": {},
     "output_type": "execute_result"
    }
   ],
   "source": [
    "not False"
   ]
  },
  {
   "cell_type": "code",
   "execution_count": 196,
   "id": "c8755ce3",
   "metadata": {},
   "outputs": [
    {
     "data": {
      "text/plain": [
       "False"
      ]
     },
     "execution_count": 196,
     "metadata": {},
     "output_type": "execute_result"
    }
   ],
   "source": [
    "not(3 == 3 and 5 > 3)"
   ]
  },
  {
   "cell_type": "code",
   "execution_count": 197,
   "id": "86fbdd9f",
   "metadata": {},
   "outputs": [
    {
     "data": {
      "text/plain": [
       "True"
      ]
     },
     "execution_count": 197,
     "metadata": {},
     "output_type": "execute_result"
    }
   ],
   "source": [
    "not 3 < 3 and not 5 < 3"
   ]
  },
  {
   "cell_type": "markdown",
   "id": "48d7fa39",
   "metadata": {},
   "source": [
    "* not, and, or의 순위  \n",
    "* not -> and -> or "
   ]
  },
  {
   "cell_type": "code",
   "execution_count": 201,
   "id": "c25153f0",
   "metadata": {},
   "outputs": [
    {
     "data": {
      "text/plain": [
       "True"
      ]
     },
     "execution_count": 201,
     "metadata": {},
     "output_type": "execute_result"
    }
   ],
   "source": [
    "False and False or True\n",
    "not True and False or not False"
   ]
  },
  {
   "cell_type": "code",
   "execution_count": 202,
   "id": "ac249823",
   "metadata": {},
   "outputs": [
    {
     "data": {
      "text/plain": [
       "True"
      ]
     },
     "execution_count": 202,
     "metadata": {},
     "output_type": "execute_result"
    }
   ],
   "source": [
    "# True and True \n",
    "10 == 10 and 10 !=5"
   ]
  },
  {
   "cell_type": "markdown",
   "id": "4f114586",
   "metadata": {},
   "source": [
    "# 식별연산자 \n",
    "* is, is not(data type까지 같은지 비교)"
   ]
  },
  {
   "cell_type": "code",
   "execution_count": 203,
   "id": "2c534146",
   "metadata": {},
   "outputs": [
    {
     "name": "stdout",
     "output_type": "stream",
     "text": [
      "3\n",
      "3.0\n",
      "5\n"
     ]
    }
   ],
   "source": [
    "print(a)\n",
    "print(b)\n",
    "print(c)"
   ]
  },
  {
   "cell_type": "code",
   "execution_count": 205,
   "id": "312dc170",
   "metadata": {},
   "outputs": [
    {
     "name": "stdout",
     "output_type": "stream",
     "text": [
      "True\n",
      "False\n"
     ]
    }
   ],
   "source": [
    "# == 는 값만 같으면 True 처리, is는 값이 같아도 데이터 타입이 다르면 False\n",
    "print( a == b)\n",
    "print( a is b)"
   ]
  },
  {
   "cell_type": "code",
   "execution_count": 206,
   "id": "b30c37f3",
   "metadata": {},
   "outputs": [],
   "source": [
    "d=3"
   ]
  },
  {
   "cell_type": "code",
   "execution_count": 208,
   "id": "aa027368",
   "metadata": {},
   "outputs": [
    {
     "name": "stdout",
     "output_type": "stream",
     "text": [
      "True\n"
     ]
    }
   ],
   "source": [
    "# a와 b 모두 int 3이기 때문에 True\n",
    "print(a is d)"
   ]
  },
  {
   "cell_type": "code",
   "execution_count": 210,
   "id": "b5784b93",
   "metadata": {},
   "outputs": [
    {
     "name": "stdout",
     "output_type": "stream",
     "text": [
      "True\n"
     ]
    }
   ],
   "source": [
    "# is not은 둘이 다르면 True \n",
    "print( a is not b)"
   ]
  },
  {
   "cell_type": "markdown",
   "id": "b48a44fe",
   "metadata": {},
   "source": [
    "* 멤버연산자 \n",
    "*in, not in \n",
    "*list나 tuple, dict 안에 원하는 값이 있는지 찾을 때 사용"
   ]
  },
  {
   "cell_type": "code",
   "execution_count": 211,
   "id": "8c0adeea",
   "metadata": {},
   "outputs": [],
   "source": [
    "mem = [1,2,3,4,5,\"육\"]"
   ]
  },
  {
   "cell_type": "code",
   "execution_count": 212,
   "id": "83d03f10",
   "metadata": {},
   "outputs": [
    {
     "data": {
      "text/plain": [
       "True"
      ]
     },
     "execution_count": 212,
     "metadata": {},
     "output_type": "execute_result"
    }
   ],
   "source": [
    "3 in mem"
   ]
  },
  {
   "cell_type": "code",
   "execution_count": 213,
   "id": "bf50a860",
   "metadata": {},
   "outputs": [
    {
     "data": {
      "text/plain": [
       "False"
      ]
     },
     "execution_count": 213,
     "metadata": {},
     "output_type": "execute_result"
    }
   ],
   "source": [
    "6 in mem"
   ]
  },
  {
   "cell_type": "code",
   "execution_count": 214,
   "id": "ae7ed1df",
   "metadata": {},
   "outputs": [
    {
     "data": {
      "text/plain": [
       "False"
      ]
     },
     "execution_count": 214,
     "metadata": {},
     "output_type": "execute_result"
    }
   ],
   "source": [
    "3 not in mem"
   ]
  },
  {
   "cell_type": "markdown",
   "id": "0c604942",
   "metadata": {},
   "source": [
    "# 문자열 함수 .replace(\"찾을 값\", \"바꿀 값\")"
   ]
  },
  {
   "cell_type": "code",
   "execution_count": 215,
   "id": "5dfe31e3",
   "metadata": {},
   "outputs": [
    {
     "data": {
      "text/plain": [
       "'010-1111-2222'"
      ]
     },
     "execution_count": 215,
     "metadata": {},
     "output_type": "execute_result"
    }
   ],
   "source": [
    "c =\"010-1111-2222\"\n",
    "c"
   ]
  },
  {
   "cell_type": "code",
   "execution_count": 219,
   "id": "b79cd921",
   "metadata": {},
   "outputs": [
    {
     "data": {
      "text/plain": [
       "'010.1111.2222'"
      ]
     },
     "execution_count": 219,
     "metadata": {},
     "output_type": "execute_result"
    }
   ],
   "source": [
    "c =c.replace(\"-\", \".\")\n",
    "c"
   ]
  }
 ],
 "metadata": {
  "kernelspec": {
   "display_name": "Python 3 (ipykernel)",
   "language": "python",
   "name": "python3"
  },
  "language_info": {
   "codemirror_mode": {
    "name": "ipython",
    "version": 3
   },
   "file_extension": ".py",
   "mimetype": "text/x-python",
   "name": "python",
   "nbconvert_exporter": "python",
   "pygments_lexer": "ipython3",
   "version": "3.9.23"
  }
 },
 "nbformat": 4,
 "nbformat_minor": 5
}
