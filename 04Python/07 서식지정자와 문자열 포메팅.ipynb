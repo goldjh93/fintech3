{
 "cells": [
  {
   "cell_type": "markdown",
   "id": "1344e4a4",
   "metadata": {},
   "source": [
    "# 서식지정자, format 메서드\n",
    "* 문자열로만 입력해야 하는 상황에서 같은 위치에 문자를 여러 번 바꿔야 할 때 사용\n",
    "* 문자의 자릿수 맞춤, 위치 정렬에도 사용\n",
    "* 문자열 사이에 변수에 담긴 내용을 함께 출력할 때 사용."
   ]
  },
  {
   "cell_type": "markdown",
   "id": "e6595e00",
   "metadata": {},
   "source": [
    "# 서식지정자 %d, %d, %f, %길이s"
   ]
  },
  {
   "cell_type": "markdown",
   "id": "82010892",
   "metadata": {},
   "source": [
    "# 1) 문자를 입력할 때 %s"
   ]
  },
  {
   "cell_type": "code",
   "execution_count": 1,
   "id": "cb43743a",
   "metadata": {},
   "outputs": [
    {
     "name": "stdout",
     "output_type": "stream",
     "text": [
      "이 수업의 이름은 국어 입니다.\n"
     ]
    }
   ],
   "source": [
    "print('이 수업의 이름은 %s 입니다.'% \"국어\")"
   ]
  },
  {
   "cell_type": "code",
   "execution_count": 2,
   "id": "7ddd2e89",
   "metadata": {},
   "outputs": [
    {
     "name": "stdout",
     "output_type": "stream",
     "text": [
      "이 수업의 이름은 국어 입니다.\n",
      "이 수업의 이름은 수학 입니다.\n",
      "이 수업의 이름은 사회 입니다.\n",
      "이 수업의 이름은 영어 입니다.\n"
     ]
    }
   ],
   "source": [
    "for i in ['국어', '수학', '사회', '영어']:\n",
    "    print('이 수업의 이름은 %s 입니다.'%i)"
   ]
  },
  {
   "cell_type": "markdown",
   "id": "869c1b76",
   "metadata": {},
   "source": [
    "# 2) 정수를 입력할 때 %d"
   ]
  },
  {
   "cell_type": "code",
   "execution_count": 3,
   "id": "49452731",
   "metadata": {},
   "outputs": [
    {
     "name": "stdout",
     "output_type": "stream",
     "text": [
      "올해는 2025년 입니다.\n"
     ]
    }
   ],
   "source": [
    "print('올해는 %d년 입니다.' % 2025)"
   ]
  },
  {
   "cell_type": "markdown",
   "id": "cd840fd7",
   "metadata": {},
   "source": [
    "## 3) 실수를 입력할 때 %f 기본 소숫점 6자리로 표시 "
   ]
  },
  {
   "cell_type": "code",
   "execution_count": 4,
   "id": "370f448b",
   "metadata": {},
   "outputs": [
    {
     "name": "stdout",
     "output_type": "stream",
     "text": [
      "사람의 정상 체온은 약 36.500000도 입니다.\n"
     ]
    }
   ],
   "source": [
    "print('사람의 정상 체온은 약 %f도 입니다.'% 36.5)"
   ]
  },
  {
   "cell_type": "markdown",
   "id": "4b296abe",
   "metadata": {},
   "source": [
    "* 소숫점 표기를 조절할 때 %.소숫점자리수f ex) %2f"
   ]
  },
  {
   "cell_type": "code",
   "execution_count": 8,
   "id": "9c90be0f",
   "metadata": {},
   "outputs": [
    {
     "name": "stdout",
     "output_type": "stream",
     "text": [
      "사람의 정상 체온은 약 36.5도 입니다.\n"
     ]
    }
   ],
   "source": [
    "print('사람의 정상 체온은 약 %.1f도 입니다.'% 36.5)"
   ]
  },
  {
   "cell_type": "markdown",
   "id": "4a27322e",
   "metadata": {},
   "source": [
    "# 4) 서식지정자로 문자열 길이, 정렬 %길이s\n",
    "* %3s 3자리로 표시 "
   ]
  },
  {
   "cell_type": "code",
   "execution_count": 9,
   "id": "58f6d67e",
   "metadata": {},
   "outputs": [
    {
     "name": "stdout",
     "output_type": "stream",
     "text": [
      " 01\n"
     ]
    }
   ],
   "source": [
    "print('%3s' % '01')"
   ]
  },
  {
   "cell_type": "code",
   "execution_count": 10,
   "id": "c821d876",
   "metadata": {},
   "outputs": [
    {
     "data": {
      "text/plain": [
       "' 01'"
      ]
     },
     "execution_count": 10,
     "metadata": {},
     "output_type": "execute_result"
    }
   ],
   "source": [
    "'%3s' % '01'"
   ]
  },
  {
   "cell_type": "code",
   "execution_count": 11,
   "id": "0edb0be1",
   "metadata": {},
   "outputs": [
    {
     "data": {
      "text/plain": [
       "'  01'"
      ]
     },
     "execution_count": 11,
     "metadata": {},
     "output_type": "execute_result"
    }
   ],
   "source": [
    "'%4s' % '01'"
   ]
  },
  {
   "cell_type": "code",
   "execution_count": 12,
   "id": "572635e7",
   "metadata": {},
   "outputs": [
    {
     "name": "stdout",
     "output_type": "stream",
     "text": [
      "15000\n",
      "150000\n"
     ]
    }
   ],
   "source": [
    "print(15000)\n",
    "print(150000)"
   ]
  },
  {
   "cell_type": "code",
   "execution_count": 13,
   "id": "63d9a5af",
   "metadata": {},
   "outputs": [
    {
     "name": "stdout",
     "output_type": "stream",
     "text": [
      "가격은      15000 입니다.\n",
      "가격은     150000 입니다.\n"
     ]
    }
   ],
   "source": [
    "print('가격은 %10d 입니다.'%15000)\n",
    "print('가격은 %10d 입니다.'%150000)"
   ]
  },
  {
   "cell_type": "markdown",
   "id": "1fe28959",
   "metadata": {},
   "source": [
    "## 5) 여러 항목 동시에 넣기"
   ]
  },
  {
   "cell_type": "code",
   "execution_count": 14,
   "id": "69dfabad",
   "metadata": {},
   "outputs": [
    {
     "name": "stdout",
     "output_type": "stream",
     "text": [
      "오늘은 2025년  9월 24일 입니다.\n"
     ]
    }
   ],
   "source": [
    "print(\"오늘은 %4d년 %2d월 %2d일 입니다.\"%(2025, 9, 24))"
   ]
  },
  {
   "cell_type": "code",
   "execution_count": 15,
   "id": "99fbad8a",
   "metadata": {},
   "outputs": [],
   "source": [
    "company = ['삼성전자', 'LG전자', '현대차', '대한항공', '하나투어']\n",
    "stock_price =[71800, 12100, 195000, 31900, 86600]"
   ]
  },
  {
   "cell_type": "code",
   "execution_count": 16,
   "id": "b84f6fc0",
   "metadata": {},
   "outputs": [
    {
     "name": "stdout",
     "output_type": "stream",
     "text": [
      "삼성전자의 주가는 71800원 입니다.\n",
      "LG전자의 주가는 12100원 입니다.\n",
      "현대차의 주가는 195000원 입니다.\n",
      "대한항공의 주가는 31900원 입니다.\n",
      "하나투어의 주가는 86600원 입니다.\n"
     ]
    }
   ],
   "source": [
    "for com, sp in zip(company, stock_price):\n",
    "    print(\"%s의 주가는 %d원 입니다.\"% (com, sp))"
   ]
  },
  {
   "cell_type": "code",
   "execution_count": 17,
   "id": "db7d38af",
   "metadata": {},
   "outputs": [
    {
     "name": "stdout",
     "output_type": "stream",
     "text": [
      "삼성전자의 주가는 71800원 입니다.\n",
      "LG전자의 주가는 12100원 입니다.\n",
      "현대차의 주가는 195000원 입니다.\n",
      "대한항공의 주가는 31900원 입니다.\n",
      "하나투어의 주가는 86600원 입니다.\n"
     ]
    }
   ],
   "source": [
    "for com_sp in zip(company, stock_price):\n",
    "    print(\"%s의 주가는 %d원 입니다.\"% com_sp)"
   ]
  },
  {
   "cell_type": "markdown",
   "id": "f8dd7e46",
   "metadata": {},
   "source": [
    "# 2. format 메서드 사용하기, f-string 문자열 포메팅"
   ]
  },
  {
   "cell_type": "markdown",
   "id": "20283ce5",
   "metadata": {},
   "source": [
    "## 1) format 메서드 사용하기 \n",
    "* \"문자열 {인덱스 번호} 문자열 끝\".format(값1, 값2) \n",
    "* ,format(값1, 값2) => 값1 =0, 값2=1"
   ]
  },
  {
   "cell_type": "code",
   "execution_count": 18,
   "id": "a2fa1603",
   "metadata": {},
   "outputs": [
    {
     "name": "stdout",
     "output_type": "stream",
     "text": [
      "삼성전자의 주가는 71800입니다.\n"
     ]
    }
   ],
   "source": [
    "print(\"{}의 주가는 {}입니다.\".format('삼성전자', 71800))"
   ]
  },
  {
   "cell_type": "code",
   "execution_count": 19,
   "id": "2620112e",
   "metadata": {},
   "outputs": [
    {
     "name": "stdout",
     "output_type": "stream",
     "text": [
      "71800의 주가는 삼성전자입니다.\n"
     ]
    }
   ],
   "source": [
    "print(\"{1}의 주가는 {0}입니다.\".format('삼성전자', 71800))"
   ]
  },
  {
   "cell_type": "code",
   "execution_count": 27,
   "id": "172e4d0c",
   "metadata": {},
   "outputs": [
    {
     "name": "stdout",
     "output_type": "stream",
     "text": [
      "삼성전자의 주가는 71500원입니다.\n",
      "삼성전자의 상한가는 93000원입니다.\n",
      "삼성전자의 하한가는 50200원입니다.\n"
     ]
    }
   ],
   "source": [
    "print(\"{0}의 주가는 {1}원입니다.\\n{0}의 상한가는 {3}원입니다.\\n{0}의 하한가는 {2}원입니다.\".format(\"삼성전자\", 71500, 50200, 93000))"
   ]
  },
  {
   "cell_type": "markdown",
   "id": "56bf2043",
   "metadata": {},
   "source": [
    "# 2) f-string 포메팅 python 3.6부터 사용 가능 "
   ]
  },
  {
   "cell_type": "code",
   "execution_count": 28,
   "id": "af0699c1",
   "metadata": {},
   "outputs": [
    {
     "data": {
      "text/plain": [
       "['삼성전자', 'LG전자', '현대차', '대한항공', '하나투어']"
      ]
     },
     "execution_count": 28,
     "metadata": {},
     "output_type": "execute_result"
    }
   ],
   "source": [
    "company"
   ]
  },
  {
   "cell_type": "code",
   "execution_count": 29,
   "id": "aef0248a",
   "metadata": {},
   "outputs": [
    {
     "data": {
      "text/plain": [
       "[71800, 12100, 195000, 31900, 86600]"
      ]
     },
     "execution_count": 29,
     "metadata": {},
     "output_type": "execute_result"
    }
   ],
   "source": [
    "stock_price"
   ]
  },
  {
   "cell_type": "code",
   "execution_count": 31,
   "id": "873aaad5",
   "metadata": {},
   "outputs": [
    {
     "name": "stdout",
     "output_type": "stream",
     "text": [
      "현대차의 주가는 195000입니다.\n"
     ]
    }
   ],
   "source": [
    "print(f'{company[2]}의 주가는 {stock_price[2]}입니다.')"
   ]
  },
  {
   "cell_type": "code",
   "execution_count": 33,
   "id": "31ce639c",
   "metadata": {},
   "outputs": [],
   "source": [
    "sam ='삼성전자'\n",
    "sto = 718000\n",
    "low =502000\n",
    "high = 93000"
   ]
  },
  {
   "cell_type": "code",
   "execution_count": 34,
   "id": "d654db05",
   "metadata": {},
   "outputs": [
    {
     "name": "stdout",
     "output_type": "stream",
     "text": [
      "삼성전자의 주가는 718000원입니다.\n",
      "삼성전자의 상한가는 93000원입니다.\n",
      "삼성전자의 하한가는 502000원입니다.\n"
     ]
    }
   ],
   "source": [
    "print(f\"{sam}의 주가는 {sto}원입니다.\\n{sam}의 상한가는 {high}원입니다.\\n{sam}의 하한가는 {low}원입니다.\")"
   ]
  },
  {
   "cell_type": "markdown",
   "id": "ffa340be",
   "metadata": {},
   "source": [
    "# 3. fomat메서드와 f-string으로 문자열 정렬하기, 자리수 지정헤 출력하기\n",
    "* \"{인덱스:<길이}\".format(값)\n",
    "* f\"{값:>길이}\""
   ]
  },
  {
   "cell_type": "markdown",
   "id": "fc4e73ad",
   "metadata": {},
   "source": [
    "* <10: 공간을 10칸 확보하고 글자를 왼쪽 정렬"
   ]
  },
  {
   "cell_type": "code",
   "execution_count": 37,
   "id": "d0d4d0b4",
   "metadata": {
    "scrolled": true
   },
   "outputs": [
    {
     "name": "stdout",
     "output_type": "stream",
     "text": [
      "삼성전자      \n"
     ]
    }
   ],
   "source": [
    "print(\"{0:<10}\".format(\"삼성전자\"))"
   ]
  },
  {
   "cell_type": "code",
   "execution_count": 38,
   "id": "a20ba053",
   "metadata": {},
   "outputs": [
    {
     "data": {
      "text/plain": [
       "'삼성전자      '"
      ]
     },
     "execution_count": 38,
     "metadata": {},
     "output_type": "execute_result"
    }
   ],
   "source": [
    "\"{0:<10}\".format(\"삼성전자\")"
   ]
  },
  {
   "cell_type": "code",
   "execution_count": 39,
   "id": "9529488e",
   "metadata": {},
   "outputs": [
    {
     "data": {
      "text/plain": [
       "'      삼성전자'"
      ]
     },
     "execution_count": 39,
     "metadata": {},
     "output_type": "execute_result"
    }
   ],
   "source": [
    "\"{0:>10}\".format(\"삼성전자\")"
   ]
  },
  {
   "cell_type": "code",
   "execution_count": 40,
   "id": "fef3d531",
   "metadata": {},
   "outputs": [
    {
     "data": {
      "text/plain": [
       "'삼성전자      '"
      ]
     },
     "execution_count": 40,
     "metadata": {},
     "output_type": "execute_result"
    }
   ],
   "source": [
    "f\"{sam:<10}\""
   ]
  },
  {
   "cell_type": "code",
   "execution_count": 41,
   "id": "529155f2",
   "metadata": {},
   "outputs": [
    {
     "data": {
      "text/plain": [
       "'      삼성전자'"
      ]
     },
     "execution_count": 41,
     "metadata": {},
     "output_type": "execute_result"
    }
   ],
   "source": [
    "f\"{sam:>10}\""
   ]
  },
  {
   "cell_type": "markdown",
   "id": "14e1e585",
   "metadata": {},
   "source": [
    "### 숫자 표기시 숫자 자리수 맞추고 기본 값 지정하기 \n",
    "* \"{인덱스: 채울숫자 길이 서식 지정자}\".format(값) - 단 서식지정자에서 %를 빼고 적는다. \n",
    "* f\"{값: 채울 숫자 길이 서식지정자}"
   ]
  },
  {
   "cell_type": "markdown",
   "id": "59ad24fd",
   "metadata": {},
   "source": [
    "* 정수의 자릿수를 맞출 때"
   ]
  },
  {
   "cell_type": "code",
   "execution_count": 42,
   "id": "5a1a881c",
   "metadata": {},
   "outputs": [
    {
     "name": "stdout",
     "output_type": "stream",
     "text": [
      "1월\n"
     ]
    }
   ],
   "source": [
    "print(\"{0}월\".format(1))"
   ]
  },
  {
   "cell_type": "code",
   "execution_count": 43,
   "id": "70bee866",
   "metadata": {},
   "outputs": [
    {
     "name": "stdout",
     "output_type": "stream",
     "text": [
      "01월\n"
     ]
    }
   ],
   "source": [
    "print(\"{0:02d}월\".format(1))"
   ]
  },
  {
   "cell_type": "code",
   "execution_count": 44,
   "id": "332e351e",
   "metadata": {},
   "outputs": [
    {
     "name": "stdout",
     "output_type": "stream",
     "text": [
      "001월\n"
     ]
    }
   ],
   "source": [
    "print(\"{0:03d}월\".format(1))"
   ]
  },
  {
   "cell_type": "code",
   "execution_count": 45,
   "id": "c6f3c454",
   "metadata": {},
   "outputs": [
    {
     "name": "stdout",
     "output_type": "stream",
     "text": [
      "1000월\n"
     ]
    }
   ],
   "source": [
    "print(\"{0:03d}월\".format(1000))"
   ]
  },
  {
   "cell_type": "code",
   "execution_count": 46,
   "id": "609665eb",
   "metadata": {},
   "outputs": [
    {
     "name": "stdout",
     "output_type": "stream",
     "text": [
      "01월\n"
     ]
    }
   ],
   "source": [
    "print(f\"{1:02d}월\")"
   ]
  },
  {
   "cell_type": "markdown",
   "id": "ed9f763c",
   "metadata": {},
   "source": [
    "* 실수의 자릿수를 맞출 때\n",
    "* 실수에서 자릿수는 정수+.+소수점 .2f"
   ]
  },
  {
   "cell_type": "code",
   "execution_count": 47,
   "id": "9a1a2c40",
   "metadata": {},
   "outputs": [
    {
     "name": "stdout",
     "output_type": "stream",
     "text": [
      "2.246\n"
     ]
    }
   ],
   "source": [
    "print(\"{0:03.3f}\".format(2.245678))"
   ]
  },
  {
   "cell_type": "code",
   "execution_count": 53,
   "id": "b1d365cb",
   "metadata": {},
   "outputs": [
    {
     "name": "stdout",
     "output_type": "stream",
     "text": [
      "02.246\n"
     ]
    }
   ],
   "source": [
    "print(\"{0:06.3f}\".format(2.245678))"
   ]
  },
  {
   "cell_type": "code",
   "execution_count": 49,
   "id": "aa96a39d",
   "metadata": {},
   "outputs": [
    {
     "name": "stdout",
     "output_type": "stream",
     "text": [
      "002.246\n"
     ]
    }
   ],
   "source": [
    "print(\"{0:07.3f}\".format(2.245678))"
   ]
  },
  {
   "cell_type": "code",
   "execution_count": 50,
   "id": "3224ab8a",
   "metadata": {},
   "outputs": [
    {
     "name": "stdout",
     "output_type": "stream",
     "text": [
      "02.2457\n"
     ]
    }
   ],
   "source": [
    "print(\"{0:07.4f}\".format(2.245678))"
   ]
  },
  {
   "cell_type": "markdown",
   "id": "a9fd86f2",
   "metadata": {},
   "source": [
    "* 00시 00분부터 11시 59분까지 출력하세요. 1자리는 01형식으로 출력하세요."
   ]
  },
  {
   "cell_type": "code",
   "execution_count": 55,
   "id": "8e9c6d8e",
   "metadata": {
    "scrolled": true
   },
   "outputs": [
    {
     "name": "stdout",
     "output_type": "stream",
     "text": [
      "00\n",
      "01\n",
      "02\n",
      "03\n",
      "04\n",
      "05\n",
      "06\n",
      "07\n",
      "08\n",
      "09\n",
      "10\n",
      "11\n"
     ]
    }
   ],
   "source": [
    "for i in range(12):\n",
    "    print(f'{i:02d}')"
   ]
  },
  {
   "cell_type": "code",
   "execution_count": 57,
   "id": "103cf266",
   "metadata": {},
   "outputs": [
    {
     "name": "stdout",
     "output_type": "stream",
     "text": [
      "10시 46분\r"
     ]
    },
    {
     "ename": "KeyboardInterrupt",
     "evalue": "",
     "output_type": "error",
     "traceback": [
      "\u001b[1;31m---------------------------------------------------------------------------\u001b[0m",
      "\u001b[1;31mKeyboardInterrupt\u001b[0m                         Traceback (most recent call last)",
      "Cell \u001b[1;32mIn[57], line 5\u001b[0m\n\u001b[0;32m      3\u001b[0m \u001b[38;5;28;01mfor\u001b[39;00m m \u001b[38;5;129;01min\u001b[39;00m \u001b[38;5;28mrange\u001b[39m(\u001b[38;5;241m60\u001b[39m):\n\u001b[0;32m      4\u001b[0m     \u001b[38;5;28mprint\u001b[39m(\u001b[38;5;124mf\u001b[39m\u001b[38;5;124m'\u001b[39m\u001b[38;5;132;01m{\u001b[39;00mh\u001b[38;5;132;01m:\u001b[39;00m\u001b[38;5;124m02d\u001b[39m\u001b[38;5;132;01m}\u001b[39;00m\u001b[38;5;124m시 \u001b[39m\u001b[38;5;132;01m{\u001b[39;00mm\u001b[38;5;132;01m:\u001b[39;00m\u001b[38;5;124m02d\u001b[39m\u001b[38;5;132;01m}\u001b[39;00m\u001b[38;5;124m분\u001b[39m\u001b[38;5;124m'\u001b[39m, end\u001b[38;5;241m=\u001b[39m\u001b[38;5;124m'\u001b[39m\u001b[38;5;130;01m\\r\u001b[39;00m\u001b[38;5;124m'\u001b[39m)\n\u001b[1;32m----> 5\u001b[0m     \u001b[43mtime\u001b[49m\u001b[38;5;241;43m.\u001b[39;49m\u001b[43msleep\u001b[49m\u001b[43m(\u001b[49m\u001b[38;5;241;43m0.1\u001b[39;49m\u001b[43m)\u001b[49m\n",
      "\u001b[1;31mKeyboardInterrupt\u001b[0m: "
     ]
    }
   ],
   "source": [
    "import time\n",
    "for h in range(12):\n",
    "    for m in range(60):\n",
    "        print(f'{h:02d}시 {m:02d}분', end='\\r')\n",
    "        time.sleep(0.1)\n"
   ]
  },
  {
   "cell_type": "markdown",
   "id": "31120981",
   "metadata": {},
   "source": [
    "* 공백을 원하는 문자로 채우고 자릿수 맞추기 \n",
    "* {인덱스: 원하는 문자/숫자 < > 자릿수}.format(값)\n",
    "* f'{값:원하는 문자/숫자 < > 자릿수}'"
   ]
  },
  {
   "cell_type": "code",
   "execution_count": 58,
   "id": "4aa15510",
   "metadata": {},
   "outputs": [
    {
     "data": {
      "text/plain": [
       "'0001'"
      ]
     },
     "execution_count": 58,
     "metadata": {},
     "output_type": "execute_result"
    }
   ],
   "source": [
    "# 빈자리를 0으로 채울 떄 \n",
    "\"{0:0>4}\".format(1)"
   ]
  },
  {
   "cell_type": "code",
   "execution_count": 60,
   "id": "0d63f14f",
   "metadata": {},
   "outputs": [
    {
     "data": {
      "text/plain": [
       "'1000'"
      ]
     },
     "execution_count": 60,
     "metadata": {},
     "output_type": "execute_result"
    }
   ],
   "source": [
    "f'{1:0<4}'"
   ]
  },
  {
   "cell_type": "code",
   "execution_count": 61,
   "id": "c8cb91d5",
   "metadata": {},
   "outputs": [
    {
     "data": {
      "text/plain": [
       "'$$$1'"
      ]
     },
     "execution_count": 61,
     "metadata": {},
     "output_type": "execute_result"
    }
   ],
   "source": [
    "# $로 채울 때\n",
    "\"{0:$>4}\".format(1)"
   ]
  },
  {
   "cell_type": "code",
   "execution_count": 62,
   "id": "831e7547",
   "metadata": {},
   "outputs": [
    {
     "data": {
      "text/plain": [
       "'1$$$'"
      ]
     },
     "execution_count": 62,
     "metadata": {},
     "output_type": "execute_result"
    }
   ],
   "source": [
    "f'{1:$<4}'"
   ]
  },
  {
   "cell_type": "code",
   "execution_count": null,
   "id": "ac4206ce",
   "metadata": {},
   "outputs": [],
   "source": []
  }
 ],
 "metadata": {
  "kernelspec": {
   "display_name": "Python 3 (ipykernel)",
   "language": "python",
   "name": "python3"
  },
  "language_info": {
   "codemirror_mode": {
    "name": "ipython",
    "version": 3
   },
   "file_extension": ".py",
   "mimetype": "text/x-python",
   "name": "python",
   "nbconvert_exporter": "python",
   "pygments_lexer": "ipython3",
   "version": "3.9.23"
  }
 },
 "nbformat": 4,
 "nbformat_minor": 5
}
