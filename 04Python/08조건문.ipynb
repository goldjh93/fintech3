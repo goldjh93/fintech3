{
 "cells": [
  {
   "cell_type": "markdown",
   "id": "92a2061c",
   "metadata": {},
   "source": [
    "# if else 조건문\n",
    "# 1. 조건문이란? 특정 조건을 판별해서 작업을 분기시키는 문법\n",
    "* if 조건식 :<br>\n",
    "____조건식이 참일 때 실행할 코드<br>\n",
    "  else:<br>\n",
    "____조건식이 거짓을 때 실행할 코드 <br>"
   ]
  },
  {
   "cell_type": "code",
   "execution_count": 1,
   "id": "a83ce401",
   "metadata": {},
   "outputs": [],
   "source": [
    "x=12"
   ]
  },
  {
   "cell_type": "code",
   "execution_count": 2,
   "id": "d7ba74be",
   "metadata": {},
   "outputs": [
    {
     "name": "stdout",
     "output_type": "stream",
     "text": [
      "12는 10이 아닙니다.\n"
     ]
    }
   ],
   "source": [
    "if x == 10:\n",
    "    print(f'{x}는 10입니다')\n",
    "else:\n",
    "    print(f'{x}는 10이 아닙니다.')"
   ]
  },
  {
   "cell_type": "code",
   "execution_count": 4,
   "id": "ee7a29ec",
   "metadata": {},
   "outputs": [
    {
     "name": "stdout",
     "output_type": "stream",
     "text": [
      "12는 3의 배수입니다.\n"
     ]
    }
   ],
   "source": [
    "if x == 10:\n",
    "    if x%2 == 0:\n",
    "        print(f'{x}는 짝수이고 10입니다.')\n",
    "    else: \n",
    "        print(f'{x}는 홀수이고 10이 아닙입니다')\n",
    "else:\n",
    "    if x%3==0:\n",
    "        print(f'{x}는 3의 배수입니다.')\n",
    "    else: \n",
    "        print(f'{x}는 3의 배수가 아니고 10이 아닙니다.')"
   ]
  },
  {
   "cell_type": "code",
   "execution_count": 5,
   "id": "20f13610",
   "metadata": {},
   "outputs": [
    {
     "data": {
      "text/plain": [
       "['파이썬', '조건문', 10, 15.3, True, [1, 2, 3], (4, 5, 6), {'key': 365}]"
      ]
     },
     "execution_count": 5,
     "metadata": {},
     "output_type": "execute_result"
    }
   ],
   "source": [
    "l1 =['파이썬', '조건문', 10, 15.3, True, [1,2,3], (4,5,6), {'key': 365}]\n",
    "l1"
   ]
  },
  {
   "cell_type": "code",
   "execution_count": 6,
   "id": "14680d3b",
   "metadata": {},
   "outputs": [
    {
     "data": {
      "text/plain": [
       "True"
      ]
     },
     "execution_count": 6,
     "metadata": {},
     "output_type": "execute_result"
    }
   ],
   "source": [
    "10 in l1"
   ]
  },
  {
   "cell_type": "code",
   "execution_count": 7,
   "id": "e57ef748",
   "metadata": {},
   "outputs": [
    {
     "name": "stdout",
     "output_type": "stream",
     "text": [
      "l1안에 파이썬이 있습니다.\n"
     ]
    }
   ],
   "source": [
    "if '파이썬' in l1:\n",
    "    print('l1안에 파이썬이 있습니다.')\n",
    "else: \n",
    "    print('l1안에 파이썬이 없습니다.')"
   ]
  },
  {
   "cell_type": "markdown",
   "id": "bae2b384",
   "metadata": {},
   "source": [
    "* 숫자를 입력받아 홀수인지 짝수인지 판단하는 프로그램\n",
    "    * 숫자를 입력받는다 input()\n",
    "    * 조건문으로 홀수/짝수 판단 %2==0 짝수 %2==1홀수\n",
    "    * 입력한 숫자 {}는 짝수입니다./홀수입니다."
   ]
  },
  {
   "cell_type": "code",
   "execution_count": 10,
   "id": "548f5efe",
   "metadata": {},
   "outputs": [
    {
     "name": "stdout",
     "output_type": "stream",
     "text": [
      "3\n",
      "3는 홀수입니다.\n"
     ]
    }
   ],
   "source": [
    "x=int(input())\n",
    "if x %2 ==0:\n",
    "    print(f'{x}는 짝수입니다.')\n",
    "else:\n",
    "    print(f'{x}는 홀수입니다.')"
   ]
  },
  {
   "cell_type": "markdown",
   "id": "198bc1bc",
   "metadata": {},
   "source": [
    "# 2. 다중 조건문 사용하기 elif\n",
    "if 조건식:<br>\n",
    "____조건이 참일 떄 실행할 코드<br>\n",
    "elif 조건식2:<br>\n",
    "____조건식2가 참일 때 실행할 코드<br>\n",
    "elif 조건식3:<br>\n",
    "____조건식3가 참일 때 실행할 코드<br>\n",
    "elif 조건식4:<br>\n",
    "____조건식4가 참일 때 실행할 코드<br>\n",
    "elif 조건식5:<br>\n",
    "____조건식5가 참일 때 실행할 코드<br>\n",
    "else:<br>\n",
    "____위의 모든 조건이 다 거짓을 때 실행할 코드 <br>"
   ]
  },
  {
   "cell_type": "markdown",
   "id": "7993a19f",
   "metadata": {},
   "source": [
    "* 점수를 입력 받아서 81-100 A학점, 61-80 B학점, 41-60 C학점, 21-40 D학점 0-20 F학점\n",
    "* 0 <= X <=20"
   ]
  },
  {
   "cell_type": "code",
   "execution_count": 18,
   "id": "f3f1154b",
   "metadata": {},
   "outputs": [
    {
     "name": "stdout",
     "output_type": "stream",
     "text": [
      "243\n",
      "0에서 100까지 숫자를 입력하세요.\n"
     ]
    }
   ],
   "source": [
    "x=int(input())\n",
    "if 0<= x <=100:\n",
    "    if 80< x <=100:\n",
    "        print(f'{x}는 A학점입니다.')\n",
    "    elif 60< x <=80:\n",
    "        print(f'{x}는 B학점입니다.')\n",
    "    elif 40< x <=60:\n",
    "        print(f'{x}는 C학점입니다.')\n",
    "    elif 20< x <=40:\n",
    "        print(f'{x}는 D학점입니다.')\n",
    "    else:\n",
    "        print(f'{x}는 F학점입니다.')\n",
    "else:\n",
    "    print(\"0에서 100까지 숫자를 입력하세요.\")\n"
   ]
  },
  {
   "cell_type": "markdown",
   "id": "597a46f8",
   "metadata": {},
   "source": [
    "* 1-50사이의 숫자를 입력받아서 3의 배수이면 3의 배수입니다. 아니면 3의 배수가 아닙니다."
   ]
  },
  {
   "cell_type": "code",
   "execution_count": 21,
   "id": "b0770217",
   "metadata": {},
   "outputs": [
    {
     "name": "stdout",
     "output_type": "stream",
     "text": [
      "60\n",
      "0에서 50까지 숫자를 입력하세요.\n"
     ]
    }
   ],
   "source": [
    "x=int(input())\n",
    "if 0<= x <=50:\n",
    "    if x%3==0:\n",
    "        print(f'{x}는 3의 배수입니다.')\n",
    "    else:\n",
    "        print(f'{x}는 3의 배수가 아닙니다.')\n",
    "else:\n",
    "    print(\"0에서 50까지 숫자를 입력하세요.\")"
   ]
  },
  {
   "cell_type": "markdown",
   "id": "4ecabc3d",
   "metadata": {},
   "source": [
    "## 3. 조건 표현식 \n",
    "* 파이썬에서 조건식을 1줄로 표기하는 방법 \n",
    "* 다중조건이 아닌 단순 조건을 처리할 때 사용\n",
    "* 참일 때 실행할 코드 it 조건 else 거짓일 때 실행할 코드 \n"
   ]
  },
  {
   "cell_type": "code",
   "execution_count": 22,
   "id": "b8ea2ba0",
   "metadata": {},
   "outputs": [
    {
     "name": "stdout",
     "output_type": "stream",
     "text": [
      "숫자를 입력하세요6\n",
      "짝수\n"
     ]
    }
   ],
   "source": [
    "# 일반적인 it else 문\n",
    "num=int(input(\"숫자를 입력하세요\"))\n",
    "if num%2==0:\n",
    "    print('짝수')\n",
    "else:\n",
    "    print('홀수')"
   ]
  },
  {
   "cell_type": "code",
   "execution_count": 23,
   "id": "5e0eace0",
   "metadata": {},
   "outputs": [
    {
     "name": "stdout",
     "output_type": "stream",
     "text": [
      "숫자를 입력하세요12\n",
      "짝수\n"
     ]
    }
   ],
   "source": [
    "# 조건 표현식\n",
    "num=int(input(\"숫자를 입력하세요\"))\n",
    "print('짝수')if num%2==0 else print('홀수')"
   ]
  }
 ],
 "metadata": {
  "kernelspec": {
   "display_name": "Python 3 (ipykernel)",
   "language": "python",
   "name": "python3"
  },
  "language_info": {
   "codemirror_mode": {
    "name": "ipython",
    "version": 3
   },
   "file_extension": ".py",
   "mimetype": "text/x-python",
   "name": "python",
   "nbconvert_exporter": "python",
   "pygments_lexer": "ipython3",
   "version": "3.9.23"
  }
 },
 "nbformat": 4,
 "nbformat_minor": 5
}
