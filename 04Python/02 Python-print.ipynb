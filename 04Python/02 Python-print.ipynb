{
 "cells": [
  {
   "cell_type": "markdown",
   "id": "154333c1",
   "metadata": {},
   "source": [
    "# 파이썬 기초 문법\n",
    "* 파이썬의 주석은 문장 앞에 \\|을 붙여서 만든다. Ctrl+\\|\n",
    "* 파이썬은 들여쓰기를 사용해서 코드를 구분해 작성한다. \n",
    "* 들여쓰기는 4칸이 기본, google colab 2칸\n",
    "* 변수를 만들 때 스네이크 표기법을 사용한다. ex) user_name\n",
    "* 클래스를 만들 때는 카멜 표기법을 사용한다. ex) UserName\n"
   ]
  },
  {
   "cell_type": "markdown",
   "id": "2d578cd7",
   "metadata": {},
   "source": [
    "# pirnt문\n",
    "* print() 안에 있는 내용을 출력해 주는 함수\n",
    "* print(출력할 내용1, 출력할 내용2, ..)\n",
    "* print(출력할 내용이 숫자인 경우 그대로, 문자인 경우 반드시 \"\",'' 사용)\n",
    "* print(출력할 내용, 옵션)\n",
    "    * sep: 출력할 내용 사이에 오는 구분자 기본값은 공백 \" \"\n",
    "    * end: 출력이 끝난 후에 출력하는 값 기본값은 \\\\n(new line 줄바꿈) "
   ]
  },
  {
   "cell_type": "code",
   "execution_count": 1,
   "id": "18651a95",
   "metadata": {},
   "outputs": [
    {
     "name": "stdout",
     "output_type": "stream",
     "text": [
      "300\n"
     ]
    }
   ],
   "source": [
    "# 숫자를 출력하는 경우\n",
    "print(300)"
   ]
  },
  {
   "cell_type": "code",
   "execution_count": 2,
   "id": "f62ac83d",
   "metadata": {},
   "outputs": [
    {
     "name": "stdout",
     "output_type": "stream",
     "text": [
      "문자 출력\n"
     ]
    }
   ],
   "source": [
    "# 문자를 출력하는 경우\n",
    "print('문자 출력')"
   ]
  },
  {
   "cell_type": "code",
   "execution_count": 3,
   "id": "9c203c31",
   "metadata": {},
   "outputs": [
    {
     "name": "stdout",
     "output_type": "stream",
     "text": [
      "이것은 '파이썬'이다.\n"
     ]
    }
   ],
   "source": [
    "# 따옴표를 같이 출력하고 싶은 때\n",
    "print(\"이것은 '파이썬'이다.\")"
   ]
  },
  {
   "cell_type": "code",
   "execution_count": 6,
   "id": "da8044ec",
   "metadata": {},
   "outputs": [
    {
     "name": "stdout",
     "output_type": "stream",
     "text": [
      "이것은 \"파이썬\"이다\n"
     ]
    }
   ],
   "source": [
    "# 따옴표를 같이 출력하고 싶은 때\n",
    "print('이것은 \"파이썬\"이다')"
   ]
  },
  {
   "cell_type": "code",
   "execution_count": 7,
   "id": "f910caec",
   "metadata": {},
   "outputs": [
    {
     "name": "stdout",
     "output_type": "stream",
     "text": [
      "이것은 '파이썬'이다\n"
     ]
    }
   ],
   "source": [
    "# 따옴표를 같이 출력하고 싶은 때\n",
    "print('이것은 \\'파이썬\\'이다')"
   ]
  },
  {
   "cell_type": "markdown",
   "id": "552fd498",
   "metadata": {},
   "source": [
    "# print문의 옵션 \n",
    "* sep: 구분자, print문 안에 여러개의 자료를 출력할 때 구분해주는 문자.\n",
    "* 기본갑시 공백 \"\""
   ]
  },
  {
   "cell_type": "code",
   "execution_count": 8,
   "id": "ee4dcdf3",
   "metadata": {},
   "outputs": [
    {
     "name": "stdout",
     "output_type": "stream",
     "text": [
      "이것은 파이선 입니다\n"
     ]
    }
   ],
   "source": [
    "print(\"이것은\", \"파이선\", \"입니다\")"
   ]
  },
  {
   "cell_type": "code",
   "execution_count": 9,
   "id": "7f919381",
   "metadata": {},
   "outputs": [
    {
     "name": "stdout",
     "output_type": "stream",
     "text": [
      "이것은|파이선|입니다\n"
     ]
    }
   ],
   "source": [
    "print(\"이것은\", \"파이선\", \"입니다\", sep=\"|\")"
   ]
  },
  {
   "cell_type": "code",
   "execution_count": 10,
   "id": "bd93f45f",
   "metadata": {},
   "outputs": [
    {
     "name": "stdout",
     "output_type": "stream",
     "text": [
      "이것은| 파이선| 입니다\n"
     ]
    }
   ],
   "source": [
    "print(\"이것은\", \"파이선\", \"입니다\", sep=\"| \")"
   ]
  },
  {
   "cell_type": "code",
   "execution_count": 11,
   "id": "5e432256",
   "metadata": {},
   "outputs": [
    {
     "name": "stdout",
     "output_type": "stream",
     "text": [
      "이것은 vs 파이선 vs 입니다\n"
     ]
    }
   ],
   "source": [
    "print(\"이것은\", \"파이선\", \"입니다\", sep=\" vs \")"
   ]
  },
  {
   "cell_type": "code",
   "execution_count": 14,
   "id": "2105ee46",
   "metadata": {},
   "outputs": [
    {
     "name": "stdout",
     "output_type": "stream",
     "text": [
      "010-2222-3333\n"
     ]
    }
   ],
   "source": [
    "print(\"010\", \"2222\", \"3333\", sep=\"-\")"
   ]
  },
  {
   "cell_type": "markdown",
   "id": "cf0523f1",
   "metadata": {},
   "source": [
    "* end 옵션 -print가 끝나고 실행될 옵션\n",
    "* 기본값: \\\\n 줄바꿈 new line \n",
    "* 이스케이프문자\n",
    "    * \\\\n: new line 줄바꿈\n",
    "    * \\\\t : tab 탭키 8칸을 띄움 \n",
    "    *\\\\r: carrige return 커서를 현재 라인의 가장 앞으로 이동 "
   ]
  },
  {
   "cell_type": "code",
   "execution_count": 17,
   "id": "e764ba61",
   "metadata": {},
   "outputs": [
    {
     "name": "stdout",
     "output_type": "stream",
     "text": [
      "헐크 아이언맨 스파이더맨\n",
      "\n",
      "헐크 아이언맨 스파이더맨\n"
     ]
    }
   ],
   "source": [
    "#end 값의 기본 \\n\n",
    "print(\"헐크\", \"아이언맨\", \"스파이더맨\")\n",
    "print()\n",
    "print(\"헐크\", \"아이언맨\", \"스파이더맨\")"
   ]
  },
  {
   "cell_type": "code",
   "execution_count": 24,
   "id": "38ca8500",
   "metadata": {},
   "outputs": [
    {
     "name": "stdout",
     "output_type": "stream",
     "text": [
      "헐크 아이언맨 스파이더맨, 헐크 아이언맨 스파이더맨\n",
      "헐크 아이언맨 스파이더맨\n"
     ]
    }
   ],
   "source": [
    "#end 값의 기본 \\n\n",
    "print(\"헐크\", \"아이언맨\", \"스파이더맨\", end=', ')\n",
    "print(\"헐크\", \"아이언맨\", \"스파이더맨\")\n",
    "print(\"헐크\", \"아이언맨\", \"스파이더맨\")"
   ]
  },
  {
   "cell_type": "code",
   "execution_count": 25,
   "id": "03aa2ceb",
   "metadata": {},
   "outputs": [
    {
     "name": "stdout",
     "output_type": "stream",
     "text": [
      "헐크 아이언맨 스파이더맨\t헐크 아이언맨 스파이더맨\n",
      "헐크 아이언맨 스파이더맨\n"
     ]
    }
   ],
   "source": [
    "#end 값의 기본 \\n\n",
    "print(\"헐크\", \"아이언맨\", \"스파이더맨\", end='\\t')\n",
    "print(\"헐크\", \"아이언맨\", \"스파이더맨\")\n",
    "print(\"헐크\", \"아이언맨\", \"스파이더맨\")"
   ]
  },
  {
   "cell_type": "code",
   "execution_count": 26,
   "id": "61dffcd1",
   "metadata": {},
   "outputs": [
    {
     "name": "stdout",
     "output_type": "stream",
     "text": [
      "헐크 아이언맨 스파이더맨\r",
      "헐크 아이언맨 스파이더맨\n",
      "캐리지리턴 됨\n"
     ]
    }
   ],
   "source": [
    "#end 값의 \\\\r carrifh return 커서를 맨 앞으로 이동\n",
    "print(\"헐크\", \"아이언맨\", \"스파이더맨\", end='\\r')\n",
    "print(\"헐크\", \"아이언맨\", \"스파이더맨\")\n",
    "print(\"캐리지리턴 됨\")"
   ]
  },
  {
   "cell_type": "code",
   "execution_count": 39,
   "id": "e663a58c",
   "metadata": {},
   "outputs": [
    {
     "name": "stdout",
     "output_type": "stream",
     "text": [
      "99\r"
     ]
    }
   ],
   "source": [
    "\n",
    "import time\n",
    "for i in range(100):\n",
    "    print(i, end=\"\\r\")\n",
    "    time.sleep(0.3)\n",
    "# pritn()"
   ]
  },
  {
   "cell_type": "code",
   "execution_count": null,
   "id": "78ff4641",
   "metadata": {},
   "outputs": [],
   "source": []
  },
  {
   "cell_type": "code",
   "execution_count": null,
   "id": "3c3a86a6",
   "metadata": {},
   "outputs": [],
   "source": []
  },
  {
   "cell_type": "code",
   "execution_count": null,
   "id": "3e4aabca",
   "metadata": {},
   "outputs": [],
   "source": []
  }
 ],
 "metadata": {
  "kernelspec": {
   "display_name": "Python 3 (ipykernel)",
   "language": "python",
   "name": "python3"
  },
  "language_info": {
   "codemirror_mode": {
    "name": "ipython",
    "version": 3
   },
   "file_extension": ".py",
   "mimetype": "text/x-python",
   "name": "python",
   "nbconvert_exporter": "python",
   "pygments_lexer": "ipython3",
   "version": "3.9.23"
  }
 },
 "nbformat": 4,
 "nbformat_minor": 5
}
