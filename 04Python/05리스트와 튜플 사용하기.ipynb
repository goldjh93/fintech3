{
 "cells": [
  {
   "cell_type": "markdown",
   "id": "c07b6ca1",
   "metadata": {},
   "source": [
    "# 리스트와 튜플 사용하기 초급편 "
   ]
  },
  {
   "cell_type": "markdown",
   "id": "85cdec5f",
   "metadata": {},
   "source": [
    "### 리스트 만들기\n",
    "* 대괄호 안에 자료를 나열해서 만듬\n",
    "* 내용이 비어있는 리스트도 생성 가능 []\n",
    "* 숫자로만 된 리스트의 경우 range()와 list 형변환 함수로 생성 가능"
   ]
  },
  {
   "cell_type": "code",
   "execution_count": 4,
   "id": "c69ae409",
   "metadata": {},
   "outputs": [
    {
     "data": {
      "text/plain": [
       "[]"
      ]
     },
     "execution_count": 4,
     "metadata": {},
     "output_type": "execute_result"
    }
   ],
   "source": [
    "l1=[]\n",
    "l1"
   ]
  },
  {
   "cell_type": "code",
   "execution_count": 6,
   "id": "29255c09",
   "metadata": {},
   "outputs": [
    {
     "name": "stdout",
     "output_type": "stream",
     "text": [
      "[] <class 'list'> 0\n"
     ]
    }
   ],
   "source": [
    "print(l1, type(l1), len(l1))"
   ]
  },
  {
   "cell_type": "code",
   "execution_count": 10,
   "id": "e96eedeb",
   "metadata": {},
   "outputs": [],
   "source": [
    "# 대괄호 안에 자료를 나열해서 만들기\n",
    "l2 = [1,2,3,3.5,\"리스트\", (4,5,6), {\"key\":\"value\"}]"
   ]
  },
  {
   "cell_type": "code",
   "execution_count": 11,
   "id": "f7ab3653",
   "metadata": {},
   "outputs": [
    {
     "name": "stdout",
     "output_type": "stream",
     "text": [
      "[1, 2, 3, 3.5, '리스트', (4, 5, 6), {'key': 'value'}] <class 'list'>\n"
     ]
    }
   ],
   "source": [
    "print(l2, type(l2))"
   ]
  },
  {
   "cell_type": "markdown",
   "id": "9c55afa8",
   "metadata": {},
   "source": [
    "# range함수로 리스트 만들기 \n",
    "* range(시작번호, 끝번호+!,step)"
   ]
  },
  {
   "cell_type": "code",
   "execution_count": 10,
   "id": "08e08111",
   "metadata": {},
   "outputs": [
    {
     "data": {
      "text/plain": [
       "[1, 2, 3, 4, 5, 6, 7, 8, 9, 10]"
      ]
     },
     "execution_count": 10,
     "metadata": {},
     "output_type": "execute_result"
    }
   ],
   "source": [
    "list(range(1,11,1))"
   ]
  },
  {
   "cell_type": "code",
   "execution_count": 11,
   "id": "2a3b0288",
   "metadata": {},
   "outputs": [
    {
     "data": {
      "text/plain": [
       "[4, 8]"
      ]
     },
     "execution_count": 11,
     "metadata": {},
     "output_type": "execute_result"
    }
   ],
   "source": [
    "# 4의 배수로 리스트 만들기 \n",
    "list(range(4,10,4))"
   ]
  },
  {
   "cell_type": "code",
   "execution_count": 12,
   "id": "e73d0907",
   "metadata": {},
   "outputs": [
    {
     "data": {
      "text/plain": [
       "[10, 8, 6, 4, 2]"
      ]
     },
     "execution_count": 12,
     "metadata": {},
     "output_type": "execute_result"
    }
   ],
   "source": [
    "#역순으로 리스트 만들기\n",
    "list(range(10,0,-2))"
   ]
  },
  {
   "cell_type": "markdown",
   "id": "2c29b59a",
   "metadata": {},
   "source": [
    "# 리스트 함수"
   ]
  },
  {
   "cell_type": "markdown",
   "id": "00e928a0",
   "metadata": {},
   "source": [
    "# .append() 리스트 마지막에 자료 추가"
   ]
  },
  {
   "cell_type": "code",
   "execution_count": 24,
   "id": "aa080dcd",
   "metadata": {},
   "outputs": [
    {
     "data": {
      "text/plain": [
       "[3.5]"
      ]
     },
     "execution_count": 24,
     "metadata": {},
     "output_type": "execute_result"
    }
   ],
   "source": [
    "l1.append(3.5)\n",
    "l1"
   ]
  },
  {
   "cell_type": "code",
   "execution_count": 45,
   "id": "b938b7d4",
   "metadata": {},
   "outputs": [
    {
     "data": {
      "text/plain": [
       "[[1, 2, 3], [1, 2, 3]]"
      ]
     },
     "execution_count": 45,
     "metadata": {},
     "output_type": "execute_result"
    }
   ],
   "source": [
    "l1.append([1,2,3])\n",
    "l1"
   ]
  },
  {
   "cell_type": "markdown",
   "id": "92394600",
   "metadata": {},
   "source": [
    "# .insert() 특정 위치에 자료 추가\n",
    "* insert(추가할 위치의 인덱스, 추가할 값) "
   ]
  },
  {
   "cell_type": "code",
   "execution_count": 31,
   "id": "47e4b639",
   "metadata": {},
   "outputs": [
    {
     "data": {
      "text/plain": [
       "[3.5, [1, 2, 3], [1, 2, 3], True, True]"
      ]
     },
     "execution_count": 31,
     "metadata": {},
     "output_type": "execute_result"
    }
   ],
   "source": [
    "# l1의 인덱스 3번 Ttrue\n",
    "l1.insert(3, True)\n",
    "l1"
   ]
  },
  {
   "cell_type": "markdown",
   "id": "98c6fdf9",
   "metadata": {},
   "source": [
    "## 리스트의 자료 삭제하기 \n",
    "* del 변수명[인덱스 번호]: 해당 인덱스의 자료 삭제 \n",
    "* pop(): 리스트의 가장 끈자료가 츨력되면서 삭제\n",
    "* remove(값): 리스트의 앞에서부터 입력한 값과 일치하는 값을 찾아서 삭제(정수, 실수 구분X)"
   ]
  },
  {
   "cell_type": "code",
   "execution_count": 34,
   "id": "eeb16b5a",
   "metadata": {},
   "outputs": [
    {
     "data": {
      "text/plain": [
       "[3.5, [1, 2, 3]]"
      ]
     },
     "execution_count": 34,
     "metadata": {},
     "output_type": "execute_result"
    }
   ],
   "source": [
    "del l1[2]\n",
    "l1"
   ]
  },
  {
   "cell_type": "code",
   "execution_count": 40,
   "id": "dedb6a8c",
   "metadata": {},
   "outputs": [
    {
     "data": {
      "text/plain": [
       "[3.0]"
      ]
     },
     "execution_count": 40,
     "metadata": {},
     "output_type": "execute_result"
    }
   ],
   "source": [
    "l1.insert(0,3.0)\n",
    "l1"
   ]
  },
  {
   "cell_type": "code",
   "execution_count": 44,
   "id": "22278ded",
   "metadata": {},
   "outputs": [
    {
     "ename": "ValueError",
     "evalue": "list.remove(x): x not in list",
     "output_type": "error",
     "traceback": [
      "\u001b[1;31m---------------------------------------------------------------------------\u001b[0m",
      "\u001b[1;31mValueError\u001b[0m                                Traceback (most recent call last)",
      "Cell \u001b[1;32mIn[44], line 1\u001b[0m\n\u001b[1;32m----> 1\u001b[0m \u001b[43ml1\u001b[49m\u001b[38;5;241;43m.\u001b[39;49m\u001b[43mremove\u001b[49m\u001b[43m(\u001b[49m\u001b[38;5;241;43m3\u001b[39;49m\u001b[43m)\u001b[49m\n\u001b[0;32m      2\u001b[0m l1\n",
      "\u001b[1;31mValueError\u001b[0m: list.remove(x): x not in list"
     ]
    }
   ],
   "source": [
    "l1.remove(3)\n",
    "l1"
   ]
  },
  {
   "cell_type": "code",
   "execution_count": 46,
   "id": "3a43c98a",
   "metadata": {},
   "outputs": [
    {
     "data": {
      "text/plain": [
       "[[1, 2, 3]]"
      ]
     },
     "execution_count": 46,
     "metadata": {},
     "output_type": "execute_result"
    }
   ],
   "source": [
    "l1.remove([1,2,3])\n",
    "l1"
   ]
  },
  {
   "cell_type": "markdown",
   "id": "4dd065f9",
   "metadata": {},
   "source": [
    "# 리스트 확장하기 .extend()\n",
    "* 리스트에 자료를 추가하되 요소만 추가"
   ]
  },
  {
   "cell_type": "code",
   "execution_count": 53,
   "id": "40eab347",
   "metadata": {},
   "outputs": [],
   "source": [
    "a =[1,2,3]\n",
    "b=[4,5,6]\n"
   ]
  },
  {
   "cell_type": "code",
   "execution_count": 49,
   "id": "2e937df1",
   "metadata": {},
   "outputs": [
    {
     "data": {
      "text/plain": [
       "[1, 2, 3, [4, 5, 6]]"
      ]
     },
     "execution_count": 49,
     "metadata": {},
     "output_type": "execute_result"
    }
   ],
   "source": [
    "# append는 리스트 형태 그래도 리스타에 추가 됨\n",
    "a.append(b)\n",
    "a"
   ]
  },
  {
   "cell_type": "code",
   "execution_count": 50,
   "id": "d89d1b47",
   "metadata": {},
   "outputs": [
    {
     "data": {
      "text/plain": [
       "5"
      ]
     },
     "execution_count": 50,
     "metadata": {},
     "output_type": "execute_result"
    }
   ],
   "source": [
    "a[3][1]"
   ]
  },
  {
   "cell_type": "code",
   "execution_count": 51,
   "id": "9ea030d3",
   "metadata": {},
   "outputs": [
    {
     "data": {
      "text/plain": [
       "[4, 5, 6, 7, 8, 9]"
      ]
     },
     "execution_count": 51,
     "metadata": {},
     "output_type": "execute_result"
    }
   ],
   "source": [
    "# extendㄴ 리스트형태 없이 자료만 추가\n",
    "b.extend([7,8,9])\n",
    "b"
   ]
  },
  {
   "cell_type": "code",
   "execution_count": 52,
   "id": "e70657de",
   "metadata": {},
   "outputs": [
    {
     "data": {
      "text/plain": [
       "8"
      ]
     },
     "execution_count": 52,
     "metadata": {},
     "output_type": "execute_result"
    }
   ],
   "source": [
    "b[4]"
   ]
  },
  {
   "cell_type": "markdown",
   "id": "531ddc54",
   "metadata": {},
   "source": [
    "# list+list == extend"
   ]
  },
  {
   "cell_type": "code",
   "execution_count": 54,
   "id": "20f7f1df",
   "metadata": {},
   "outputs": [
    {
     "data": {
      "text/plain": [
       "[1, 2, 3, 4, 5, 6]"
      ]
     },
     "execution_count": 54,
     "metadata": {},
     "output_type": "execute_result"
    }
   ],
   "source": [
    "a+b"
   ]
  },
  {
   "cell_type": "markdown",
   "id": "55391100",
   "metadata": {},
   "source": [
    "## 리스트 안에서 원하는 값의 안덱스 찾기\n",
    "* in, not in :리스트 안에서 원하는 값이 있는지 확인 True/Fales\n",
    "* 원하는 값이 있는 위치를 찾을 때 .index(찾을 값, 시작 인덱스) - 가장 앞의 인덱스만 반환\n",
    "* 동일하는 값이 여러개 있는 경우 가장 앞의 인덱스 반환\n",
    "* 2번째 이상의 자료를 찾으려면 옵션에 시작 인덱스를 지어"
   ]
  },
  {
   "cell_type": "code",
   "execution_count": 1,
   "id": "c251ca33",
   "metadata": {},
   "outputs": [
    {
     "data": {
      "text/plain": [
       "[1, 2, 3, [3, 4, 5, 6, 7, 8, 9], [4, 5, 6, 7, 8, 9], 3, 4, 5, 6, 7, 8]"
      ]
     },
     "execution_count": 1,
     "metadata": {},
     "output_type": "execute_result"
    }
   ],
   "source": [
    "a = [1,2,3,[3,4,5,6,7,8,9], [4,5,6,7,8,9], 3,4,5,6,7,8]\n",
    "a"
   ]
  },
  {
   "cell_type": "code",
   "execution_count": 2,
   "id": "8a2f33f7",
   "metadata": {},
   "outputs": [
    {
     "data": {
      "text/plain": [
       "True"
      ]
     },
     "execution_count": 2,
     "metadata": {},
     "output_type": "execute_result"
    }
   ],
   "source": [
    " 4 in a"
   ]
  },
  {
   "cell_type": "code",
   "execution_count": 3,
   "id": "f7d8de8f",
   "metadata": {},
   "outputs": [
    {
     "data": {
      "text/plain": [
       "[1, 2, 3, [3, 4, 5, 6, 7, 8, 9], [4, 5, 6, 7, 8, 9], 3, 4, 5, 6, 7, 8]"
      ]
     },
     "execution_count": 3,
     "metadata": {},
     "output_type": "execute_result"
    }
   ],
   "source": [
    "a.index(4)\n",
    "a"
   ]
  },
  {
   "cell_type": "code",
   "execution_count": 4,
   "id": "5fb2aebb",
   "metadata": {},
   "outputs": [
    {
     "data": {
      "text/plain": [
       "[1, 2, 3, [3, 4, 5, 6, 7, 8, 9], [4, 5, 6, 7, 8, 9], 3, 5, 6, 7, 8]"
      ]
     },
     "execution_count": 4,
     "metadata": {},
     "output_type": "execute_result"
    }
   ],
   "source": [
    "a.remove(4)\n",
    "a"
   ]
  },
  {
   "cell_type": "code",
   "execution_count": 5,
   "id": "c9ee1402",
   "metadata": {},
   "outputs": [
    {
     "data": {
      "text/plain": [
       "False"
      ]
     },
     "execution_count": 5,
     "metadata": {},
     "output_type": "execute_result"
    }
   ],
   "source": [
    "4 in a"
   ]
  },
  {
   "cell_type": "code",
   "execution_count": 6,
   "id": "12a537e5",
   "metadata": {},
   "outputs": [
    {
     "data": {
      "text/plain": [
       "True"
      ]
     },
     "execution_count": 6,
     "metadata": {},
     "output_type": "execute_result"
    }
   ],
   "source": [
    "4 in a[3]"
   ]
  },
  {
   "cell_type": "code",
   "execution_count": 7,
   "id": "14a2f696",
   "metadata": {},
   "outputs": [
    {
     "data": {
      "text/plain": [
       "5"
      ]
     },
     "execution_count": 7,
     "metadata": {},
     "output_type": "execute_result"
    }
   ],
   "source": [
    "a.index(3,3)"
   ]
  },
  {
   "cell_type": "markdown",
   "id": "9be51da5",
   "metadata": {},
   "source": [
    "## 리스트 안에서 특정 값의 개수 구하기 .count()"
   ]
  },
  {
   "cell_type": "code",
   "execution_count": 63,
   "id": "96d024ed",
   "metadata": {},
   "outputs": [
    {
     "data": {
      "text/plain": [
       "[1, 2, 3, [3, 4, 5, 6, 7, 8, 9], [4, 5, 6, 7, 8, 9], 3, 5, 6, 7, 8]"
      ]
     },
     "execution_count": 63,
     "metadata": {},
     "output_type": "execute_result"
    }
   ],
   "source": [
    "a"
   ]
  },
  {
   "cell_type": "code",
   "execution_count": 65,
   "id": "89ba2044",
   "metadata": {},
   "outputs": [
    {
     "data": {
      "text/plain": [
       "1"
      ]
     },
     "execution_count": 65,
     "metadata": {},
     "output_type": "execute_result"
    }
   ],
   "source": [
    "a[3].count(3)"
   ]
  },
  {
   "cell_type": "markdown",
   "id": "501b832a",
   "metadata": {},
   "source": [
    "# 리스트 순서 뒤집기 .reverse()\n",
    "* 실행 즉시 원본 데이터 변경\n",
    "* list(reversed(리스트)): 재할당을 해야지만 저장\n",
    "* 리스트[::-1]: 역인덱싱으로 뒤집기 "
   ]
  },
  {
   "cell_type": "code",
   "execution_count": 8,
   "id": "07c035fc",
   "metadata": {},
   "outputs": [],
   "source": [
    "a.reverse()"
   ]
  },
  {
   "cell_type": "code",
   "execution_count": 67,
   "id": "835c712c",
   "metadata": {},
   "outputs": [
    {
     "data": {
      "text/plain": [
       "[8, 7, 6, 5, 3, [4, 5, 6, 7, 8, 9], [3, 4, 5, 6, 7, 8, 9], 3, 2, 1]"
      ]
     },
     "execution_count": 67,
     "metadata": {},
     "output_type": "execute_result"
    }
   ],
   "source": [
    "a"
   ]
  },
  {
   "cell_type": "code",
   "execution_count": 69,
   "id": "edc252c5",
   "metadata": {},
   "outputs": [
    {
     "data": {
      "text/plain": [
       "[1, 2, 3, [3, 4, 5, 6, 7, 8, 9], [4, 5, 6, 7, 8, 9], 3, 5, 6, 7, 8]"
      ]
     },
     "execution_count": 69,
     "metadata": {},
     "output_type": "execute_result"
    }
   ],
   "source": [
    "a[::-1]"
   ]
  },
  {
   "cell_type": "code",
   "execution_count": 9,
   "id": "67e5426c",
   "metadata": {},
   "outputs": [
    {
     "data": {
      "text/plain": [
       "[1, 2, 3, [3, 4, 5, 6, 7, 8, 9], [4, 5, 6, 7, 8, 9], 3, 5, 6, 7, 8]"
      ]
     },
     "execution_count": 9,
     "metadata": {},
     "output_type": "execute_result"
    }
   ],
   "source": [
    "list(reversed(a))"
   ]
  },
  {
   "cell_type": "markdown",
   "id": "29f3481a",
   "metadata": {},
   "source": [
    "## 리스트 정렬\n",
    "* .sort(): 오름차순 - 실행 후 바로 저장 \n",
    "* .sort(reverse=True): 내림차순 - 실행 후 바로 저장 \n",
    "* sorted(리스트): 오름차순 정렬 - 재할당\n",
    "* sorted(reverse=True): 내림차순 - 재할당"
   ]
  },
  {
   "cell_type": "code",
   "execution_count": 17,
   "id": "86d844f0",
   "metadata": {},
   "outputs": [
    {
     "data": {
      "text/plain": [
       "[1, 2, 3, 4, 5, 6, 7, 8, 9, 10]"
      ]
     },
     "execution_count": 17,
     "metadata": {},
     "output_type": "execute_result"
    }
   ],
   "source": [
    "a=[5,4,3,2,1,6,7,8,9,10]\n",
    "a.sort()\n",
    "a"
   ]
  },
  {
   "cell_type": "code",
   "execution_count": 18,
   "id": "752c7f19",
   "metadata": {},
   "outputs": [
    {
     "data": {
      "text/plain": [
       "[10, 9, 8, 7, 6, 5, 4, 3, 2, 1]"
      ]
     },
     "execution_count": 18,
     "metadata": {},
     "output_type": "execute_result"
    }
   ],
   "source": [
    "a.sort(reverse=True)\n",
    "a"
   ]
  },
  {
   "cell_type": "code",
   "execution_count": 19,
   "id": "c8a7dad1",
   "metadata": {},
   "outputs": [
    {
     "data": {
      "text/plain": [
       "[1, 2, 3, 4, 5, 6, 7, 8, 9, 10]"
      ]
     },
     "execution_count": 19,
     "metadata": {},
     "output_type": "execute_result"
    }
   ],
   "source": [
    "a = sorted(a)\n",
    "a"
   ]
  },
  {
   "cell_type": "code",
   "execution_count": 22,
   "id": "9f3609b5",
   "metadata": {},
   "outputs": [
    {
     "data": {
      "text/plain": [
       "[10, 9, 8, 7, 6, 5, 4, 3, 2, 1]"
      ]
     },
     "execution_count": 22,
     "metadata": {},
     "output_type": "execute_result"
    }
   ],
   "source": [
    "a = sorted(a,reverse = True)\n",
    "a"
   ]
  },
  {
   "cell_type": "markdown",
   "id": "e6af8552",
   "metadata": {},
   "source": [
    "# 튜플 tuple\n",
    "* 튜플은 리스트처럼 모든 자료형을 넣어 만들 수 있다. \n",
    "* 순서가 있는 자료형, 인덱스가 있다.\n",
    "* 인덱싱, 슬라이싱 가능\n",
    "* 자료의 추가, 삭제가 안됨\n",
    "* 자료 1개만 넣어서 만들 수 있다. 단 (1,) 형식이어야한다. \n",
    "* 튜플 생성시 자료가 2개 이상인 경우() 생략 가능"
   ]
  },
  {
   "cell_type": "code",
   "execution_count": 23,
   "id": "a474d0d8",
   "metadata": {},
   "outputs": [
    {
     "data": {
      "text/plain": [
       "(1,)"
      ]
     },
     "execution_count": 23,
     "metadata": {},
     "output_type": "execute_result"
    }
   ],
   "source": [
    "t =(1,)\n",
    "t"
   ]
  },
  {
   "cell_type": "code",
   "execution_count": 25,
   "id": "36a1a1de",
   "metadata": {},
   "outputs": [
    {
     "name": "stdout",
     "output_type": "stream",
     "text": [
      "() <class 'tuple'>\n"
     ]
    }
   ],
   "source": [
    "t0=()\n",
    "print(t0, type(t0))"
   ]
  },
  {
   "cell_type": "code",
   "execution_count": 27,
   "id": "69fa708c",
   "metadata": {},
   "outputs": [],
   "source": [
    "t1=(1,2,3)\n",
    "t2=(4,5,6)"
   ]
  },
  {
   "cell_type": "markdown",
   "id": "4dff95de",
   "metadata": {},
   "source": [
    "# 튜플 + 튜플 = 두개의 튜플 요소가 하나로 합쳐짐"
   ]
  },
  {
   "cell_type": "code",
   "execution_count": 30,
   "id": "1532514b",
   "metadata": {},
   "outputs": [
    {
     "data": {
      "text/plain": [
       "(1, 2, 3, 4, 5, 6)"
      ]
     },
     "execution_count": 30,
     "metadata": {},
     "output_type": "execute_result"
    }
   ],
   "source": [
    "t3=t1 + t2\n",
    "t3"
   ]
  },
  {
   "cell_type": "code",
   "execution_count": 31,
   "id": "4e593b1b",
   "metadata": {},
   "outputs": [
    {
     "ename": "TypeError",
     "evalue": "'tuple' object doesn't support item deletion",
     "output_type": "error",
     "traceback": [
      "\u001b[1;31m---------------------------------------------------------------------------\u001b[0m",
      "\u001b[1;31mTypeError\u001b[0m                                 Traceback (most recent call last)",
      "Cell \u001b[1;32mIn[31], line 1\u001b[0m\n\u001b[1;32m----> 1\u001b[0m \u001b[38;5;28;01mdel\u001b[39;00m t3[\u001b[38;5;241m0\u001b[39m]\n",
      "\u001b[1;31mTypeError\u001b[0m: 'tuple' object doesn't support item deletion"
     ]
    }
   ],
   "source": [
    "del t3[0]"
   ]
  },
  {
   "cell_type": "code",
   "execution_count": 32,
   "id": "4ba900af",
   "metadata": {},
   "outputs": [
    {
     "ename": "TypeError",
     "evalue": "'tuple' object does not support item assignment",
     "output_type": "error",
     "traceback": [
      "\u001b[1;31m---------------------------------------------------------------------------\u001b[0m",
      "\u001b[1;31mTypeError\u001b[0m                                 Traceback (most recent call last)",
      "Cell \u001b[1;32mIn[32], line 1\u001b[0m\n\u001b[1;32m----> 1\u001b[0m \u001b[43mt3\u001b[49m\u001b[43m[\u001b[49m\u001b[38;5;241;43m0\u001b[39;49m\u001b[43m]\u001b[49m \u001b[38;5;241m=\u001b[39m\u001b[38;5;241m10\u001b[39m\n",
      "\u001b[1;31mTypeError\u001b[0m: 'tuple' object does not support item assignment"
     ]
    }
   ],
   "source": [
    "t3[0] =10"
   ]
  },
  {
   "cell_type": "markdown",
   "id": "a37aaa2b",
   "metadata": {},
   "source": [
    "# index() 튜플 내에서 특정 값의 인덱스 찾기"
   ]
  },
  {
   "cell_type": "code",
   "execution_count": 33,
   "id": "6db5d2b9",
   "metadata": {},
   "outputs": [
    {
     "data": {
      "text/plain": [
       "4"
      ]
     },
     "execution_count": 33,
     "metadata": {},
     "output_type": "execute_result"
    }
   ],
   "source": [
    "t3.index(5)"
   ]
  },
  {
   "cell_type": "markdown",
   "id": "3a7dc7c4",
   "metadata": {},
   "source": [
    "## count() 튜플 내에 특정 값의 개수 세기"
   ]
  },
  {
   "cell_type": "code",
   "execution_count": 35,
   "id": "66649713",
   "metadata": {},
   "outputs": [
    {
     "data": {
      "text/plain": [
       "(1, 2, 3, 4, 5, 6, 1, 2, 3)"
      ]
     },
     "execution_count": 35,
     "metadata": {},
     "output_type": "execute_result"
    }
   ],
   "source": [
    "t3=t3+(1,2,3)\n",
    "t3"
   ]
  },
  {
   "cell_type": "code",
   "execution_count": 36,
   "id": "0c78aa53",
   "metadata": {},
   "outputs": [
    {
     "data": {
      "text/plain": [
       "2"
      ]
     },
     "execution_count": 36,
     "metadata": {},
     "output_type": "execute_result"
    }
   ],
   "source": [
    "t3.count(3)"
   ]
  },
  {
   "cell_type": "markdown",
   "id": "0361a713",
   "metadata": {},
   "source": [
    "## 튜플의 내용을 변경하거나 추가 삭제하고 싶을 때\n",
    "* list로 형변환 후 자료를 추가, 삭제, 변경하고 다시 tuple로 변환"
   ]
  },
  {
   "cell_type": "code",
   "execution_count": 37,
   "id": "9d8d7e1c",
   "metadata": {},
   "outputs": [
    {
     "data": {
      "text/plain": [
       "[1, 2, 3, 4, 5, 6, 1, 2, 3]"
      ]
     },
     "execution_count": 37,
     "metadata": {},
     "output_type": "execute_result"
    }
   ],
   "source": [
    "t3=list(t3)\n",
    "t3"
   ]
  },
  {
   "cell_type": "code",
   "execution_count": 38,
   "id": "da63bd39",
   "metadata": {},
   "outputs": [
    {
     "data": {
      "text/plain": [
       "[10, 2, 3, 4, 5, 6, 1, 2, 3, (1, 2, 3)]"
      ]
     },
     "execution_count": 38,
     "metadata": {},
     "output_type": "execute_result"
    }
   ],
   "source": [
    "t3[0]=10\n",
    "t3.append((1,2,3))\n",
    "t3"
   ]
  },
  {
   "cell_type": "code",
   "execution_count": 39,
   "id": "b94668f0",
   "metadata": {},
   "outputs": [
    {
     "data": {
      "text/plain": [
       "(10, 2, 3, 4, 5, 6, 1, 2, 3, (1, 2, 3))"
      ]
     },
     "execution_count": 39,
     "metadata": {},
     "output_type": "execute_result"
    }
   ],
   "source": [
    "t3 = tuple(t3)\n",
    "t3"
   ]
  },
  {
   "cell_type": "markdown",
   "id": "a723bd0a",
   "metadata": {},
   "source": [
    "# 괄호를 생략하고 튜플 만들기"
   ]
  },
  {
   "cell_type": "code",
   "execution_count": 40,
   "id": "5e4651b2",
   "metadata": {},
   "outputs": [
    {
     "data": {
      "text/plain": [
       "('튜플', '괄호없이', '만들기', 1, 2, 3)"
      ]
     },
     "execution_count": 40,
     "metadata": {},
     "output_type": "execute_result"
    }
   ],
   "source": [
    "t5 = '튜플', '괄호없이', '만들기', 1,2,3\n",
    "t5"
   ]
  },
  {
   "cell_type": "markdown",
   "id": "e7340716",
   "metadata": {},
   "source": [
    "## 리스트/튜플 * 곱셈하기 \n",
    "* 리스트 * 숫자 = 리스트 안의 요소가 숫자 만큼 복사된다.\n",
    "* 튜플 * 숫자 = 튜플 안의 요소가 숫자만큼 복사된다."
   ]
  },
  {
   "cell_type": "code",
   "execution_count": 41,
   "id": "ccb4c706",
   "metadata": {},
   "outputs": [
    {
     "data": {
      "text/plain": [
       "'=================================================='"
      ]
     },
     "execution_count": 41,
     "metadata": {},
     "output_type": "execute_result"
    }
   ],
   "source": [
    "\"=\"*50"
   ]
  },
  {
   "cell_type": "code",
   "execution_count": 42,
   "id": "20d6a7fc",
   "metadata": {},
   "outputs": [
    {
     "data": {
      "text/plain": [
       "[1, 2, 3, 1, 2, 3, 1, 2, 3]"
      ]
     },
     "execution_count": 42,
     "metadata": {},
     "output_type": "execute_result"
    }
   ],
   "source": [
    "a = [1,2,3]\n",
    "a *3"
   ]
  },
  {
   "cell_type": "code",
   "execution_count": 43,
   "id": "d504d630",
   "metadata": {},
   "outputs": [
    {
     "data": {
      "text/plain": [
       "('튜플',\n",
       " '괄호없이',\n",
       " '만들기',\n",
       " 1,\n",
       " 2,\n",
       " 3,\n",
       " '튜플',\n",
       " '괄호없이',\n",
       " '만들기',\n",
       " 1,\n",
       " 2,\n",
       " 3,\n",
       " '튜플',\n",
       " '괄호없이',\n",
       " '만들기',\n",
       " 1,\n",
       " 2,\n",
       " 3)"
      ]
     },
     "execution_count": 43,
     "metadata": {},
     "output_type": "execute_result"
    }
   ],
   "source": [
    "t5 * 3"
   ]
  },
  {
   "cell_type": "markdown",
   "id": "bfd34719",
   "metadata": {},
   "source": [
    "## 리스트/튜플 연산 함수 사용하기 \n",
    "* sum(): 덧셈\n",
    "* max() : 최대값\n",
    "* min(): 최솟값"
   ]
  },
  {
   "cell_type": "code",
   "execution_count": 44,
   "id": "8421db2f",
   "metadata": {},
   "outputs": [],
   "source": [
    "a = list(range(1,51))\n",
    "b = tuple(range(100,50,-1))"
   ]
  },
  {
   "cell_type": "code",
   "execution_count": 45,
   "id": "2de3b7cb",
   "metadata": {},
   "outputs": [
    {
     "data": {
      "text/plain": [
       "[1,\n",
       " 2,\n",
       " 3,\n",
       " 4,\n",
       " 5,\n",
       " 6,\n",
       " 7,\n",
       " 8,\n",
       " 9,\n",
       " 10,\n",
       " 11,\n",
       " 12,\n",
       " 13,\n",
       " 14,\n",
       " 15,\n",
       " 16,\n",
       " 17,\n",
       " 18,\n",
       " 19,\n",
       " 20,\n",
       " 21,\n",
       " 22,\n",
       " 23,\n",
       " 24,\n",
       " 25,\n",
       " 26,\n",
       " 27,\n",
       " 28,\n",
       " 29,\n",
       " 30,\n",
       " 31,\n",
       " 32,\n",
       " 33,\n",
       " 34,\n",
       " 35,\n",
       " 36,\n",
       " 37,\n",
       " 38,\n",
       " 39,\n",
       " 40,\n",
       " 41,\n",
       " 42,\n",
       " 43,\n",
       " 44,\n",
       " 45,\n",
       " 46,\n",
       " 47,\n",
       " 48,\n",
       " 49,\n",
       " 50]"
      ]
     },
     "execution_count": 45,
     "metadata": {},
     "output_type": "execute_result"
    }
   ],
   "source": [
    "a"
   ]
  },
  {
   "cell_type": "code",
   "execution_count": 46,
   "id": "7eb5bb80",
   "metadata": {},
   "outputs": [
    {
     "data": {
      "text/plain": [
       "(100,\n",
       " 99,\n",
       " 98,\n",
       " 97,\n",
       " 96,\n",
       " 95,\n",
       " 94,\n",
       " 93,\n",
       " 92,\n",
       " 91,\n",
       " 90,\n",
       " 89,\n",
       " 88,\n",
       " 87,\n",
       " 86,\n",
       " 85,\n",
       " 84,\n",
       " 83,\n",
       " 82,\n",
       " 81,\n",
       " 80,\n",
       " 79,\n",
       " 78,\n",
       " 77,\n",
       " 76,\n",
       " 75,\n",
       " 74,\n",
       " 73,\n",
       " 72,\n",
       " 71,\n",
       " 70,\n",
       " 69,\n",
       " 68,\n",
       " 67,\n",
       " 66,\n",
       " 65,\n",
       " 64,\n",
       " 63,\n",
       " 62,\n",
       " 61,\n",
       " 60,\n",
       " 59,\n",
       " 58,\n",
       " 57,\n",
       " 56,\n",
       " 55,\n",
       " 54,\n",
       " 53,\n",
       " 52,\n",
       " 51)"
      ]
     },
     "execution_count": 46,
     "metadata": {},
     "output_type": "execute_result"
    }
   ],
   "source": [
    "b"
   ]
  },
  {
   "cell_type": "code",
   "execution_count": 47,
   "id": "90594556",
   "metadata": {},
   "outputs": [
    {
     "data": {
      "text/plain": [
       "1275"
      ]
     },
     "execution_count": 47,
     "metadata": {},
     "output_type": "execute_result"
    }
   ],
   "source": [
    "sum(a)"
   ]
  },
  {
   "cell_type": "code",
   "execution_count": 48,
   "id": "69bc7e1c",
   "metadata": {},
   "outputs": [
    {
     "data": {
      "text/plain": [
       "3775"
      ]
     },
     "execution_count": 48,
     "metadata": {},
     "output_type": "execute_result"
    }
   ],
   "source": [
    "sum(b)"
   ]
  },
  {
   "cell_type": "code",
   "execution_count": 49,
   "id": "dca6cb2e",
   "metadata": {},
   "outputs": [
    {
     "data": {
      "text/plain": [
       "50"
      ]
     },
     "execution_count": 49,
     "metadata": {},
     "output_type": "execute_result"
    }
   ],
   "source": [
    "max(a)"
   ]
  },
  {
   "cell_type": "code",
   "execution_count": 50,
   "id": "724e73c0",
   "metadata": {},
   "outputs": [
    {
     "data": {
      "text/plain": [
       "100"
      ]
     },
     "execution_count": 50,
     "metadata": {},
     "output_type": "execute_result"
    }
   ],
   "source": [
    "max(b)"
   ]
  },
  {
   "cell_type": "code",
   "execution_count": 51,
   "id": "9b063035",
   "metadata": {},
   "outputs": [
    {
     "data": {
      "text/plain": [
       "1"
      ]
     },
     "execution_count": 51,
     "metadata": {},
     "output_type": "execute_result"
    }
   ],
   "source": [
    "min(a)"
   ]
  },
  {
   "cell_type": "code",
   "execution_count": 52,
   "id": "aeeb4ff9",
   "metadata": {},
   "outputs": [
    {
     "data": {
      "text/plain": [
       "51"
      ]
     },
     "execution_count": 52,
     "metadata": {},
     "output_type": "execute_result"
    }
   ],
   "source": [
    "min(b)"
   ]
  },
  {
   "cell_type": "markdown",
   "id": "e112ea9e",
   "metadata": {},
   "source": [
    "# 시퀀스 객체(순서가 있는 자료들)\n",
    "* 문자열\n",
    "* list\n",
    "* tuple\n",
    "* 시퀀스 객체는 순서가 있는 자료를 말한다. \n",
    "* 시퀀스 객체는 반복문에서 사용이 가능\n",
    "* 시퀀스 객체 + 시퀀스 객체 = 요소가 하나로 합쳐진다. \n",
    "* 시퀀스 객체 * 숫자 = 요소가 숫자의 배수로  복사 증가한다.\n",
    "* 시퀀스 객체 내의 값은 in, not in으로 찾을 수 있다. "
   ]
  },
  {
   "cell_type": "code",
   "execution_count": 53,
   "id": "2bef43a4",
   "metadata": {},
   "outputs": [
    {
     "data": {
      "text/plain": [
       "'문자열'"
      ]
     },
     "execution_count": 53,
     "metadata": {},
     "output_type": "execute_result"
    }
   ],
   "source": [
    "\"문자\"+\"열\""
   ]
  },
  {
   "cell_type": "code",
   "execution_count": 54,
   "id": "d0d9a902",
   "metadata": {},
   "outputs": [
    {
     "data": {
      "text/plain": [
       "[1, 2, 3, 4, 5, 6]"
      ]
     },
     "execution_count": 54,
     "metadata": {},
     "output_type": "execute_result"
    }
   ],
   "source": [
    "[1,2,3] + [4,5,6]"
   ]
  },
  {
   "cell_type": "code",
   "execution_count": 55,
   "id": "a6a2310d",
   "metadata": {},
   "outputs": [
    {
     "data": {
      "text/plain": [
       "(1, 2, 3, 4, 5, 6)"
      ]
     },
     "execution_count": 55,
     "metadata": {},
     "output_type": "execute_result"
    }
   ],
   "source": [
    "(1,2,3) + (4,5,6)"
   ]
  },
  {
   "cell_type": "code",
   "execution_count": 56,
   "id": "70fcfa65",
   "metadata": {},
   "outputs": [
    {
     "data": {
      "text/plain": [
       "'=========='"
      ]
     },
     "execution_count": 56,
     "metadata": {},
     "output_type": "execute_result"
    }
   ],
   "source": [
    "\"=\"*10"
   ]
  },
  {
   "cell_type": "code",
   "execution_count": 58,
   "id": "e46ff706",
   "metadata": {},
   "outputs": [
    {
     "data": {
      "text/plain": [
       "(1, 2, 3, 1, 2, 3, 1, 2, 3)"
      ]
     },
     "execution_count": 58,
     "metadata": {},
     "output_type": "execute_result"
    }
   ],
   "source": [
    "(1,2,3)*3"
   ]
  },
  {
   "cell_type": "code",
   "execution_count": 59,
   "id": "54068b2e",
   "metadata": {},
   "outputs": [
    {
     "data": {
      "text/plain": [
       "True"
      ]
     },
     "execution_count": 59,
     "metadata": {},
     "output_type": "execute_result"
    }
   ],
   "source": [
    "\"길동이\" in \"홍길동이\""
   ]
  },
  {
   "cell_type": "code",
   "execution_count": 61,
   "id": "8013fe05",
   "metadata": {},
   "outputs": [
    {
     "data": {
      "text/plain": [
       "True"
      ]
     },
     "execution_count": 61,
     "metadata": {},
     "output_type": "execute_result"
    }
   ],
   "source": [
    "3 in (1,2,3)"
   ]
  },
  {
   "cell_type": "code",
   "execution_count": 63,
   "id": "3ff454cb",
   "metadata": {},
   "outputs": [
    {
     "data": {
      "text/plain": [
       "False"
      ]
     },
     "execution_count": 63,
     "metadata": {},
     "output_type": "execute_result"
    }
   ],
   "source": [
    "3 not in [1,2,3]"
   ]
  },
  {
   "cell_type": "code",
   "execution_count": 65,
   "id": "887fc1c7",
   "metadata": {},
   "outputs": [
    {
     "name": "stdout",
     "output_type": "stream",
     "text": [
      "문자열도 시퀀스 객체라서 반복문에서 사용이 가능하다"
     ]
    }
   ],
   "source": [
    "for i in \"문자열도 시퀀스 객체라서 반복문에서 사용이 가능하다\":\n",
    "    print(i, end='')"
   ]
  },
  {
   "cell_type": "code",
   "execution_count": 66,
   "id": "002db113",
   "metadata": {},
   "outputs": [
    {
     "name": "stdout",
     "output_type": "stream",
     "text": [
      "1\n",
      "2\n",
      "3\n",
      "4\n",
      "5\n"
     ]
    }
   ],
   "source": [
    "for i in [1,2,3,4,5]:\n",
    "    print(i)"
   ]
  },
  {
   "cell_type": "code",
   "execution_count": 67,
   "id": "5932b13f",
   "metadata": {},
   "outputs": [
    {
     "name": "stdout",
     "output_type": "stream",
     "text": [
      "1\n",
      "2\n",
      "3\n",
      "4\n"
     ]
    }
   ],
   "source": [
    "for i in (1,2,3,4):\n",
    "    print(i)"
   ]
  },
  {
   "cell_type": "code",
   "execution_count": 70,
   "id": "9bba8327",
   "metadata": {},
   "outputs": [
    {
     "name": "stdout",
     "output_type": "stream",
     "text": [
      "1\n",
      "1\n",
      "2\n",
      "2\n",
      "3\n",
      "3\n",
      "4\n",
      "4\n",
      "5\n",
      "5\n"
     ]
    }
   ],
   "source": [
    "for i, j in zip((1,2,3,4,5),[1,2,3,4,5]):\n",
    "    print(i)\n",
    "    print(j)"
   ]
  },
  {
   "cell_type": "code",
   "execution_count": null,
   "id": "0a1cd00a",
   "metadata": {},
   "outputs": [],
   "source": []
  },
  {
   "cell_type": "code",
   "execution_count": null,
   "id": "c47b1a87",
   "metadata": {},
   "outputs": [],
   "source": []
  }
 ],
 "metadata": {
  "kernelspec": {
   "display_name": "Python 3 (ipykernel)",
   "language": "python",
   "name": "python3"
  },
  "language_info": {
   "codemirror_mode": {
    "name": "ipython",
    "version": 3
   },
   "file_extension": ".py",
   "mimetype": "text/x-python",
   "name": "python",
   "nbconvert_exporter": "python",
   "pygments_lexer": "ipython3",
   "version": "3.9.23"
  }
 },
 "nbformat": 4,
 "nbformat_minor": 5
}
