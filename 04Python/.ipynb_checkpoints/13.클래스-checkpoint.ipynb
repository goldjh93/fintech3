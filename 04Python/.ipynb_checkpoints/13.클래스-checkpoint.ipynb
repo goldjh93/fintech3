{
 "cells": [
  {
   "cell_type": "markdown",
   "id": "f32f6d6e",
   "metadata": {},
   "source": [
    "# 클래스\n",
    "* 객체지향 프로그래밍\n",
    "* 코드를 재사용하는데 특화 \n",
    "* 여러 사람이 이용할 때 같은 코드를 독립적으로 사용 가능\n",
    "* 캡슐화, 상속, 다형성 같은 개념 사용 \n"
   ]
  },
  {
   "cell_type": "markdown",
   "id": "f1ac178d",
   "metadata": {},
   "source": [
    "## 1) 절차적 프로그래밍\n",
    "* 프로그래밍을 순차적으로 하는 것\n",
    "* 코드가 위에서 아래로 절차적으로 실행 "
   ]
  },
  {
   "cell_type": "code",
   "execution_count": 1,
   "id": "ddca5aee",
   "metadata": {},
   "outputs": [
    {
     "name": "stdout",
     "output_type": "stream",
     "text": [
      "[1, 4, 9, 16]\n"
     ]
    }
   ],
   "source": [
    "# nums =[1,2,3,4] 의 각 요소를 제곱한 리스트를 출력하세요. \n",
    "nums=[1,2,3,4]\n",
    "squares =[]\n",
    "for i in nums:\n",
    "    squares.append(i**2)\n",
    "print(squares)"
   ]
  },
  {
   "cell_type": "markdown",
   "id": "3d6e003a",
   "metadata": {},
   "source": [
    "## 2) 함수형 프로그래밍\n",
    "* 여러 개의 함수를 작성해서 함수에 기반해 프로그래밍 실행\n",
    "* 코드의 재사용 가능\n",
    "* 유지보수가 쉬워짐\n",
    "* 버그 발생률이 낮고 예측 가능성이 높음\n",
    "* 병렬처리, 동시성 처리에 강함 - 멀티코어를 이용할 때 유리 "
   ]
  },
  {
   "cell_type": "code",
   "execution_count": 4,
   "id": "6a5e1572",
   "metadata": {},
   "outputs": [
    {
     "name": "stdout",
     "output_type": "stream",
     "text": [
      "[1, 4, 9, 16]\n"
     ]
    }
   ],
   "source": [
    "nums = [1,2,3,4]\n",
    "squares = list(map(lambda x : x**2, nums))\n",
    "print(squares)"
   ]
  },
  {
   "cell_type": "markdown",
   "id": "96a3f175",
   "metadata": {},
   "source": [
    "## 3) 객체지향형 프로그래밍\n",
    "* Java, C++ \n",
    "* 클래스 기반으로 프로그래밍\n",
    "* 코드를 재사용하는데 특화\n",
    "* 여러 사람이 이용할 때 같은 코드를 독립적으로 사용 가능\n"
   ]
  },
  {
   "cell_type": "code",
   "execution_count": 6,
   "id": "29dee9a2",
   "metadata": {},
   "outputs": [],
   "source": [
    "class NumberList():\n",
    "    def __init__(self, numbers):\n",
    "        self.numbers = numbers\n",
    "    def squared(self):\n",
    "        return [x**2 for x in self.numbers]"
   ]
  },
  {
   "cell_type": "code",
   "execution_count": 9,
   "id": "4342bab3",
   "metadata": {},
   "outputs": [
    {
     "data": {
      "text/plain": [
       "[1, 4, 9, 16]"
      ]
     },
     "execution_count": 9,
     "metadata": {},
     "output_type": "execute_result"
    }
   ],
   "source": [
    "squared = NumberList([1,2,3,4])\n",
    "squared.squared()"
   ]
  },
  {
   "cell_type": "markdown",
   "id": "41433bf2",
   "metadata": {},
   "source": [
    "# 클래스 만들기\n",
    "* 클래스 하나에 여러개의 함수(매서드)를 포함\n",
    "* 클래스 = 공장(커피머신 공장)  - 커피머신\n",
    "* 매서드 = 커피머신의 기능(에스프레소, 아메리카노, 카페라테, 스팀) "
   ]
  },
  {
   "cell_type": "markdown",
   "id": "2a1a3ced",
   "metadata": {},
   "source": [
    "# 클래스를 사용해야 하는 이유 "
   ]
  },
  {
   "cell_type": "code",
   "execution_count": 10,
   "id": "ac30b5a3",
   "metadata": {},
   "outputs": [],
   "source": [
    "# 더하기 함수 만들기 \n",
    "def add(num1, num2):\n",
    "    result = num1+num2\n",
    "    return result"
   ]
  },
  {
   "cell_type": "code",
   "execution_count": 11,
   "id": "244ce574",
   "metadata": {},
   "outputs": [
    {
     "data": {
      "text/plain": [
       "8"
      ]
     },
     "execution_count": 11,
     "metadata": {},
     "output_type": "execute_result"
    }
   ],
   "source": [
    "add(3,5)"
   ]
  },
  {
   "cell_type": "markdown",
   "id": "3f2da77a",
   "metadata": {},
   "source": [
    "* 이전에 계산했던 결과를 기억하는 계산기"
   ]
  },
  {
   "cell_type": "code",
   "execution_count": 16,
   "id": "cdd5a99c",
   "metadata": {},
   "outputs": [],
   "source": [
    "result_cal =0 \n",
    "def add(num, result_cal):\n",
    "    print('result_cal: ', result_cal)\n",
    "    result_cal += num \n",
    "    return result_cal "
   ]
  },
  {
   "cell_type": "code",
   "execution_count": 17,
   "id": "dd1c973d",
   "metadata": {},
   "outputs": [
    {
     "name": "stdout",
     "output_type": "stream",
     "text": [
      "result_cal:  0\n"
     ]
    },
    {
     "data": {
      "text/plain": [
       "10"
      ]
     },
     "execution_count": 17,
     "metadata": {},
     "output_type": "execute_result"
    }
   ],
   "source": [
    "add(10, result_cal)"
   ]
  },
  {
   "cell_type": "code",
   "execution_count": 18,
   "id": "9d0f81b0",
   "metadata": {},
   "outputs": [
    {
     "name": "stdout",
     "output_type": "stream",
     "text": [
      "result_cal:  0\n"
     ]
    },
    {
     "data": {
      "text/plain": [
       "5"
      ]
     },
     "execution_count": 18,
     "metadata": {},
     "output_type": "execute_result"
    }
   ],
   "source": [
    "add(5, result_cal)"
   ]
  },
  {
   "cell_type": "markdown",
   "id": "2b843d2e",
   "metadata": {},
   "source": [
    "* 지역 변수를 전역변수로 변경"
   ]
  },
  {
   "cell_type": "code",
   "execution_count": 21,
   "id": "533d26f2",
   "metadata": {},
   "outputs": [],
   "source": [
    "result_cal =0 \n",
    "def add2(num):\n",
    "    global result_cal\n",
    "    print('result_cal: ', result_cal)\n",
    "    result_cal += num \n",
    "    return result_cal "
   ]
  },
  {
   "cell_type": "code",
   "execution_count": 22,
   "id": "054888a1",
   "metadata": {},
   "outputs": [
    {
     "name": "stdout",
     "output_type": "stream",
     "text": [
      "result_cal:  0\n"
     ]
    },
    {
     "data": {
      "text/plain": [
       "10"
      ]
     },
     "execution_count": 22,
     "metadata": {},
     "output_type": "execute_result"
    }
   ],
   "source": [
    "add2(10)"
   ]
  },
  {
   "cell_type": "code",
   "execution_count": 23,
   "id": "db3f9541",
   "metadata": {},
   "outputs": [
    {
     "name": "stdout",
     "output_type": "stream",
     "text": [
      "result_cal:  10\n"
     ]
    },
    {
     "data": {
      "text/plain": [
       "25"
      ]
     },
     "execution_count": 23,
     "metadata": {},
     "output_type": "execute_result"
    }
   ],
   "source": [
    "add2(15)"
   ]
  },
  {
   "cell_type": "markdown",
   "id": "454209b3",
   "metadata": {},
   "source": [
    "* 만약 mul 함수를 길동잉하 둘리가 동시에 같이 쓰고 다면?\n",
    "* 함수를 여러개 만들면 된다.\n",
    "* 사용자가 많을 경우 매우 비효율적이 된다\n",
    "* 하나의 코드로 여러 사함이 이용해도 독립적으로 작동하게 하는 것이 클래스"
   ]
  },
  {
   "cell_type": "code",
   "execution_count": null,
   "id": "f5ce78c3",
   "metadata": {},
   "outputs": [],
   "source": [
    "result_cal =0 \n",
    "def add_gildong(num):\n",
    "    global result_cal\n",
    "    print('result_cal: ', result_cal)\n",
    "    result_cal += num \n",
    "    return result_cal \n"
   ]
  },
  {
   "cell_type": "code",
   "execution_count": null,
   "id": "0c910e95",
   "metadata": {},
   "outputs": [],
   "source": [
    "def add_duli(num):\n",
    "    global result_cal\n",
    "    print('result_cal: ', result_cal)\n",
    "    result_cal += num \n",
    "    return result_cal "
   ]
  },
  {
   "cell_type": "markdown",
   "id": "b69ee2a4",
   "metadata": {},
   "source": [
    "# 클래스 만들기\n",
    "* 클래스의 이름은 대문자로 시작하는 카멜표기법으로 만든다.  class CalcGildong()\n",
    "class 클래스명():<br>\n",
    "____def 매소드명1():<br>\n",
    "________실행할 코드<br>\n",
    "________return<br>\n",
    "____def 매소드명2():<br>\n",
    "________실행할 코드<br>\n",
    "________return<br>"
   ]
  },
  {
   "cell_type": "code",
   "execution_count": 25,
   "id": "a912f565",
   "metadata": {},
   "outputs": [],
   "source": [
    "class Calc():\n",
    "    def __init__(self):\n",
    "        self.result =0\n",
    "    def add(self, num):\n",
    "        self.result +=num\n",
    "        return self.result"
   ]
  },
  {
   "cell_type": "markdown",
   "id": "2328cfc9",
   "metadata": {},
   "source": [
    "# 인스턴스\n",
    "* 만들어진 클래스를 변수에 담는 것\n",
    "* 만들어진 물건을 사용자에게 배송 "
   ]
  },
  {
   "cell_type": "code",
   "execution_count": 26,
   "id": "6112e35c",
   "metadata": {},
   "outputs": [],
   "source": [
    "gil = Calc()"
   ]
  },
  {
   "cell_type": "code",
   "execution_count": 27,
   "id": "ed89ccaa",
   "metadata": {},
   "outputs": [
    {
     "data": {
      "text/plain": [
       "5"
      ]
     },
     "execution_count": 27,
     "metadata": {},
     "output_type": "execute_result"
    }
   ],
   "source": [
    "gil.add(5)"
   ]
  },
  {
   "cell_type": "code",
   "execution_count": 28,
   "id": "61a71875",
   "metadata": {},
   "outputs": [
    {
     "data": {
      "text/plain": [
       "15"
      ]
     },
     "execution_count": 28,
     "metadata": {},
     "output_type": "execute_result"
    }
   ],
   "source": [
    "gil.add(10)"
   ]
  },
  {
   "cell_type": "code",
   "execution_count": 29,
   "id": "0094c475",
   "metadata": {},
   "outputs": [
    {
     "data": {
      "text/plain": [
       "35"
      ]
     },
     "execution_count": 29,
     "metadata": {},
     "output_type": "execute_result"
    }
   ],
   "source": [
    "gil.add(20)"
   ]
  },
  {
   "cell_type": "code",
   "execution_count": 30,
   "id": "afc15474",
   "metadata": {},
   "outputs": [],
   "source": [
    "dul = Calc()"
   ]
  },
  {
   "cell_type": "code",
   "execution_count": 31,
   "id": "fc459146",
   "metadata": {},
   "outputs": [
    {
     "data": {
      "text/plain": [
       "100"
      ]
     },
     "execution_count": 31,
     "metadata": {},
     "output_type": "execute_result"
    }
   ],
   "source": [
    "dul.add(100)"
   ]
  },
  {
   "cell_type": "markdown",
   "id": "47dfdc23",
   "metadata": {},
   "source": [
    "# 클래스 사용방법\n",
    "* 변수에 클래스를 담아서 인스턴스 생성(배송)\n",
    "* 공장에서 만든 커피머신을 사용자에게 배송(인스턴스) \n",
    "* 인스턴스 변수명 = 클래스명() => 인스턴스 생성 \n",
    "* 인스턴스를 생성하면 인스턴스변수명.메소드명으로 클래스에 정의한 메소드는 사용할 수 있다."
   ]
  },
  {
   "cell_type": "markdown",
   "id": "645859e6",
   "metadata": {},
   "source": [
    "# 메소드(method)\n",
    "* 클래스 안에 정의하는 함수\n",
    "* 클래스에 기능을 만들어 준다\n",
    "* def 메소드명(self, 매개변수1, 매개변수2, **kwargs):<br>\n",
    "____self.매개변수 = 매개변수"
   ]
  },
  {
   "cell_type": "code",
   "execution_count": 41,
   "id": "103ed161",
   "metadata": {},
   "outputs": [],
   "source": [
    "class FourCal():\n",
    "    #데이터 입력을 받는 역할의 setdata method\n",
    "    def setdata(self, num1, *num2):\n",
    "        self.num1=num1\n",
    "        self.num2=num2\n",
    "        print(\"self.num1\", self.num1)\n",
    "        print(\"self.num2\", self.num2)"
   ]
  },
  {
   "cell_type": "code",
   "execution_count": 33,
   "id": "983307c8",
   "metadata": {},
   "outputs": [],
   "source": [
    "sam = FourCal()"
   ]
  },
  {
   "cell_type": "code",
   "execution_count": 34,
   "id": "ecb6f9fd",
   "metadata": {},
   "outputs": [
    {
     "name": "stdout",
     "output_type": "stream",
     "text": [
      "self.num1 1\n",
      "self.num1 (2, 3, 4)\n"
     ]
    }
   ],
   "source": [
    "sam.setdata(1,2,3,4)"
   ]
  },
  {
   "cell_type": "code",
   "execution_count": 35,
   "id": "74b60b42",
   "metadata": {},
   "outputs": [],
   "source": [
    "dul = FourCal()"
   ]
  },
  {
   "cell_type": "code",
   "execution_count": 36,
   "id": "c530c5f6",
   "metadata": {},
   "outputs": [
    {
     "name": "stdout",
     "output_type": "stream",
     "text": [
      "self.num1 5\n",
      "self.num1 (6, 7, 8)\n"
     ]
    }
   ],
   "source": [
    "dul.setdata(5,6,7,8)"
   ]
  },
  {
   "cell_type": "markdown",
   "id": "88c3c317",
   "metadata": {},
   "source": [
    "# 클래스에 기능 추가하기"
   ]
  },
  {
   "cell_type": "code",
   "execution_count": 42,
   "id": "fc855818",
   "metadata": {},
   "outputs": [],
   "source": [
    "class FourCal():\n",
    "    #데이터 입력을 받는 역할의 setdata method\n",
    "    def setdata(self, num1, num2):\n",
    "        self.num1=num1\n",
    "        self.num2=num2\n",
    "        print(\"self.num1:\", self.num1)\n",
    "        print(\"self.num2:\", self.num2)\n",
    "        \n",
    "    #덧셈\n",
    "    def add(self):\n",
    "        result = self.num1 + self.num2\n",
    "        return result\n",
    "    def sub(self):\n",
    "        result = self.num1 - self.num2\n",
    "        return result\n",
    "    def mul(self):\n",
    "        result = self.num1 * self.num2\n",
    "        return result\n",
    "    def div(self):\n",
    "        result = self.num1 / self.num2\n",
    "        return result"
   ]
  },
  {
   "cell_type": "code",
   "execution_count": 43,
   "id": "ad46498f",
   "metadata": {},
   "outputs": [],
   "source": [
    "sam = FourCal()"
   ]
  },
  {
   "cell_type": "code",
   "execution_count": 44,
   "id": "dc74b2d0",
   "metadata": {},
   "outputs": [
    {
     "name": "stdout",
     "output_type": "stream",
     "text": [
      "self.num1: 3\n",
      "self.num2: 5\n"
     ]
    }
   ],
   "source": [
    "sam.setdata(3,5)"
   ]
  },
  {
   "cell_type": "code",
   "execution_count": 45,
   "id": "92a8a27d",
   "metadata": {},
   "outputs": [
    {
     "data": {
      "text/plain": [
       "8"
      ]
     },
     "execution_count": 45,
     "metadata": {},
     "output_type": "execute_result"
    }
   ],
   "source": [
    "sam.add()"
   ]
  },
  {
   "cell_type": "code",
   "execution_count": 46,
   "id": "19943a84",
   "metadata": {},
   "outputs": [
    {
     "data": {
      "text/plain": [
       "-2"
      ]
     },
     "execution_count": 46,
     "metadata": {},
     "output_type": "execute_result"
    }
   ],
   "source": [
    "sam.sub()"
   ]
  },
  {
   "cell_type": "code",
   "execution_count": 47,
   "id": "cc638663",
   "metadata": {},
   "outputs": [
    {
     "data": {
      "text/plain": [
       "15"
      ]
     },
     "execution_count": 47,
     "metadata": {},
     "output_type": "execute_result"
    }
   ],
   "source": [
    "sam.mul()"
   ]
  },
  {
   "cell_type": "code",
   "execution_count": null,
   "id": "e51e4b8e",
   "metadata": {},
   "outputs": [],
   "source": []
  },
  {
   "cell_type": "code",
   "execution_count": null,
   "id": "c72e1d10",
   "metadata": {},
   "outputs": [],
   "source": []
  },
  {
   "cell_type": "code",
   "execution_count": null,
   "id": "80223ced",
   "metadata": {},
   "outputs": [],
   "source": []
  },
  {
   "cell_type": "code",
   "execution_count": null,
   "id": "a343a10e",
   "metadata": {},
   "outputs": [],
   "source": []
  }
 ],
 "metadata": {
  "kernelspec": {
   "display_name": "Python 3 (ipykernel)",
   "language": "python",
   "name": "python3"
  },
  "language_info": {
   "codemirror_mode": {
    "name": "ipython",
    "version": 3
   },
   "file_extension": ".py",
   "mimetype": "text/x-python",
   "name": "python",
   "nbconvert_exporter": "python",
   "pygments_lexer": "ipython3",
   "version": "3.9.23"
  }
 },
 "nbformat": 4,
 "nbformat_minor": 5
}
