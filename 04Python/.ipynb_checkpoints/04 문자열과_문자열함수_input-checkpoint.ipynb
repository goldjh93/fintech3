{
 "cells": [
  {
   "cell_type": "markdown",
   "id": "181c05a6",
   "metadata": {},
   "source": [
    "# input().split()으로 여러 데이터를 list형태로 받기\n",
    "* split함수는 공백(구분자)을 기준으로 자료를 나누어 list로 만들어 줌"
   ]
  },
  {
   "cell_type": "code",
   "execution_count": 2,
   "id": "bbb6c7f4",
   "metadata": {},
   "outputs": [
    {
     "name": "stdout",
     "output_type": "stream",
     "text": [
      "숫자를 3개 입력해 주세요.1 2 3\n",
      "['1', '2', '3'] <class 'list'>\n"
     ]
    }
   ],
   "source": [
    "nums = input(\"숫자를 3개 입력해 주세요.\").split()\n",
    "print(nums, type(nums))"
   ]
  },
  {
   "cell_type": "code",
   "execution_count": 3,
   "id": "c5d9db86",
   "metadata": {},
   "outputs": [
    {
     "data": {
      "text/plain": [
       "'3'"
      ]
     },
     "execution_count": 3,
     "metadata": {},
     "output_type": "execute_result"
    }
   ],
   "source": [
    "nums[2]"
   ]
  },
  {
   "cell_type": "code",
   "execution_count": 7,
   "id": "106dfbf1",
   "metadata": {},
   "outputs": [
    {
     "data": {
      "text/plain": [
       "3"
      ]
     },
     "execution_count": 7,
     "metadata": {},
     "output_type": "execute_result"
    }
   ],
   "source": [
    "int(nums[0])+int(nums[1])"
   ]
  },
  {
   "cell_type": "code",
   "execution_count": 8,
   "id": "ec26f685",
   "metadata": {},
   "outputs": [
    {
     "name": "stdout",
     "output_type": "stream",
     "text": [
      "숫자를 3개 입력해주세요1 2 3\n",
      "1 2 3 <class 'str'> <class 'str'> <class 'str'>\n"
     ]
    }
   ],
   "source": [
    "num1, num2, num3 = input(\"숫자를 3개 입력해주세요\").split()\n",
    "print(num1, num2, num3, type(num1), type(num2), type(num3))"
   ]
  },
  {
   "cell_type": "markdown",
   "id": "ab02045d",
   "metadata": {},
   "source": [
    "# 인덱싱과 슬라이싱\n",
    "* 문자: 글자 1개 \n",
    "* 문자열: 글자가 여러개 => 순서가 있다. => 앞에서부터 0,1,2..순으로 번호가 매겨짐\n",
    "* 인덱싱 변수명[인덱스 번호]로 자료 1개를 꺼내는 것 "
   ]
  },
  {
   "cell_type": "code",
   "execution_count": 9,
   "id": "c2488d0f",
   "metadata": {
    "scrolled": true
   },
   "outputs": [
    {
     "name": "stdout",
     "output_type": "stream",
     "text": [
      "문자열은 왼쪽부터 번호를 매길 수 있으며 시작은 0번부터 입니다.\n"
     ]
    }
   ],
   "source": [
    "h1 =\"문자열은 왼쪽부터 번호를 매길 수 있으며 시작은 0번부터 입니다.\"\n",
    "print(h1)"
   ]
  },
  {
   "cell_type": "code",
   "execution_count": 10,
   "id": "3e35507d",
   "metadata": {},
   "outputs": [
    {
     "data": {
      "text/plain": [
       "'번'"
      ]
     },
     "execution_count": 10,
     "metadata": {},
     "output_type": "execute_result"
    }
   ],
   "source": [
    "#h1 변수에서 인덱스 10번의 자료를 추출하세요\n",
    "h1[10]"
   ]
  },
  {
   "cell_type": "markdown",
   "id": "777b10b4",
   "metadata": {},
   "source": [
    "* 슬라이싱 변수명[시작인덱스:끝인덱스+1:간격]\n",
    "* 시작인덱스와 끝 인덱스는 생략가능\n",
    "* [:10] => 시작부터 9번 인덱스까지 슬라이스\n",
    "* [5:]=> 인덱스 5번부터 시작해서 끝까지 슬라이스\n",
    "* [:] => 전체를 다 가져와라\n",
    "* [:2] => 전체 자료에서 2칸씩 건너 뛰면서 슬라이스 \n",
    "* [::-1] => 전체 자료를 역순 정렬 "
   ]
  },
  {
   "cell_type": "code",
   "execution_count": 11,
   "id": "d66d1347",
   "metadata": {},
   "outputs": [
    {
     "data": {
      "text/plain": [
       "'번호를'"
      ]
     },
     "execution_count": 11,
     "metadata": {},
     "output_type": "execute_result"
    }
   ],
   "source": [
    "# h1에서 \"번호를\"만 추출하게요.\n",
    "h1[10:13]"
   ]
  },
  {
   "cell_type": "code",
   "execution_count": 12,
   "id": "da3cbc11",
   "metadata": {},
   "outputs": [
    {
     "data": {
      "text/plain": [
       "'문자열은 왼쪽부터 번호를 매길'"
      ]
     },
     "execution_count": 12,
     "metadata": {},
     "output_type": "execute_result"
    }
   ],
   "source": [
    "# 인덱스 0번부터 15번까지 추출하세요\n",
    "h1[:16]"
   ]
  },
  {
   "cell_type": "code",
   "execution_count": 13,
   "id": "f85e8c8a",
   "metadata": {},
   "outputs": [
    {
     "data": {
      "text/plain": [
       "'길 수 있으며 시작은 0번부터 입니다.'"
      ]
     },
     "execution_count": 13,
     "metadata": {},
     "output_type": "execute_result"
    }
   ],
   "source": [
    "# 인덱스 15번부터 끝까지 추출하세요\n",
    "h1[15:]"
   ]
  },
  {
   "cell_type": "code",
   "execution_count": 14,
   "id": "8d847d58",
   "metadata": {},
   "outputs": [
    {
     "data": {
      "text/plain": [
       "'자은왼부 호 길수있며시은0부 니.'"
      ]
     },
     "execution_count": 14,
     "metadata": {},
     "output_type": "execute_result"
    }
   ],
   "source": [
    "# h1에서 인덱스 1번까지 끝까지 2칸씩 건너 뛰면서 추출하세요\n",
    "h1[1::2]"
   ]
  },
  {
   "cell_type": "code",
   "execution_count": 15,
   "id": "fbc3ca21",
   "metadata": {},
   "outputs": [
    {
     "data": {
      "text/plain": [
       "'.다니입 터부번0 은작시 며으있 수 길매 를호번 터부쪽왼 은열자문'"
      ]
     },
     "execution_count": 15,
     "metadata": {},
     "output_type": "execute_result"
    }
   ],
   "source": [
    "#h1의 자료를 역순으로 정렬하세요.\n",
    "h1[::-1]"
   ]
  },
  {
   "cell_type": "markdown",
   "id": "627ca209",
   "metadata": {},
   "source": [
    "# 문자열 함수\n",
    "* replace(): 값을 찾아서 바꾸는 함수\n",
    "* split(): 공백을 기준으로 자료를 나눠서 **리스트로 변형**\n",
    "* join(): 기준자를 통해서 리스트를 하나의 문자열로 변형\n",
    "* strip(): 문자열 외부의 공백제거, 공백+특수문자 제거"
   ]
  },
  {
   "cell_type": "markdown",
   "id": "d65e6259",
   "metadata": {},
   "source": [
    "## 문자열 바꾸기 replace(찾을 값, 바꿀 값, 반복 획수 -1)\n",
    "* replace 함수는 사용 후 결과는 재할당 해야 함. "
   ]
  },
  {
   "cell_type": "code",
   "execution_count": 16,
   "id": "509e9db5",
   "metadata": {},
   "outputs": [
    {
     "data": {
      "text/plain": [
       "'He!ll!o Python!'"
      ]
     },
     "execution_count": 16,
     "metadata": {},
     "output_type": "execute_result"
    }
   ],
   "source": [
    "h2 = \"He!ll!o Python!\"\n",
    "h2"
   ]
  },
  {
   "cell_type": "code",
   "execution_count": 18,
   "id": "c892a84e",
   "metadata": {},
   "outputs": [
    {
     "data": {
      "text/plain": [
       "'Hello Python'"
      ]
     },
     "execution_count": 18,
     "metadata": {},
     "output_type": "execute_result"
    }
   ],
   "source": [
    "h2.replace(\"!\",\"\")"
   ]
  },
  {
   "cell_type": "code",
   "execution_count": 21,
   "id": "9218035c",
   "metadata": {},
   "outputs": [
    {
     "data": {
      "text/plain": [
       "'Hello Python'"
      ]
     },
     "execution_count": 21,
     "metadata": {},
     "output_type": "execute_result"
    }
   ],
   "source": [
    "h2=h2.replace(\"!\",\"\",2)\n",
    "h2"
   ]
  },
  {
   "cell_type": "code",
   "execution_count": 22,
   "id": "bb4434a9",
   "metadata": {},
   "outputs": [
    {
     "data": {
      "text/plain": [
       "'He!ll!o# Pyt#hon!'"
      ]
     },
     "execution_count": 22,
     "metadata": {},
     "output_type": "execute_result"
    }
   ],
   "source": [
    "h3 = \"He!ll!o# Pyt#hon!\"\n",
    "h3"
   ]
  },
  {
   "cell_type": "markdown",
   "id": "79f62798",
   "metadata": {},
   "source": [
    "## 함수의 체인메서드 함수를 .으로 연결해서 중첩사용"
   ]
  },
  {
   "cell_type": "code",
   "execution_count": 24,
   "id": "4ee8328f",
   "metadata": {},
   "outputs": [
    {
     "data": {
      "text/plain": [
       "'Hello Python!'"
      ]
     },
     "execution_count": 24,
     "metadata": {},
     "output_type": "execute_result"
    }
   ],
   "source": [
    "# h3에서 !와 #을 없애고 마지막 !는 남겨두세요.\n",
    "h3.replace(\"!\",'',2).replace(\"#\",'')"
   ]
  },
  {
   "cell_type": "markdown",
   "id": "e670877f",
   "metadata": {},
   "source": [
    "## split()\n",
    "* 공백을 기준으로 자료를 나눠서 list로 만들어줌\n",
    "* 구분자를 따로 지정해서 사용 가능"
   ]
  },
  {
   "cell_type": "code",
   "execution_count": 25,
   "id": "164dd372",
   "metadata": {},
   "outputs": [
    {
     "data": {
      "text/plain": [
       "['문자열은', '왼쪽부터', '번호를', '매길', '수', '있어요']"
      ]
     },
     "execution_count": 25,
     "metadata": {},
     "output_type": "execute_result"
    }
   ],
   "source": [
    "h4 =\"문자열은 왼쪽부터 번호를 매길 수 있어요\"\n",
    "h4_list=h4.split()\n",
    "h4_list"
   ]
  },
  {
   "cell_type": "code",
   "execution_count": 26,
   "id": "de414894",
   "metadata": {},
   "outputs": [
    {
     "data": {
      "text/plain": [
       "['문자열은,', '왼쪽부터,', '번호를,', '매길,', '수,', '있어요']"
      ]
     },
     "execution_count": 26,
     "metadata": {},
     "output_type": "execute_result"
    }
   ],
   "source": [
    "h5 =\"문자열은, 왼쪽부터, 번호를, 매길, 수, 있어요\"\n",
    "h5_list = h5.split(\",\")\n",
    "h5_list"
   ]
  }
 ],
 "metadata": {
  "kernelspec": {
   "display_name": "Python 3 (ipykernel)",
   "language": "python",
   "name": "python3"
  },
  "language_info": {
   "codemirror_mode": {
    "name": "ipython",
    "version": 3
   },
   "file_extension": ".py",
   "mimetype": "text/x-python",
   "name": "python",
   "nbconvert_exporter": "python",
   "pygments_lexer": "ipython3",
   "version": "3.9.23"
  }
 },
 "nbformat": 4,
 "nbformat_minor": 5
}
