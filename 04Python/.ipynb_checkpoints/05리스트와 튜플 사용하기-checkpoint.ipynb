{
 "cells": [
  {
   "cell_type": "markdown",
   "id": "c07b6ca1",
   "metadata": {},
   "source": [
    "# 리스트와 튜플 사용하기 초급편 "
   ]
  },
  {
   "cell_type": "markdown",
   "id": "85cdec5f",
   "metadata": {},
   "source": [
    "### 리스트 만들기\n",
    "* 대괄호 안에 자료를 나열해서 만듬\n",
    "* 내용이 비어있는 리스트도 생성 가능 []\n",
    "* 숫자로만 된 리스트의 경우 range()와 list 형변환 함수로 생성 가능"
   ]
  },
  {
   "cell_type": "code",
   "execution_count": 4,
   "id": "c69ae409",
   "metadata": {},
   "outputs": [
    {
     "data": {
      "text/plain": [
       "[]"
      ]
     },
     "execution_count": 4,
     "metadata": {},
     "output_type": "execute_result"
    }
   ],
   "source": [
    "l1=[]\n",
    "l1"
   ]
  },
  {
   "cell_type": "code",
   "execution_count": 6,
   "id": "29255c09",
   "metadata": {},
   "outputs": [
    {
     "name": "stdout",
     "output_type": "stream",
     "text": [
      "[] <class 'list'> 0\n"
     ]
    }
   ],
   "source": [
    "print(l1, type(l1), len(l1))"
   ]
  },
  {
   "cell_type": "code",
   "execution_count": 10,
   "id": "e96eedeb",
   "metadata": {},
   "outputs": [],
   "source": [
    "# 대괄호 안에 자료를 나열해서 만들기\n",
    "l2 = [1,2,3,3.5,\"리스트\", (4,5,6), {\"key\":\"value\"}]"
   ]
  },
  {
   "cell_type": "code",
   "execution_count": 11,
   "id": "f7ab3653",
   "metadata": {},
   "outputs": [
    {
     "name": "stdout",
     "output_type": "stream",
     "text": [
      "[1, 2, 3, 3.5, '리스트', (4, 5, 6), {'key': 'value'}] <class 'list'>\n"
     ]
    }
   ],
   "source": [
    "print(l2, type(l2))"
   ]
  },
  {
   "cell_type": "markdown",
   "id": "9c55afa8",
   "metadata": {},
   "source": [
    "# range함수로 리스트 만들기 \n",
    "* range(시작번호, 끝번호+!,step)"
   ]
  },
  {
   "cell_type": "code",
   "execution_count": 98,
   "id": "08e08111",
   "metadata": {},
   "outputs": [
    {
     "ename": "TypeError",
     "evalue": "'range' object is not callable",
     "output_type": "error",
     "traceback": [
      "\u001b[1;31m---------------------------------------------------------------------------\u001b[0m",
      "\u001b[1;31mTypeError\u001b[0m                                 Traceback (most recent call last)",
      "Cell \u001b[1;32mIn[98], line 1\u001b[0m\n\u001b[1;32m----> 1\u001b[0m \u001b[38;5;28;43mlist\u001b[39;49m\u001b[43m(\u001b[49m\u001b[38;5;28;43mrange\u001b[39;49m\u001b[43m(\u001b[49m\u001b[38;5;241;43m1\u001b[39;49m\u001b[43m,\u001b[49m\u001b[38;5;241;43m11\u001b[39;49m\n\u001b[0;32m      2\u001b[0m \u001b[43m          \u001b[49m\n\u001b[0;32m      3\u001b[0m \u001b[43m          \u001b[49m\u001b[43m)\u001b[49m\u001b[43m)\u001b[49m\n",
      "\u001b[1;31mTypeError\u001b[0m: 'range' object is not callable"
     ]
    }
   ],
   "source": [
    "list(range(1,11,1))"
   ]
  },
  {
   "cell_type": "code",
   "execution_count": 92,
   "id": "2a3b0288",
   "metadata": {},
   "outputs": [
    {
     "ename": "TypeError",
     "evalue": "'range' object is not callable",
     "output_type": "error",
     "traceback": [
      "\u001b[1;31m---------------------------------------------------------------------------\u001b[0m",
      "\u001b[1;31mTypeError\u001b[0m                                 Traceback (most recent call last)",
      "Cell \u001b[1;32mIn[92], line 2\u001b[0m\n\u001b[0;32m      1\u001b[0m \u001b[38;5;66;03m# 4의 배수로 리스트 만들기 \u001b[39;00m\n\u001b[1;32m----> 2\u001b[0m \u001b[38;5;28;43mlist\u001b[39;49m\u001b[43m(\u001b[49m\u001b[38;5;28;43mrange\u001b[39;49m\u001b[43m(\u001b[49m\u001b[38;5;241;43m4\u001b[39;49m\u001b[43m,\u001b[49m\u001b[38;5;241;43m10\u001b[39;49m\u001b[43m,\u001b[49m\u001b[38;5;241;43m4\u001b[39;49m\u001b[43m)\u001b[49m\u001b[43m)\u001b[49m\n",
      "\u001b[1;31mTypeError\u001b[0m: 'range' object is not callable"
     ]
    }
   ],
   "source": [
    "# 4의 배수로 리스트 만들기 \n",
    "list(range(4,10,4))"
   ]
  },
  {
   "cell_type": "code",
   "execution_count": 91,
   "id": "e73d0907",
   "metadata": {},
   "outputs": [
    {
     "ename": "TypeError",
     "evalue": "'range' object is not callable",
     "output_type": "error",
     "traceback": [
      "\u001b[1;31m---------------------------------------------------------------------------\u001b[0m",
      "\u001b[1;31mTypeError\u001b[0m                                 Traceback (most recent call last)",
      "Cell \u001b[1;32mIn[91], line 2\u001b[0m\n\u001b[0;32m      1\u001b[0m \u001b[38;5;66;03m#역순으로 리스트 만들기\u001b[39;00m\n\u001b[1;32m----> 2\u001b[0m \u001b[38;5;28;43mlist\u001b[39;49m\u001b[43m(\u001b[49m\u001b[38;5;28;43mrange\u001b[39;49m\u001b[43m(\u001b[49m\u001b[38;5;241;43m10\u001b[39;49m\u001b[43m,\u001b[49m\u001b[38;5;241;43m0\u001b[39;49m\u001b[43m,\u001b[49m\u001b[38;5;241;43m-\u001b[39;49m\u001b[38;5;241;43m2\u001b[39;49m\u001b[43m)\u001b[49m\u001b[43m)\u001b[49m\n",
      "\u001b[1;31mTypeError\u001b[0m: 'range' object is not callable"
     ]
    }
   ],
   "source": [
    "#역순으로 리스트 만들기\n",
    "list(range(10,))"
   ]
  },
  {
   "cell_type": "markdown",
   "id": "2c29b59a",
   "metadata": {},
   "source": [
    "# 리스트 함수"
   ]
  },
  {
   "cell_type": "markdown",
   "id": "00e928a0",
   "metadata": {},
   "source": [
    "# .append() 리스트 마지막에 자료 추가"
   ]
  },
  {
   "cell_type": "code",
   "execution_count": 24,
   "id": "aa080dcd",
   "metadata": {},
   "outputs": [
    {
     "data": {
      "text/plain": [
       "[3.5]"
      ]
     },
     "execution_count": 24,
     "metadata": {},
     "output_type": "execute_result"
    }
   ],
   "source": [
    "l1.append(3.5)\n",
    "l1"
   ]
  },
  {
   "cell_type": "code",
   "execution_count": 45,
   "id": "b938b7d4",
   "metadata": {},
   "outputs": [
    {
     "data": {
      "text/plain": [
       "[[1, 2, 3], [1, 2, 3]]"
      ]
     },
     "execution_count": 45,
     "metadata": {},
     "output_type": "execute_result"
    }
   ],
   "source": [
    "l1.append([1,2,3])\n",
    "l1"
   ]
  },
  {
   "cell_type": "markdown",
   "id": "92394600",
   "metadata": {},
   "source": [
    "# .insert() 특정 위치에 자료 추가\n",
    "* insert(추가할 위치의 인덱스, 추가할 값) "
   ]
  },
  {
   "cell_type": "code",
   "execution_count": 31,
   "id": "47e4b639",
   "metadata": {},
   "outputs": [
    {
     "data": {
      "text/plain": [
       "[3.5, [1, 2, 3], [1, 2, 3], True, True]"
      ]
     },
     "execution_count": 31,
     "metadata": {},
     "output_type": "execute_result"
    }
   ],
   "source": [
    "# l1의 인덱스 3번 Ttrue\n",
    "l1.insert(3, True)\n",
    "l1"
   ]
  },
  {
   "cell_type": "markdown",
   "id": "98c6fdf9",
   "metadata": {},
   "source": [
    "## 리스트의 자료 삭제하기 \n",
    "* del 변수명[인덱스 번호]: 해당 인덱스의 자료 삭제 \n",
    "* pop(): 리스트의 가장 끈자료가 츨력되면서 삭제\n",
    "* remove(값): 리스트의 앞에서부터 입력한 값과 일치하는 값을 찾아서 삭제(정수, 실수 구분X)"
   ]
  },
  {
   "cell_type": "code",
   "execution_count": 34,
   "id": "eeb16b5a",
   "metadata": {},
   "outputs": [
    {
     "data": {
      "text/plain": [
       "[3.5, [1, 2, 3]]"
      ]
     },
     "execution_count": 34,
     "metadata": {},
     "output_type": "execute_result"
    }
   ],
   "source": [
    "del l1[2]\n",
    "l1"
   ]
  },
  {
   "cell_type": "code",
   "execution_count": 40,
   "id": "dedb6a8c",
   "metadata": {},
   "outputs": [
    {
     "data": {
      "text/plain": [
       "[3.0]"
      ]
     },
     "execution_count": 40,
     "metadata": {},
     "output_type": "execute_result"
    }
   ],
   "source": [
    "l1.insert(0,3.0)\n",
    "l1"
   ]
  },
  {
   "cell_type": "code",
   "execution_count": 44,
   "id": "22278ded",
   "metadata": {},
   "outputs": [
    {
     "ename": "ValueError",
     "evalue": "list.remove(x): x not in list",
     "output_type": "error",
     "traceback": [
      "\u001b[1;31m---------------------------------------------------------------------------\u001b[0m",
      "\u001b[1;31mValueError\u001b[0m                                Traceback (most recent call last)",
      "Cell \u001b[1;32mIn[44], line 1\u001b[0m\n\u001b[1;32m----> 1\u001b[0m \u001b[43ml1\u001b[49m\u001b[38;5;241;43m.\u001b[39;49m\u001b[43mremove\u001b[49m\u001b[43m(\u001b[49m\u001b[38;5;241;43m3\u001b[39;49m\u001b[43m)\u001b[49m\n\u001b[0;32m      2\u001b[0m l1\n",
      "\u001b[1;31mValueError\u001b[0m: list.remove(x): x not in list"
     ]
    }
   ],
   "source": [
    "l1.remove(3)\n",
    "l1"
   ]
  },
  {
   "cell_type": "code",
   "execution_count": 46,
   "id": "3a43c98a",
   "metadata": {},
   "outputs": [
    {
     "data": {
      "text/plain": [
       "[[1, 2, 3]]"
      ]
     },
     "execution_count": 46,
     "metadata": {},
     "output_type": "execute_result"
    }
   ],
   "source": [
    "l1.remove([1,2,3])\n",
    "l1"
   ]
  },
  {
   "cell_type": "markdown",
   "id": "4dd065f9",
   "metadata": {},
   "source": [
    "# 리스트 확장하기 .extend()\n",
    "* 리스트에 자료를 추가하되 요소만 추가"
   ]
  },
  {
   "cell_type": "code",
   "execution_count": 53,
   "id": "40eab347",
   "metadata": {},
   "outputs": [],
   "source": [
    "a =[1,2,3]\n",
    "b=[4,5,6]\n"
   ]
  },
  {
   "cell_type": "code",
   "execution_count": 49,
   "id": "2e937df1",
   "metadata": {},
   "outputs": [
    {
     "data": {
      "text/plain": [
       "[1, 2, 3, [4, 5, 6]]"
      ]
     },
     "execution_count": 49,
     "metadata": {},
     "output_type": "execute_result"
    }
   ],
   "source": [
    "# append는 리스트 형태 그래도 리스타에 추가 됨\n",
    "a.append(b)\n",
    "a"
   ]
  },
  {
   "cell_type": "code",
   "execution_count": 50,
   "id": "d89d1b47",
   "metadata": {},
   "outputs": [
    {
     "data": {
      "text/plain": [
       "5"
      ]
     },
     "execution_count": 50,
     "metadata": {},
     "output_type": "execute_result"
    }
   ],
   "source": [
    "a[3][1]"
   ]
  },
  {
   "cell_type": "code",
   "execution_count": 51,
   "id": "9ea030d3",
   "metadata": {},
   "outputs": [
    {
     "data": {
      "text/plain": [
       "[4, 5, 6, 7, 8, 9]"
      ]
     },
     "execution_count": 51,
     "metadata": {},
     "output_type": "execute_result"
    }
   ],
   "source": [
    "# extendㄴ 리스트형태 없이 자료만 추가\n",
    "b.extend([7,8,9])\n",
    "b"
   ]
  },
  {
   "cell_type": "code",
   "execution_count": 52,
   "id": "e70657de",
   "metadata": {},
   "outputs": [
    {
     "data": {
      "text/plain": [
       "8"
      ]
     },
     "execution_count": 52,
     "metadata": {},
     "output_type": "execute_result"
    }
   ],
   "source": [
    "b[4]"
   ]
  },
  {
   "cell_type": "markdown",
   "id": "531ddc54",
   "metadata": {},
   "source": [
    "# list+lrst == extend"
   ]
  },
  {
   "cell_type": "code",
   "execution_count": 54,
   "id": "20f7f1df",
   "metadata": {},
   "outputs": [
    {
     "data": {
      "text/plain": [
       "[1, 2, 3, 4, 5, 6]"
      ]
     },
     "execution_count": 54,
     "metadata": {},
     "output_type": "execute_result"
    }
   ],
   "source": [
    "a+b"
   ]
  },
  {
   "cell_type": "markdown",
   "id": "55391100",
   "metadata": {},
   "source": [
    "## 리스트 안에서 원하는 값의 안덱스 찾기\n",
    "* in, not in :리스트 안에서 원하는 값이 있는지 확인 True/Fales\n",
    "* 원하는 값이 있는 위치를 찾을 때 .index(찾을 값, 시작 인덱스) - 가장 앞의 인덱스만 반환\n",
    "* 동일하는 값이 여러개 있는 경우 가장 앞의 인덱스 반환\n",
    "* 2번째 이상의 자료를 찾으려면 옵션에 시작 인덱스를 지어"
   ]
  },
  {
   "cell_type": "code",
   "execution_count": 94,
   "id": "c251ca33",
   "metadata": {},
   "outputs": [
    {
     "data": {
      "text/plain": [
       "[1, 2, 3, [3, 4, 5, 6, 7, 8, 9], [4, 5, 6, 7, 8, 9], 3, 4, 5, 6, 7, 8]"
      ]
     },
     "execution_count": 94,
     "metadata": {},
     "output_type": "execute_result"
    }
   ],
   "source": [
    "a = [1,2,3,[3,4,5,6,7,8,9], [4,5,6,7,8,9], 3,4,5,6,7,8]\n",
    "a"
   ]
  },
  {
   "cell_type": "code",
   "execution_count": 56,
   "id": "8a2f33f7",
   "metadata": {},
   "outputs": [
    {
     "data": {
      "text/plain": [
       "True"
      ]
     },
     "execution_count": 56,
     "metadata": {},
     "output_type": "execute_result"
    }
   ],
   "source": [
    " 4 in a"
   ]
  },
  {
   "cell_type": "code",
   "execution_count": 58,
   "id": "f7d8de8f",
   "metadata": {},
   "outputs": [
    {
     "data": {
      "text/plain": [
       "[1, 2, 3, [3, 4, 5, 6, 7, 8, 9], [4, 5, 6, 7, 8, 9], 3, 4, 5, 6, 7, 8]"
      ]
     },
     "execution_count": 58,
     "metadata": {},
     "output_type": "execute_result"
    }
   ],
   "source": [
    "a.index(4)\n",
    "a"
   ]
  },
  {
   "cell_type": "code",
   "execution_count": 59,
   "id": "5fb2aebb",
   "metadata": {},
   "outputs": [
    {
     "data": {
      "text/plain": [
       "[1, 2, 3, [3, 4, 5, 6, 7, 8, 9], [4, 5, 6, 7, 8, 9], 3, 5, 6, 7, 8]"
      ]
     },
     "execution_count": 59,
     "metadata": {},
     "output_type": "execute_result"
    }
   ],
   "source": [
    "a.remove(4)\n",
    "a"
   ]
  },
  {
   "cell_type": "code",
   "execution_count": 60,
   "id": "c9ee1402",
   "metadata": {},
   "outputs": [
    {
     "data": {
      "text/plain": [
       "False"
      ]
     },
     "execution_count": 60,
     "metadata": {},
     "output_type": "execute_result"
    }
   ],
   "source": [
    "4 in a"
   ]
  },
  {
   "cell_type": "code",
   "execution_count": 61,
   "id": "12a537e5",
   "metadata": {},
   "outputs": [
    {
     "data": {
      "text/plain": [
       "True"
      ]
     },
     "execution_count": 61,
     "metadata": {},
     "output_type": "execute_result"
    }
   ],
   "source": [
    "4 in a[3]"
   ]
  },
  {
   "cell_type": "code",
   "execution_count": 62,
   "id": "14a2f696",
   "metadata": {},
   "outputs": [
    {
     "data": {
      "text/plain": [
       "5"
      ]
     },
     "execution_count": 62,
     "metadata": {},
     "output_type": "execute_result"
    }
   ],
   "source": [
    "a.index(3,3)"
   ]
  },
  {
   "cell_type": "markdown",
   "id": "9be51da5",
   "metadata": {},
   "source": [
    "## 리스트 안에서 특정 값의 개수 구하기 .count()"
   ]
  },
  {
   "cell_type": "code",
   "execution_count": 63,
   "id": "96d024ed",
   "metadata": {},
   "outputs": [
    {
     "data": {
      "text/plain": [
       "[1, 2, 3, [3, 4, 5, 6, 7, 8, 9], [4, 5, 6, 7, 8, 9], 3, 5, 6, 7, 8]"
      ]
     },
     "execution_count": 63,
     "metadata": {},
     "output_type": "execute_result"
    }
   ],
   "source": [
    "a"
   ]
  },
  {
   "cell_type": "code",
   "execution_count": 65,
   "id": "89ba2044",
   "metadata": {},
   "outputs": [
    {
     "data": {
      "text/plain": [
       "1"
      ]
     },
     "execution_count": 65,
     "metadata": {},
     "output_type": "execute_result"
    }
   ],
   "source": [
    "a[3].count(3)"
   ]
  },
  {
   "cell_type": "markdown",
   "id": "501b832a",
   "metadata": {},
   "source": [
    "# 리스트 순서 뒤집기 .reverse()\n",
    "* 실행 즉시 원본 데이터 변경\n",
    "* reversed(리스트): 재할당을 해야지만 저장\n",
    "* 리스트[::-1]: 역인덱스 "
   ]
  },
  {
   "cell_type": "code",
   "execution_count": 85,
   "id": "07c035fc",
   "metadata": {},
   "outputs": [
    {
     "ename": "AttributeError",
     "evalue": "'list_reverseiterator' object has no attribute 'reverse'",
     "output_type": "error",
     "traceback": [
      "\u001b[1;31m---------------------------------------------------------------------------\u001b[0m",
      "\u001b[1;31mAttributeError\u001b[0m                            Traceback (most recent call last)",
      "Cell \u001b[1;32mIn[85], line 1\u001b[0m\n\u001b[1;32m----> 1\u001b[0m \u001b[43ma\u001b[49m\u001b[38;5;241;43m.\u001b[39;49m\u001b[43mreverse\u001b[49m()\n",
      "\u001b[1;31mAttributeError\u001b[0m: 'list_reverseiterator' object has no attribute 'reverse'"
     ]
    }
   ],
   "source": [
    "a.reverse()"
   ]
  },
  {
   "cell_type": "code",
   "execution_count": 67,
   "id": "835c712c",
   "metadata": {},
   "outputs": [
    {
     "data": {
      "text/plain": [
       "[8, 7, 6, 5, 3, [4, 5, 6, 7, 8, 9], [3, 4, 5, 6, 7, 8, 9], 3, 2, 1]"
      ]
     },
     "execution_count": 67,
     "metadata": {},
     "output_type": "execute_result"
    }
   ],
   "source": [
    "a"
   ]
  },
  {
   "cell_type": "code",
   "execution_count": 69,
   "id": "edc252c5",
   "metadata": {},
   "outputs": [
    {
     "data": {
      "text/plain": [
       "[1, 2, 3, [3, 4, 5, 6, 7, 8, 9], [4, 5, 6, 7, 8, 9], 3, 5, 6, 7, 8]"
      ]
     },
     "execution_count": 69,
     "metadata": {},
     "output_type": "execute_result"
    }
   ],
   "source": [
    "a[::-1]"
   ]
  },
  {
   "cell_type": "code",
   "execution_count": 108,
   "id": "67e5426c",
   "metadata": {},
   "outputs": [
    {
     "ename": "TypeError",
     "evalue": "'range' object is not callable",
     "output_type": "error",
     "traceback": [
      "\u001b[1;31m---------------------------------------------------------------------------\u001b[0m",
      "\u001b[1;31mTypeError\u001b[0m                                 Traceback (most recent call last)",
      "Cell \u001b[1;32mIn[108], line 1\u001b[0m\n\u001b[1;32m----> 1\u001b[0m \u001b[38;5;28;43mlist\u001b[39;49m\u001b[43m(\u001b[49m\u001b[38;5;28;43mreversed\u001b[39;49m\u001b[43m(\u001b[49m\u001b[43ma\u001b[49m\u001b[43m)\u001b[49m\u001b[43m)\u001b[49m\n",
      "\u001b[1;31mTypeError\u001b[0m: 'range' object is not callable"
     ]
    }
   ],
   "source": [
    "list(reversed(a))"
   ]
  },
  {
   "cell_type": "code",
   "execution_count": null,
   "id": "f2bdfd09",
   "metadata": {},
   "outputs": [],
   "source": []
  },
  {
   "cell_type": "code",
   "execution_count": null,
   "id": "86d844f0",
   "metadata": {},
   "outputs": [],
   "source": []
  },
  {
   "cell_type": "code",
   "execution_count": null,
   "id": "752c7f19",
   "metadata": {},
   "outputs": [],
   "source": []
  },
  {
   "cell_type": "code",
   "execution_count": null,
   "id": "a335259a",
   "metadata": {},
   "outputs": [],
   "source": []
  },
  {
   "cell_type": "code",
   "execution_count": null,
   "id": "a474d0d8",
   "metadata": {},
   "outputs": [],
   "source": []
  },
  {
   "cell_type": "code",
   "execution_count": null,
   "id": "4e593b1b",
   "metadata": {},
   "outputs": [],
   "source": []
  },
  {
   "cell_type": "code",
   "execution_count": null,
   "id": "4ba900af",
   "metadata": {},
   "outputs": [],
   "source": []
  }
 ],
 "metadata": {
  "kernelspec": {
   "display_name": "Python 3 (ipykernel)",
   "language": "python",
   "name": "python3"
  },
  "language_info": {
   "codemirror_mode": {
    "name": "ipython",
    "version": 3
   },
   "file_extension": ".py",
   "mimetype": "text/x-python",
   "name": "python",
   "nbconvert_exporter": "python",
   "pygments_lexer": "ipython3",
   "version": "3.9.23"
  }
 },
 "nbformat": 4,
 "nbformat_minor": 5
}
