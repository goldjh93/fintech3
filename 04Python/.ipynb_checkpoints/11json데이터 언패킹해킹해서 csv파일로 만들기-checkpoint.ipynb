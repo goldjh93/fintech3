{
 "cells": [
  {
   "cell_type": "markdown",
   "id": "e85a99a7",
   "metadata": {},
   "source": [
    "# 국민은행 앱 사용자 리뷰 데이토 JSON파일 읽어와서 csv파일로 변환하기"
   ]
  },
  {
   "cell_type": "code",
   "execution_count": 2,
   "id": "dd54c4c8",
   "metadata": {},
   "outputs": [],
   "source": [
    "with open (\"./com_kbstar_kbbank.json\", encoding='utf-8') as file:\n",
    "    data = file.read()"
   ]
  },
  {
   "cell_type": "code",
   "execution_count": 4,
   "id": "be8f1b90",
   "metadata": {},
   "outputs": [
    {
     "name": "stdout",
     "output_type": "stream",
     "text": [
      "<class 'str'>\n"
     ]
    }
   ],
   "source": [
    "print(type(data))"
   ]
  },
  {
   "cell_type": "code",
   "execution_count": 5,
   "id": "f1eaa3e4",
   "metadata": {},
   "outputs": [],
   "source": [
    "import json"
   ]
  },
  {
   "cell_type": "code",
   "execution_count": 6,
   "id": "4fefec39",
   "metadata": {},
   "outputs": [
    {
     "name": "stdout",
     "output_type": "stream",
     "text": [
      "2223 <class 'list'>\n"
     ]
    }
   ],
   "source": [
    "reviews = json.loads(data)\n",
    "print(len(reviews), type(reviews))"
   ]
  },
  {
   "cell_type": "code",
   "execution_count": 8,
   "id": "70ab3bb9",
   "metadata": {},
   "outputs": [
    {
     "data": {
      "text/plain": [
       "dict_keys(['사용자', '별점', '리뷰', '날짜', '개발자 응답'])"
      ]
     },
     "execution_count": 8,
     "metadata": {},
     "output_type": "execute_result"
    }
   ],
   "source": [
    "reviews[0].keys()"
   ]
  },
  {
   "cell_type": "markdown",
   "id": "f5adbb44",
   "metadata": {},
   "source": [
    "# 리뷰데이터를 key : [] 형태로 변환해서 정리\n",
    "* result 변수에 담기\n",
    "* import pandas pd\n",
    "* df = pd.DataFrame(result)\n",
    "* 별점 int\n",
    "* 특수 문자 제거"
   ]
  },
  {
   "cell_type": "code",
   "execution_count": 102,
   "id": "0b30085a",
   "metadata": {
    "scrolled": false
   },
   "outputs": [
    {
     "name": "stdout",
     "output_type": "stream",
     "text": [
      "사용자\n",
      "별점\n",
      "리뷰\n",
      "날짜\n",
      "개발자 응답\n"
     ]
    }
   ],
   "source": [
    "result = {}\n",
    "for key in reviews[0]:\n",
    "    print(key)\n",
    "    temp =[]\n",
    "    for dict in reviews[:]:\n",
    "        temp.append(dict[key])\n",
    "    result[key]=temp  \n",
    "# result"
   ]
  },
  {
   "cell_type": "code",
   "execution_count": 103,
   "id": "6d7b2cbf",
   "metadata": {},
   "outputs": [],
   "source": [
    "result2={}\n",
    "for dicts in reviews[:]:\n",
    "    for key, value in dicts.items():\n",
    "        result2.setdefault(key, []).append(value)\n",
    "# print(result2)"
   ]
  },
  {
   "cell_type": "markdown",
   "id": "4b54e9cb",
   "metadata": {},
   "source": [
    "* 별점을 숫자로 변환해서 저장하기 "
   ]
  },
  {
   "cell_type": "code",
   "execution_count": 104,
   "id": "4b1cc308",
   "metadata": {},
   "outputs": [],
   "source": [
    "result2={}\n",
    "for dicts in reviews[:]:\n",
    "    for key, value in dicts.items():\n",
    "        if key == \"별점\":\n",
    "#             print(key, value)\n",
    "            result2.setdefault(key, []).append(int(value))\n",
    "        result2.setdefault(key, []).append(value)\n",
    "# print(result2)"
   ]
  },
  {
   "cell_type": "markdown",
   "id": "479833e8",
   "metadata": {},
   "source": [
    "* 별점 이외의 자료는 특수문자 제거하기 \n",
    "* value 가 None인 경우 문자열 함수를 사용하면 Nonetype 에러 발생\n",
    "* 해결책\n",
    "    * None을 다른 값으로 변경(해당 데이터 타입 ex)문자열)\n",
    "    * value를 모두 str() 처리"
   ]
  },
  {
   "cell_type": "code",
   "execution_count": 110,
   "id": "96c404f2",
   "metadata": {
    "scrolled": false
   },
   "outputs": [],
   "source": [
    "result2={}\n",
    "for dicts in reviews[:]:\n",
    "    for key, value in dicts.items():\n",
    "        if value == None:\n",
    "            value='없음'\n",
    "        if key == \"별점\":\n",
    "            result2.setdefault(key, []).append(int(value))\n",
    "        else:\n",
    "            cleaned_value = re.sub(r'[^가-힣a-zA-Z0-9]',' ',value).replace('ㅋ',' ').replace('ㅎ',' ').replace('ㅠ',' ').replace('ㅜ',' ').replace('  ',' ').replace('   ',' ').strip()\n",
    "        result2.setdefault(key, []).append(cleaned_value)\n",
    "# result2"
   ]
  },
  {
   "cell_type": "markdown",
   "id": "8ccf2875",
   "metadata": {},
   "source": [
    "* 정규 표햔식을 이용해서 특수문자 제거"
   ]
  },
  {
   "cell_type": "code",
   "execution_count": 112,
   "id": "b1893253",
   "metadata": {},
   "outputs": [],
   "source": [
    "# value를 str()을 이용해 문자열로 처리 \n",
    "result2={}\n",
    "for dicts in reviews[:]:\n",
    "    for key, value in dicts.items():\n",
    "        if key == \"별점\":\n",
    "            result2.setdefault(key, []).append(int(value))\n",
    "        else:\n",
    "            cleaned_value = re.sub(r'[^가-힣a-zA-Z0-9]',' ',str(value)).replace('ㅋ',' ').replace('ㅎ',' ').replace('ㅠ',' ').replace('ㅜ',' ').replace('  ',' ').replace('   ',' ').strip()\n",
    "        result2.setdefault(key, []).append(cleaned_value)\n",
    "# result2"
   ]
  },
  {
   "cell_type": "code",
   "execution_count": 116,
   "id": "3ee5c60a",
   "metadata": {},
   "outputs": [
    {
     "name": "stdout",
     "output_type": "stream",
     "text": [
      "<class 'pandas.core.frame.DataFrame'>\n",
      "RangeIndex: 2223 entries, 0 to 2222\n",
      "Data columns (total 5 columns):\n",
      " #   Column  Non-Null Count  Dtype \n",
      "---  ------  --------------  ----- \n",
      " 0   사용자     2223 non-null   object\n",
      " 1   별점      2223 non-null   object\n",
      " 2   리뷰      2223 non-null   object\n",
      " 3   날짜      2223 non-null   object\n",
      " 4   개발자 응답  1912 non-null   object\n",
      "dtypes: object(5)\n",
      "memory usage: 87.0+ KB\n"
     ]
    }
   ],
   "source": [
    "import pandas as pd\n",
    "df = pd.DataFrame(result)\n",
    "df.info()"
   ]
  },
  {
   "cell_type": "code",
   "execution_count": 34,
   "id": "edef6fe2",
   "metadata": {},
   "outputs": [],
   "source": [
    "Name = []\n",
    "rates = []\n",
    "rv = []\n",
    "date = []\n",
    "resp = []"
   ]
  },
  {
   "cell_type": "code",
   "execution_count": 35,
   "id": "9d378a72",
   "metadata": {},
   "outputs": [],
   "source": [
    "for i in range(len(reviews)):\n",
    "    Name.append(reviews[i]['사용자'])\n",
    "    rates.append(int(reviews[i]['별점']))\n",
    "    rv.append(reviews[i]['리뷰'])\n",
    "    date.append(reviews[i]['날짜'])\n",
    "    resp.append(reviews[i]['개발자 응답'])"
   ]
  },
  {
   "cell_type": "code",
   "execution_count": 119,
   "id": "f90bb8a3",
   "metadata": {},
   "outputs": [],
   "source": [
    "# print(Name)\n",
    "# print(rates)\n",
    "# print(rv)\n",
    "# print(date)\n",
    "# print(resp)"
   ]
  },
  {
   "cell_type": "code",
   "execution_count": 37,
   "id": "50707eeb",
   "metadata": {},
   "outputs": [
    {
     "data": {
      "text/plain": [
       "int"
      ]
     },
     "execution_count": 37,
     "metadata": {},
     "output_type": "execute_result"
    }
   ],
   "source": [
    "type(rates[0])"
   ]
  },
  {
   "cell_type": "code",
   "execution_count": 38,
   "id": "4b8c114e",
   "metadata": {},
   "outputs": [
    {
     "name": "stdout",
     "output_type": "stream",
     "text": [
      "리브와 리브넥스트에서 사용했던 ATM입금 기능이 있으면 좋겠습니다. 현금이나 실물 카드를 가지고 다니지 않게 되는 편리한 금융생활을 누릴 수 있었는데 리브넥스트의 종료로 더 이상 모바일에서는 ATM에서 현금 입금을 할 수 없게 됐습니다. 이 기능을 없애게 된 이유가 있나요? 출금 기능만 남았던데 입금 기능을 만들어주시면 좋겠습니다.\n"
     ]
    }
   ],
   "source": [
    "print(rv[0])"
   ]
  },
  {
   "cell_type": "code",
   "execution_count": 22,
   "id": "23a3e498",
   "metadata": {},
   "outputs": [
    {
     "name": "stdout",
     "output_type": "stream",
     "text": [
      "고객님, 안녕하세요. 현재 KB스타뱅킹에서는 ATM입금 서비스를 제공하고 있지 않으나, 고객님께서 편리하게 이용하셨던 점이 충분히 이해되어 ATM입금 기능 도입 여부에 대해 검토해 보도록 하겠습니다. 다만, 새로운 서비스를 도입하기 위해서는 타행 시장조사, 요건 분석 및 개발 범위 등 검토되어야할 사항이 많아 다소 많은 시일이 소요될 수 있는 점 양해 부탁드립니다. 마지막으로 당행 자동화기기에서는 통장/카드없이 무통장 입금 서비스를 이용하실 수 있는 방법도 있으니 거래에 참고 부탁드리겠습니다.(*이용한도: 1회 50만원, 1일 100만원) 더욱 편리한 서비스를 제공하는 KB스타뱅킹이 되겠습니다. 감사합니다.\n"
     ]
    }
   ],
   "source": [
    "print(resp[0])"
   ]
  },
  {
   "cell_type": "code",
   "execution_count": 69,
   "id": "646a6c4a",
   "metadata": {},
   "outputs": [],
   "source": [
    "import string\n",
    "import re\n",
    "new_rv=[]\n",
    "new_resp=[]"
   ]
  },
  {
   "cell_type": "code",
   "execution_count": 68,
   "id": "9c8d916d",
   "metadata": {},
   "outputs": [
    {
     "data": {
      "text/plain": [
       "2223"
      ]
     },
     "execution_count": 68,
     "metadata": {},
     "output_type": "execute_result"
    }
   ],
   "source": [
    "len(rv)"
   ]
  },
  {
   "cell_type": "code",
   "execution_count": 30,
   "id": "7f5b1237",
   "metadata": {},
   "outputs": [
    {
     "data": {
      "text/plain": [
       "'리브와 리브넥스트에서 사용했던 ATM입금 기능이 있으면 좋겠습니다 현금이나 실물 카드를 가지고 다니지 않게 되는 편리한 금융생활을 누릴 수 있었는데 리브넥스트의 종료로 더 이상 모바일에서는 ATM에서 현금 입금을 할 수 없게 됐습니다 이 기능을 없애게 된 이유가 있나요 출금 기능만 남았던데 입금 기능을 만들어주시면 좋겠습니다'"
      ]
     },
     "execution_count": 30,
     "metadata": {},
     "output_type": "execute_result"
    }
   ],
   "source": [
    "rv[0].translate(str.maketrans('','',string.punctuation)).replace(\"  \",\" \").strip()"
   ]
  },
  {
   "cell_type": "code",
   "execution_count": 40,
   "id": "1d6f0cd3",
   "metadata": {},
   "outputs": [
    {
     "data": {
      "text/plain": [
       "'고객님 안녕하세요 현재 KB스타뱅킹에서는 ATM입금 서비스를 제공하고 있지 않으나 고객님께서 편리하게 이용하셨던 점이 충분히 이해되어 ATM입금 기능 도입 여부에 대해 검토해 보도록 하겠습니다 다만 새로운 서비스를 도입하기 위해서는 타행 시장조사 요건 분석 및 개발 범위 등 검토되어야할 사항이 많아 다소 많은 시일이 소요될 수 있는 점 양해 부탁드립니다 마지막으로 당행 자동화기기에서는 통장카드없이 무통장 입금 서비스를 이용하실 수 있는 방법도 있으니 거래에 참고 부탁드리겠습니다이용한도 1회 50만원 1일 100만원 더욱 편리한 서비스를 제공하는 KB스타뱅킹이 되겠습니다 감사합니다'"
      ]
     },
     "execution_count": 40,
     "metadata": {},
     "output_type": "execute_result"
    }
   ],
   "source": [
    "resp[0].translate(str.maketrans('','',string.punctuation)).replace(\"  \",\" \").strip()"
   ]
  },
  {
   "cell_type": "code",
   "execution_count": 117,
   "id": "3948cfd6",
   "metadata": {},
   "outputs": [],
   "source": [
    "for n in rv:\n",
    "#     n = n.translate(str.maketrans('','',string.punctuation)).replace(\"  \",\" \").replace(\"ㅎ\",\" \").replace(\"ㅋ\",\" \").replace(\"ㅡ\",\" \").replace(\"ㅜ\",\" \").replace(\"ㅠ\",\" \").strip()\n",
    "    n=re.sub(r'[^가-힣a-zA-Z0-9]',' ',n).replace('  ',' ').replace('   ',' ').strip()\n",
    "    new_rv.append(n)\n",
    "# new_rv"
   ]
  },
  {
   "cell_type": "code",
   "execution_count": 71,
   "id": "393d3adf",
   "metadata": {},
   "outputs": [
    {
     "data": {
      "text/plain": [
       "2223"
      ]
     },
     "execution_count": 71,
     "metadata": {},
     "output_type": "execute_result"
    }
   ],
   "source": [
    "len(new_rv)"
   ]
  },
  {
   "cell_type": "code",
   "execution_count": 118,
   "id": "86486889",
   "metadata": {},
   "outputs": [],
   "source": [
    "for n in resp:\n",
    "#     n = n.translate(str.maketrans('','',string.punctuation)).replace(\"  \",\" \").replace(\"ㅎ\",\" \").replace(\"ㅋ\",\" \").replace(\"ㅡ\",\" \").replace(\"ㅜ\",\" \").replace(\"ㅠ\",\" \").strip()\n",
    "    n=re.sub(r'[^가-힣a-zA-Z0-9]',' ',str(n)).replace('  ',' ').replace('   ',' ').strip()\n",
    "    new_resp.append(n)\n",
    "# new_resp"
   ]
  },
  {
   "cell_type": "code",
   "execution_count": 79,
   "id": "9539e145",
   "metadata": {
    "scrolled": false
   },
   "outputs": [],
   "source": [
    "result = dict(Name=Name, rates=rates, rv=new_rv, date=date, resp=new_resp,\n",
    ")\n",
    "# result"
   ]
  },
  {
   "cell_type": "code",
   "execution_count": 80,
   "id": "c9cd30e0",
   "metadata": {},
   "outputs": [
    {
     "data": {
      "text/plain": [
       "2223"
      ]
     },
     "execution_count": 80,
     "metadata": {},
     "output_type": "execute_result"
    }
   ],
   "source": [
    "len(result['resp'])"
   ]
  },
  {
   "cell_type": "code",
   "execution_count": 57,
   "id": "81c2d858",
   "metadata": {},
   "outputs": [
    {
     "name": "stdout",
     "output_type": "stream",
     "text": [
      "Requirement already satisfied: pandas in c:\\users\\admin\\miniforge3\\envs\\fintech\\lib\\site-packages (2.3.3)\n",
      "Requirement already satisfied: numpy>=1.22.4 in c:\\users\\admin\\miniforge3\\envs\\fintech\\lib\\site-packages (from pandas) (2.0.2)\n",
      "Requirement already satisfied: python-dateutil>=2.8.2 in c:\\users\\admin\\miniforge3\\envs\\fintech\\lib\\site-packages (from pandas) (2.9.0.post0)\n",
      "Requirement already satisfied: pytz>=2020.1 in c:\\users\\admin\\miniforge3\\envs\\fintech\\lib\\site-packages (from pandas) (2025.2)\n",
      "Requirement already satisfied: tzdata>=2022.7 in c:\\users\\admin\\miniforge3\\envs\\fintech\\lib\\site-packages (from pandas) (2025.2)\n",
      "Requirement already satisfied: six>=1.5 in c:\\users\\admin\\miniforge3\\envs\\fintech\\lib\\site-packages (from python-dateutil>=2.8.2->pandas) (1.17.0)\n"
     ]
    }
   ],
   "source": [
    "!pip install pandas"
   ]
  },
  {
   "cell_type": "code",
   "execution_count": 58,
   "id": "da570949",
   "metadata": {},
   "outputs": [],
   "source": [
    "import pandas as pd"
   ]
  },
  {
   "cell_type": "code",
   "execution_count": 101,
   "id": "b344e514",
   "metadata": {
    "scrolled": true
   },
   "outputs": [
    {
     "data": {
      "text/html": [
       "<div>\n",
       "<style scoped>\n",
       "    .dataframe tbody tr th:only-of-type {\n",
       "        vertical-align: middle;\n",
       "    }\n",
       "\n",
       "    .dataframe tbody tr th {\n",
       "        vertical-align: top;\n",
       "    }\n",
       "\n",
       "    .dataframe thead th {\n",
       "        text-align: right;\n",
       "    }\n",
       "</style>\n",
       "<table border=\"1\" class=\"dataframe\">\n",
       "  <thead>\n",
       "    <tr style=\"text-align: right;\">\n",
       "      <th></th>\n",
       "      <th>사용자</th>\n",
       "      <th>별점</th>\n",
       "      <th>리뷰</th>\n",
       "      <th>날짜</th>\n",
       "      <th>개발자 응답</th>\n",
       "    </tr>\n",
       "  </thead>\n",
       "  <tbody>\n",
       "    <tr>\n",
       "      <th>0</th>\n",
       "      <td>False</td>\n",
       "      <td>False</td>\n",
       "      <td>False</td>\n",
       "      <td>False</td>\n",
       "      <td>False</td>\n",
       "    </tr>\n",
       "    <tr>\n",
       "      <th>1</th>\n",
       "      <td>False</td>\n",
       "      <td>False</td>\n",
       "      <td>False</td>\n",
       "      <td>False</td>\n",
       "      <td>False</td>\n",
       "    </tr>\n",
       "    <tr>\n",
       "      <th>2</th>\n",
       "      <td>False</td>\n",
       "      <td>False</td>\n",
       "      <td>False</td>\n",
       "      <td>False</td>\n",
       "      <td>False</td>\n",
       "    </tr>\n",
       "    <tr>\n",
       "      <th>3</th>\n",
       "      <td>False</td>\n",
       "      <td>False</td>\n",
       "      <td>False</td>\n",
       "      <td>False</td>\n",
       "      <td>False</td>\n",
       "    </tr>\n",
       "    <tr>\n",
       "      <th>4</th>\n",
       "      <td>False</td>\n",
       "      <td>False</td>\n",
       "      <td>False</td>\n",
       "      <td>False</td>\n",
       "      <td>False</td>\n",
       "    </tr>\n",
       "    <tr>\n",
       "      <th>...</th>\n",
       "      <td>...</td>\n",
       "      <td>...</td>\n",
       "      <td>...</td>\n",
       "      <td>...</td>\n",
       "      <td>...</td>\n",
       "    </tr>\n",
       "    <tr>\n",
       "      <th>2218</th>\n",
       "      <td>False</td>\n",
       "      <td>False</td>\n",
       "      <td>False</td>\n",
       "      <td>False</td>\n",
       "      <td>False</td>\n",
       "    </tr>\n",
       "    <tr>\n",
       "      <th>2219</th>\n",
       "      <td>False</td>\n",
       "      <td>False</td>\n",
       "      <td>False</td>\n",
       "      <td>False</td>\n",
       "      <td>False</td>\n",
       "    </tr>\n",
       "    <tr>\n",
       "      <th>2220</th>\n",
       "      <td>False</td>\n",
       "      <td>False</td>\n",
       "      <td>False</td>\n",
       "      <td>False</td>\n",
       "      <td>False</td>\n",
       "    </tr>\n",
       "    <tr>\n",
       "      <th>2221</th>\n",
       "      <td>False</td>\n",
       "      <td>False</td>\n",
       "      <td>False</td>\n",
       "      <td>False</td>\n",
       "      <td>False</td>\n",
       "    </tr>\n",
       "    <tr>\n",
       "      <th>2222</th>\n",
       "      <td>False</td>\n",
       "      <td>False</td>\n",
       "      <td>False</td>\n",
       "      <td>False</td>\n",
       "      <td>False</td>\n",
       "    </tr>\n",
       "  </tbody>\n",
       "</table>\n",
       "<p>2223 rows × 5 columns</p>\n",
       "</div>"
      ],
      "text/plain": [
       "        사용자     별점     리뷰     날짜  개발자 응답\n",
       "0     False  False  False  False   False\n",
       "1     False  False  False  False   False\n",
       "2     False  False  False  False   False\n",
       "3     False  False  False  False   False\n",
       "4     False  False  False  False   False\n",
       "...     ...    ...    ...    ...     ...\n",
       "2218  False  False  False  False   False\n",
       "2219  False  False  False  False   False\n",
       "2220  False  False  False  False   False\n",
       "2221  False  False  False  False   False\n",
       "2222  False  False  False  False   False\n",
       "\n",
       "[2223 rows x 5 columns]"
      ]
     },
     "execution_count": 101,
     "metadata": {},
     "output_type": "execute_result"
    }
   ],
   "source": [
    "df = pd.DataFrame(result)\n",
    "df.isna()"
   ]
  },
  {
   "cell_type": "markdown",
   "id": "cc902d1a",
   "metadata": {},
   "source": [
    "# enumerate로 오류 찾기"
   ]
  },
  {
   "cell_type": "code",
   "execution_count": 188,
   "id": "7e8a66d2",
   "metadata": {},
   "outputs": [
    {
     "name": "stdout",
     "output_type": "stream",
     "text": [
      "0 {'사용자': '박성진 (홀리진)', '별점': '4', '리뷰': '리브와 리브넥스트에서 사용했던 ATM입금 기능이 있으면 좋겠습니다. 현금이나 실물 카드를 가지고 다니지 않게 되는 편리한 금융생활을 누릴 수 있었는데 리브넥스트의 종료로 더 이상 모바일에서는 ATM에서 현금 입금을 할 수 없게 됐습니다. 이 기능을 없애게 된 이유가 있나요? 출금 기능만 남았던데 입금 기능을 만들어주시면 좋겠습니다.', '날짜': '2025년 3월 2일', '개발자 응답': '고객님, 안녕하세요. 현재 KB스타뱅킹에서는 ATM입금 서비스를 제공하고 있지 않으나, 고객님께서 편리하게 이용하셨던 점이 충분히 이해되어 ATM입금 기능 도입 여부에 대해 검토해 보도록 하겠습니다. 다만, 새로운 서비스를 도입하기 위해서는 타행 시장조사, 요건 분석 및 개발 범위 등 검토되어야할 사항이 많아 다소 많은 시일이 소요될 수 있는 점 양해 부탁드립니다. 마지막으로 당행 자동화기기에서는 통장/카드없이 무통장 입금 서비스를 이용하실 수 있는 방법도 있으니 거래에 참고 부탁드리겠습니다.(*이용한도: 1회 50만원, 1일 100만원) 더욱 편리한 서비스를 제공하는 KB스타뱅킹이 되겠습니다. 감사합니다.'}\n",
      "1 {'사용자': '윤태경', '별점': '5', '리뷰': 'KB스타뱅킹 입출금계좌를 가입한 후, 전반적으로 매우 만족스러운 경험을 했습니다. 가입 과정은 간편하고 빠르게 진행되었으며, 온라인으로 모든 절차를 처리할 수 있어 편리했습니다. 특히, 모바일 앱의 사용자 인터페이스가 직관적이어서 처음 사용하는 사람도 쉽게 이해할 수 있었습니다. 계좌 개설 후에는 다양한 금융 서비스가 제공되어 더욱 유용했습니다. 특히 실시간 거래 내역 확인과 간편한 송금 서비스가 매우 마음에 들었습니다. 또한, 다양한 금융 상품에 쉽게 접근할 수 있어 자산 관리를 할 때 큰 도움이 되었습니다. 고객 서비스도 만족스러웠습니다. 문의사항이 있을 때 신속하게 응대해 주었고, 필요한 정보도 쉽게 얻을 수 있었습니다. 보안 측면에서도 안심할 수 있었고, 다양한 인증 절차가 있어 개인 정보 보호에 대한 걱정이 줄어들었습니다. 종합적으로 KB스타뱅킹 입출금계좌는 편리함과 효율성을 모두 갖춘 서비스로, 앞으로도 지속적으로 이용할 계획입니다.', '날짜': '2025년 1월 20일', '개발자 응답': \"고객님 안녕하세요! KB스타뱅킹을 이용해 주셔서 진심으로 감사드립니다. KB스타뱅킹은 고객님께서 항상 편리하게 사용하실 수 있도록 최선을 다하겠습니다! 앱 이용 중 개선사항이 있으시다면, [네이버 포스트 'KB스타뱅킹 앱리뷰' 고객의 소리] 또는 고객센터(1588-9999>0>3번)로 언제든 편하게 말씀해 주시기 바랍니다♥ 감사합니다!\"}\n"
     ]
    }
   ],
   "source": [
    "result2={}\n",
    "for index, dicts in enumerate(reviews[:2]):\n",
    "    print(index,dicts)\n",
    "    for key, value in dicts.items():\n",
    "#         if value == None:\n",
    "#             value='없음'\n",
    "        if key == \"별점\":\n",
    "            result2.setdefault(key, []).append(int(value))\n",
    "        else:\n",
    "            cleaned_value = re.sub(r'[^가-힣a-zA-Z0-9]',' ',value).replace('ㅋ',' ').replace('ㅎ',' ').replace('ㅠ',' ').replace('ㅜ',' ').replace('  ',' ').replace('   ',' ').strip()\n",
    "        result2.setdefault(key, []).append(cleaned_value)"
   ]
  },
  {
   "cell_type": "markdown",
   "id": "18c79be6",
   "metadata": {},
   "source": [
    "# 전국 치킨집 데이터"
   ]
  },
  {
   "cell_type": "code",
   "execution_count": 127,
   "id": "bd83b64a",
   "metadata": {},
   "outputs": [],
   "source": [
    "with open (\"./전국치킨집리스트.json\", encoding='utf-8') as file:\n",
    "    chick= file.read()\n",
    "data=json.loads(chick)"
   ]
  },
  {
   "cell_type": "code",
   "execution_count": 174,
   "id": "07907df6",
   "metadata": {},
   "outputs": [
    {
     "data": {
      "text/plain": [
       "37"
      ]
     },
     "execution_count": 174,
     "metadata": {},
     "output_type": "execute_result"
    }
   ],
   "source": [
    "len(data)"
   ]
  },
  {
   "cell_type": "code",
   "execution_count": 175,
   "id": "2c7782b7",
   "metadata": {},
   "outputs": [
    {
     "data": {
      "text/plain": [
       "list"
      ]
     },
     "execution_count": 175,
     "metadata": {},
     "output_type": "execute_result"
    }
   ],
   "source": [
    "type(data)"
   ]
  },
  {
   "cell_type": "code",
   "execution_count": 164,
   "id": "41e3dd58",
   "metadata": {},
   "outputs": [],
   "source": [
    "result3={}"
   ]
  },
  {
   "cell_type": "code",
   "execution_count": 177,
   "id": "9b28da47",
   "metadata": {},
   "outputs": [],
   "source": [
    "for i in data:    \n",
    "    for m in i['body']['items']:\n",
    "        for key, value in m.items():\n",
    "            if value =='':\n",
    "                value=None\n",
    "            result3.setdefault(key, []).append(value)"
   ]
  },
  {
   "cell_type": "code",
   "execution_count": 183,
   "id": "be976db7",
   "metadata": {},
   "outputs": [
    {
     "data": {
      "text/plain": [
       "['상가업소번호',\n",
       " '상호명',\n",
       " '지점명',\n",
       " '상권업종대분류코드',\n",
       " '상권업종대분류명',\n",
       " '상권업종중분류코드',\n",
       " '상권업종중분류명',\n",
       " '상권업종소분류코드',\n",
       " '상권업종소분류명',\n",
       " '표준산업분류코드',\n",
       " '표준산업분류명',\n",
       " '시도코드',\n",
       " '시도명',\n",
       " '시군구코드',\n",
       " '시군구명',\n",
       " '행정동코드',\n",
       " '행정동명',\n",
       " '법정동코드',\n",
       " '법정동명',\n",
       " 'PNU코드',\n",
       " '대지구분코드',\n",
       " '대지구분명',\n",
       " '지번본번지',\n",
       " '지번부번지',\n",
       " '지번주소',\n",
       " '도로명코드',\n",
       " '도로명',\n",
       " '건물본번지',\n",
       " '건물부번지',\n",
       " '건물관리번호',\n",
       " '건물명',\n",
       " '도로명주소',\n",
       " '구우편번호',\n",
       " '신우편번호',\n",
       " '동정보',\n",
       " '층정보',\n",
       " '호정보',\n",
       " '경도',\n",
       " '위도']"
      ]
     },
     "execution_count": 183,
     "metadata": {},
     "output_type": "execute_result"
    }
   ],
   "source": [
    "key_list=data[0]['header']['columns']\n",
    "key_list"
   ]
  },
  {
   "cell_type": "code",
   "execution_count": 185,
   "id": "4d0c7bb0",
   "metadata": {},
   "outputs": [
    {
     "name": "stdout",
     "output_type": "stream",
     "text": [
      "<class 'pandas.core.frame.DataFrame'>\n",
      "RangeIndex: 37064 entries, 0 to 37063\n",
      "Data columns (total 39 columns):\n",
      " #   Column     Non-Null Count  Dtype  \n",
      "---  ------     --------------  -----  \n",
      " 0   상가업소번호     37064 non-null  object \n",
      " 1   상호명        37064 non-null  object \n",
      " 2   지점명        20116 non-null  object \n",
      " 3   상권업종대분류코드  37064 non-null  object \n",
      " 4   상권업종대분류명   37064 non-null  object \n",
      " 5   상권업종중분류코드  37064 non-null  object \n",
      " 6   상권업종중분류명   37064 non-null  object \n",
      " 7   상권업종소분류코드  37064 non-null  object \n",
      " 8   상권업종소분류명   37064 non-null  object \n",
      " 9   표준산업분류코드   37064 non-null  object \n",
      " 10  표준산업분류명    37064 non-null  object \n",
      " 11  시도코드       37064 non-null  object \n",
      " 12  시도명        37064 non-null  object \n",
      " 13  시군구코드      37064 non-null  object \n",
      " 14  시군구명       37064 non-null  object \n",
      " 15  행정동코드      37064 non-null  object \n",
      " 16  행정동명       37064 non-null  object \n",
      " 17  법정동코드      37064 non-null  object \n",
      " 18  법정동명       37064 non-null  object \n",
      " 19  PNU코드      37064 non-null  object \n",
      " 20  대지구분코드     37064 non-null  object \n",
      " 21  대지구분명      37064 non-null  object \n",
      " 22  지번본번지      37064 non-null  int64  \n",
      " 23  지번부번지      28991 non-null  float64\n",
      " 24  지번주소       37064 non-null  object \n",
      " 25  도로명코드      37064 non-null  object \n",
      " 26  도로명        37064 non-null  object \n",
      " 27  건물본번지      37064 non-null  int64  \n",
      " 28  건물부번지      7137 non-null   float64\n",
      " 29  건물관리번호     37064 non-null  object \n",
      " 30  건물명        13395 non-null  object \n",
      " 31  도로명주소      37064 non-null  object \n",
      " 32  구우편번호      36906 non-null  object \n",
      " 33  신우편번호      37058 non-null  object \n",
      " 34  동정보        2358 non-null   object \n",
      " 35  층정보        20048 non-null  object \n",
      " 36  호정보        0 non-null      object \n",
      " 37  경도         37064 non-null  float64\n",
      " 38  위도         37064 non-null  float64\n",
      "dtypes: float64(4), int64(2), object(33)\n",
      "memory usage: 11.0+ MB\n"
     ]
    }
   ],
   "source": [
    "df1=pd.DataFrame(result3)\n",
    "df1.columns= key_list\n",
    "df1.info()"
   ]
  },
  {
   "cell_type": "code",
   "execution_count": 186,
   "id": "79a1cb69",
   "metadata": {
    "scrolled": true
   },
   "outputs": [
    {
     "data": {
      "text/html": [
       "<div>\n",
       "<style scoped>\n",
       "    .dataframe tbody tr th:only-of-type {\n",
       "        vertical-align: middle;\n",
       "    }\n",
       "\n",
       "    .dataframe tbody tr th {\n",
       "        vertical-align: top;\n",
       "    }\n",
       "\n",
       "    .dataframe thead th {\n",
       "        text-align: right;\n",
       "    }\n",
       "</style>\n",
       "<table border=\"1\" class=\"dataframe\">\n",
       "  <thead>\n",
       "    <tr style=\"text-align: right;\">\n",
       "      <th></th>\n",
       "      <th>상가업소번호</th>\n",
       "      <th>상호명</th>\n",
       "      <th>지점명</th>\n",
       "      <th>상권업종대분류코드</th>\n",
       "      <th>상권업종대분류명</th>\n",
       "      <th>상권업종중분류코드</th>\n",
       "      <th>상권업종중분류명</th>\n",
       "      <th>상권업종소분류코드</th>\n",
       "      <th>상권업종소분류명</th>\n",
       "      <th>표준산업분류코드</th>\n",
       "      <th>...</th>\n",
       "      <th>건물관리번호</th>\n",
       "      <th>건물명</th>\n",
       "      <th>도로명주소</th>\n",
       "      <th>구우편번호</th>\n",
       "      <th>신우편번호</th>\n",
       "      <th>동정보</th>\n",
       "      <th>층정보</th>\n",
       "      <th>호정보</th>\n",
       "      <th>경도</th>\n",
       "      <th>위도</th>\n",
       "    </tr>\n",
       "  </thead>\n",
       "  <tbody>\n",
       "    <tr>\n",
       "      <th>0</th>\n",
       "      <td>10027626</td>\n",
       "      <td>장모님치킨가창점</td>\n",
       "      <td>가창점</td>\n",
       "      <td>Q</td>\n",
       "      <td>음식</td>\n",
       "      <td>Q05</td>\n",
       "      <td>닭/오리요리</td>\n",
       "      <td>Q05A08</td>\n",
       "      <td>후라이드/양념치킨</td>\n",
       "      <td>I56193</td>\n",
       "      <td>...</td>\n",
       "      <td>2771031024101200004036858</td>\n",
       "      <td>None</td>\n",
       "      <td>대구광역시 달성군 가창면 가창동로 6</td>\n",
       "      <td>711861</td>\n",
       "      <td>42938</td>\n",
       "      <td>None</td>\n",
       "      <td>1</td>\n",
       "      <td>None</td>\n",
       "      <td>128.644459</td>\n",
       "      <td>35.782663</td>\n",
       "    </tr>\n",
       "    <tr>\n",
       "      <th>1</th>\n",
       "      <td>10098244</td>\n",
       "      <td>짱구피자치킨</td>\n",
       "      <td>None</td>\n",
       "      <td>Q</td>\n",
       "      <td>음식</td>\n",
       "      <td>Q05</td>\n",
       "      <td>닭/오리요리</td>\n",
       "      <td>Q05A08</td>\n",
       "      <td>후라이드/양념치킨</td>\n",
       "      <td>I56193</td>\n",
       "      <td>...</td>\n",
       "      <td>4125010300102680011008557</td>\n",
       "      <td>None</td>\n",
       "      <td>경기도 동두천시 못골로 30</td>\n",
       "      <td>483030</td>\n",
       "      <td>11320</td>\n",
       "      <td>None</td>\n",
       "      <td>None</td>\n",
       "      <td>None</td>\n",
       "      <td>127.065903</td>\n",
       "      <td>37.901262</td>\n",
       "    </tr>\n",
       "    <tr>\n",
       "      <th>2</th>\n",
       "      <td>10099459</td>\n",
       "      <td>쭈노치킨</td>\n",
       "      <td>None</td>\n",
       "      <td>Q</td>\n",
       "      <td>음식</td>\n",
       "      <td>Q05</td>\n",
       "      <td>닭/오리요리</td>\n",
       "      <td>Q05A08</td>\n",
       "      <td>후라이드/양념치킨</td>\n",
       "      <td>I56193</td>\n",
       "      <td>...</td>\n",
       "      <td>4157025324105380008019970</td>\n",
       "      <td>None</td>\n",
       "      <td>경기도 김포시 고촌읍 장차로13번길 18</td>\n",
       "      <td>415811</td>\n",
       "      <td>10126</td>\n",
       "      <td>None</td>\n",
       "      <td>1</td>\n",
       "      <td>None</td>\n",
       "      <td>126.769859</td>\n",
       "      <td>37.603752</td>\n",
       "    </tr>\n",
       "    <tr>\n",
       "      <th>3</th>\n",
       "      <td>10136167</td>\n",
       "      <td>치킨뱅이</td>\n",
       "      <td>None</td>\n",
       "      <td>Q</td>\n",
       "      <td>음식</td>\n",
       "      <td>Q05</td>\n",
       "      <td>닭/오리요리</td>\n",
       "      <td>Q05A08</td>\n",
       "      <td>후라이드/양념치킨</td>\n",
       "      <td>I56193</td>\n",
       "      <td>...</td>\n",
       "      <td>4213011000108300006022278</td>\n",
       "      <td>None</td>\n",
       "      <td>강원도 원주시 금불3길 5</td>\n",
       "      <td>220938</td>\n",
       "      <td>26423</td>\n",
       "      <td>None</td>\n",
       "      <td>1</td>\n",
       "      <td>None</td>\n",
       "      <td>127.932025</td>\n",
       "      <td>37.348358</td>\n",
       "    </tr>\n",
       "    <tr>\n",
       "      <th>4</th>\n",
       "      <td>10136346</td>\n",
       "      <td>치킨월드율량점</td>\n",
       "      <td>율량점</td>\n",
       "      <td>Q</td>\n",
       "      <td>음식</td>\n",
       "      <td>Q05</td>\n",
       "      <td>닭/오리요리</td>\n",
       "      <td>Q05A08</td>\n",
       "      <td>후라이드/양념치킨</td>\n",
       "      <td>I56193</td>\n",
       "      <td>...</td>\n",
       "      <td>4311111500108060000045239</td>\n",
       "      <td>None</td>\n",
       "      <td>충청북도 청주시 청원구 공항로138번길 53</td>\n",
       "      <td>363818</td>\n",
       "      <td>28328</td>\n",
       "      <td>None</td>\n",
       "      <td>1</td>\n",
       "      <td>None</td>\n",
       "      <td>127.487586</td>\n",
       "      <td>36.669816</td>\n",
       "    </tr>\n",
       "  </tbody>\n",
       "</table>\n",
       "<p>5 rows × 39 columns</p>\n",
       "</div>"
      ],
      "text/plain": [
       "     상가업소번호       상호명   지점명 상권업종대분류코드 상권업종대분류명 상권업종중분류코드 상권업종중분류명 상권업종소분류코드  \\\n",
       "0  10027626  장모님치킨가창점   가창점         Q       음식       Q05   닭/오리요리    Q05A08   \n",
       "1  10098244    짱구피자치킨  None         Q       음식       Q05   닭/오리요리    Q05A08   \n",
       "2  10099459      쭈노치킨  None         Q       음식       Q05   닭/오리요리    Q05A08   \n",
       "3  10136167      치킨뱅이  None         Q       음식       Q05   닭/오리요리    Q05A08   \n",
       "4  10136346   치킨월드율량점   율량점         Q       음식       Q05   닭/오리요리    Q05A08   \n",
       "\n",
       "    상권업종소분류명 표준산업분류코드  ...                     건물관리번호   건물명  \\\n",
       "0  후라이드/양념치킨   I56193  ...  2771031024101200004036858  None   \n",
       "1  후라이드/양념치킨   I56193  ...  4125010300102680011008557  None   \n",
       "2  후라이드/양념치킨   I56193  ...  4157025324105380008019970  None   \n",
       "3  후라이드/양념치킨   I56193  ...  4213011000108300006022278  None   \n",
       "4  후라이드/양념치킨   I56193  ...  4311111500108060000045239  None   \n",
       "\n",
       "                      도로명주소   구우편번호  신우편번호   동정보   층정보   호정보          경도  \\\n",
       "0      대구광역시 달성군 가창면 가창동로 6  711861  42938  None     1  None  128.644459   \n",
       "1           경기도 동두천시 못골로 30  483030  11320  None  None  None  127.065903   \n",
       "2    경기도 김포시 고촌읍 장차로13번길 18  415811  10126  None     1  None  126.769859   \n",
       "3            강원도 원주시 금불3길 5  220938  26423  None     1  None  127.932025   \n",
       "4  충청북도 청주시 청원구 공항로138번길 53  363818  28328  None     1  None  127.487586   \n",
       "\n",
       "          위도  \n",
       "0  35.782663  \n",
       "1  37.901262  \n",
       "2  37.603752  \n",
       "3  37.348358  \n",
       "4  36.669816  \n",
       "\n",
       "[5 rows x 39 columns]"
      ]
     },
     "execution_count": 186,
     "metadata": {},
     "output_type": "execute_result"
    }
   ],
   "source": [
    "df1.head()"
   ]
  },
  {
   "cell_type": "code",
   "execution_count": null,
   "id": "4498c357",
   "metadata": {},
   "outputs": [],
   "source": [
    "for i in data:    \n",
    "    for m in i['body']['items']:\n",
    "        for key, value in zip(data[0]['header']['columns'], m.values()):\n",
    "            if value =='':\n",
    "                value=None\n",
    "            result3.setdefault(key, []).append(value)"
   ]
  },
  {
   "cell_type": "markdown",
   "id": "cd43e716",
   "metadata": {},
   "source": [
    "# CSV 파일로 저장하기\n",
    "* 변수명.to_csv('경로와 파일명\", index=False, encoding='utf-8-sig')\n"
   ]
  },
  {
   "cell_type": "code",
   "execution_count": 190,
   "id": "75e2b9b9",
   "metadata": {},
   "outputs": [],
   "source": [
    "df1.to_csv('./chicken.csv', index=False, encoding='utf-8-sig')"
   ]
  },
  {
   "cell_type": "markdown",
   "id": "db493518",
   "metadata": {},
   "source": [
    "# Pandas로 json 데이터 쉽게 정리하기\n",
    "* pd.json_normalize(json데이터)"
   ]
  },
  {
   "cell_type": "markdown",
   "id": "7efb14f4",
   "metadata": {},
   "source": [
    "* json_normaliz로 만든 데이터프레임을 pages 리스트에 추가 "
   ]
  },
  {
   "cell_type": "code",
   "execution_count": 198,
   "id": "4d2d8a38",
   "metadata": {},
   "outputs": [],
   "source": [
    "pages=[]\n",
    "for page in data:\n",
    "    pages.append(pd.json_normalize(page['body']['items']))"
   ]
  },
  {
   "cell_type": "code",
   "execution_count": 199,
   "id": "5a462257",
   "metadata": {},
   "outputs": [
    {
     "data": {
      "text/plain": [
       "37"
      ]
     },
     "execution_count": 199,
     "metadata": {},
     "output_type": "execute_result"
    }
   ],
   "source": [
    "len(pages)"
   ]
  },
  {
   "cell_type": "markdown",
   "id": "3b5c1f36",
   "metadata": {},
   "source": [
    "* pandas의 concat 명령어로 여러개의 데이터프레인 하나로 합치기\n",
    "* pd.concat(데이터프레임 리스트)\n",
    "* 데이터 프레임의 인덱스 초기화 reset)index(drop=True) "
   ]
  },
  {
   "cell_type": "code",
   "execution_count": 202,
   "id": "077b6506",
   "metadata": {},
   "outputs": [],
   "source": [
    "df6= pd.concat(pages)"
   ]
  },
  {
   "cell_type": "code",
   "execution_count": 204,
   "id": "de89b954",
   "metadata": {},
   "outputs": [
    {
     "data": {
      "text/html": [
       "<div>\n",
       "<style scoped>\n",
       "    .dataframe tbody tr th:only-of-type {\n",
       "        vertical-align: middle;\n",
       "    }\n",
       "\n",
       "    .dataframe tbody tr th {\n",
       "        vertical-align: top;\n",
       "    }\n",
       "\n",
       "    .dataframe thead th {\n",
       "        text-align: right;\n",
       "    }\n",
       "</style>\n",
       "<table border=\"1\" class=\"dataframe\">\n",
       "  <thead>\n",
       "    <tr style=\"text-align: right;\">\n",
       "      <th></th>\n",
       "      <th>bizesId</th>\n",
       "      <th>bizesNm</th>\n",
       "      <th>brchNm</th>\n",
       "      <th>indsLclsCd</th>\n",
       "      <th>indsLclsNm</th>\n",
       "      <th>indsMclsCd</th>\n",
       "      <th>indsMclsNm</th>\n",
       "      <th>indsSclsCd</th>\n",
       "      <th>indsSclsNm</th>\n",
       "      <th>ksicCd</th>\n",
       "      <th>...</th>\n",
       "      <th>bldMngNo</th>\n",
       "      <th>bldNm</th>\n",
       "      <th>rdnmAdr</th>\n",
       "      <th>oldZipcd</th>\n",
       "      <th>newZipcd</th>\n",
       "      <th>dongNo</th>\n",
       "      <th>flrNo</th>\n",
       "      <th>hoNo</th>\n",
       "      <th>lon</th>\n",
       "      <th>lat</th>\n",
       "    </tr>\n",
       "  </thead>\n",
       "  <tbody>\n",
       "    <tr>\n",
       "      <th>0</th>\n",
       "      <td>10027626</td>\n",
       "      <td>장모님치킨가창점</td>\n",
       "      <td>가창점</td>\n",
       "      <td>Q</td>\n",
       "      <td>음식</td>\n",
       "      <td>Q05</td>\n",
       "      <td>닭/오리요리</td>\n",
       "      <td>Q05A08</td>\n",
       "      <td>후라이드/양념치킨</td>\n",
       "      <td>I56193</td>\n",
       "      <td>...</td>\n",
       "      <td>2771031024101200004036858</td>\n",
       "      <td></td>\n",
       "      <td>대구광역시 달성군 가창면 가창동로 6</td>\n",
       "      <td>711861</td>\n",
       "      <td>42938</td>\n",
       "      <td></td>\n",
       "      <td>1</td>\n",
       "      <td></td>\n",
       "      <td>128.644459</td>\n",
       "      <td>35.782663</td>\n",
       "    </tr>\n",
       "    <tr>\n",
       "      <th>1</th>\n",
       "      <td>10098244</td>\n",
       "      <td>짱구피자치킨</td>\n",
       "      <td></td>\n",
       "      <td>Q</td>\n",
       "      <td>음식</td>\n",
       "      <td>Q05</td>\n",
       "      <td>닭/오리요리</td>\n",
       "      <td>Q05A08</td>\n",
       "      <td>후라이드/양념치킨</td>\n",
       "      <td>I56193</td>\n",
       "      <td>...</td>\n",
       "      <td>4125010300102680011008557</td>\n",
       "      <td></td>\n",
       "      <td>경기도 동두천시 못골로 30</td>\n",
       "      <td>483030</td>\n",
       "      <td>11320</td>\n",
       "      <td></td>\n",
       "      <td></td>\n",
       "      <td></td>\n",
       "      <td>127.065903</td>\n",
       "      <td>37.901262</td>\n",
       "    </tr>\n",
       "    <tr>\n",
       "      <th>2</th>\n",
       "      <td>10099459</td>\n",
       "      <td>쭈노치킨</td>\n",
       "      <td></td>\n",
       "      <td>Q</td>\n",
       "      <td>음식</td>\n",
       "      <td>Q05</td>\n",
       "      <td>닭/오리요리</td>\n",
       "      <td>Q05A08</td>\n",
       "      <td>후라이드/양념치킨</td>\n",
       "      <td>I56193</td>\n",
       "      <td>...</td>\n",
       "      <td>4157025324105380008019970</td>\n",
       "      <td></td>\n",
       "      <td>경기도 김포시 고촌읍 장차로13번길 18</td>\n",
       "      <td>415811</td>\n",
       "      <td>10126</td>\n",
       "      <td></td>\n",
       "      <td>1</td>\n",
       "      <td></td>\n",
       "      <td>126.769859</td>\n",
       "      <td>37.603752</td>\n",
       "    </tr>\n",
       "    <tr>\n",
       "      <th>3</th>\n",
       "      <td>10136167</td>\n",
       "      <td>치킨뱅이</td>\n",
       "      <td></td>\n",
       "      <td>Q</td>\n",
       "      <td>음식</td>\n",
       "      <td>Q05</td>\n",
       "      <td>닭/오리요리</td>\n",
       "      <td>Q05A08</td>\n",
       "      <td>후라이드/양념치킨</td>\n",
       "      <td>I56193</td>\n",
       "      <td>...</td>\n",
       "      <td>4213011000108300006022278</td>\n",
       "      <td></td>\n",
       "      <td>강원도 원주시 금불3길 5</td>\n",
       "      <td>220938</td>\n",
       "      <td>26423</td>\n",
       "      <td></td>\n",
       "      <td>1</td>\n",
       "      <td></td>\n",
       "      <td>127.932025</td>\n",
       "      <td>37.348358</td>\n",
       "    </tr>\n",
       "    <tr>\n",
       "      <th>4</th>\n",
       "      <td>10136346</td>\n",
       "      <td>치킨월드율량점</td>\n",
       "      <td>율량점</td>\n",
       "      <td>Q</td>\n",
       "      <td>음식</td>\n",
       "      <td>Q05</td>\n",
       "      <td>닭/오리요리</td>\n",
       "      <td>Q05A08</td>\n",
       "      <td>후라이드/양념치킨</td>\n",
       "      <td>I56193</td>\n",
       "      <td>...</td>\n",
       "      <td>4311111500108060000045239</td>\n",
       "      <td></td>\n",
       "      <td>충청북도 청주시 청원구 공항로138번길 53</td>\n",
       "      <td>363818</td>\n",
       "      <td>28328</td>\n",
       "      <td></td>\n",
       "      <td>1</td>\n",
       "      <td></td>\n",
       "      <td>127.487586</td>\n",
       "      <td>36.669816</td>\n",
       "    </tr>\n",
       "    <tr>\n",
       "      <th>...</th>\n",
       "      <td>...</td>\n",
       "      <td>...</td>\n",
       "      <td>...</td>\n",
       "      <td>...</td>\n",
       "      <td>...</td>\n",
       "      <td>...</td>\n",
       "      <td>...</td>\n",
       "      <td>...</td>\n",
       "      <td>...</td>\n",
       "      <td>...</td>\n",
       "      <td>...</td>\n",
       "      <td>...</td>\n",
       "      <td>...</td>\n",
       "      <td>...</td>\n",
       "      <td>...</td>\n",
       "      <td>...</td>\n",
       "      <td>...</td>\n",
       "      <td>...</td>\n",
       "      <td>...</td>\n",
       "      <td>...</td>\n",
       "      <td>...</td>\n",
       "    </tr>\n",
       "    <tr>\n",
       "      <th>36059</th>\n",
       "      <td>9829515</td>\n",
       "      <td>아리치킨</td>\n",
       "      <td></td>\n",
       "      <td>Q</td>\n",
       "      <td>음식</td>\n",
       "      <td>Q05</td>\n",
       "      <td>닭/오리요리</td>\n",
       "      <td>Q05A08</td>\n",
       "      <td>후라이드/양념치킨</td>\n",
       "      <td>I56193</td>\n",
       "      <td>...</td>\n",
       "      <td>4125010200106740003008662</td>\n",
       "      <td></td>\n",
       "      <td>경기도 동두천시 거북마루로 6</td>\n",
       "      <td>483020</td>\n",
       "      <td>11348</td>\n",
       "      <td></td>\n",
       "      <td>1</td>\n",
       "      <td></td>\n",
       "      <td>127.046713</td>\n",
       "      <td>37.895702</td>\n",
       "    </tr>\n",
       "    <tr>\n",
       "      <th>36060</th>\n",
       "      <td>9851302</td>\n",
       "      <td>애니치킨</td>\n",
       "      <td></td>\n",
       "      <td>Q</td>\n",
       "      <td>음식</td>\n",
       "      <td>Q05</td>\n",
       "      <td>닭/오리요리</td>\n",
       "      <td>Q05A08</td>\n",
       "      <td>후라이드/양념치킨</td>\n",
       "      <td>I56193</td>\n",
       "      <td>...</td>\n",
       "      <td>4785031036104090002008916</td>\n",
       "      <td></td>\n",
       "      <td>경상북도 칠곡군 지천면 신동로 147</td>\n",
       "      <td>718821</td>\n",
       "      <td>39864</td>\n",
       "      <td></td>\n",
       "      <td></td>\n",
       "      <td></td>\n",
       "      <td>128.488717</td>\n",
       "      <td>35.956631</td>\n",
       "    </tr>\n",
       "    <tr>\n",
       "      <th>36061</th>\n",
       "      <td>9867543</td>\n",
       "      <td>에디슨치킨</td>\n",
       "      <td></td>\n",
       "      <td>Q</td>\n",
       "      <td>음식</td>\n",
       "      <td>Q05</td>\n",
       "      <td>닭/오리요리</td>\n",
       "      <td>Q05A08</td>\n",
       "      <td>후라이드/양념치킨</td>\n",
       "      <td>I56193</td>\n",
       "      <td>...</td>\n",
       "      <td>1135010600103590001010681</td>\n",
       "      <td>중계5단지주공아파트</td>\n",
       "      <td>서울특별시 노원구 중계로 230</td>\n",
       "      <td>139781</td>\n",
       "      <td>01713</td>\n",
       "      <td></td>\n",
       "      <td>1</td>\n",
       "      <td></td>\n",
       "      <td>127.075031</td>\n",
       "      <td>37.651004</td>\n",
       "    </tr>\n",
       "    <tr>\n",
       "      <th>36062</th>\n",
       "      <td>9918905</td>\n",
       "      <td>오븐에꾸운닭장유점</td>\n",
       "      <td>장유점</td>\n",
       "      <td>Q</td>\n",
       "      <td>음식</td>\n",
       "      <td>Q05</td>\n",
       "      <td>닭/오리요리</td>\n",
       "      <td>Q05A08</td>\n",
       "      <td>후라이드/양념치킨</td>\n",
       "      <td>I56193</td>\n",
       "      <td>...</td>\n",
       "      <td>4825031027103150002091993</td>\n",
       "      <td>재영프라자</td>\n",
       "      <td>경상남도 김해시 삼문로 26</td>\n",
       "      <td>621280</td>\n",
       "      <td>51004</td>\n",
       "      <td></td>\n",
       "      <td>1</td>\n",
       "      <td></td>\n",
       "      <td>128.803565</td>\n",
       "      <td>35.192491</td>\n",
       "    </tr>\n",
       "    <tr>\n",
       "      <th>36063</th>\n",
       "      <td>9967953</td>\n",
       "      <td>웰빙치킨</td>\n",
       "      <td></td>\n",
       "      <td>Q</td>\n",
       "      <td>음식</td>\n",
       "      <td>Q05</td>\n",
       "      <td>닭/오리요리</td>\n",
       "      <td>Q05A08</td>\n",
       "      <td>후라이드/양념치킨</td>\n",
       "      <td>I56193</td>\n",
       "      <td>...</td>\n",
       "      <td>4213011100101360002016167</td>\n",
       "      <td></td>\n",
       "      <td>강원도 원주시 상지대길 43</td>\n",
       "      <td>220954</td>\n",
       "      <td>26342</td>\n",
       "      <td></td>\n",
       "      <td>1</td>\n",
       "      <td></td>\n",
       "      <td>127.937290</td>\n",
       "      <td>37.369591</td>\n",
       "    </tr>\n",
       "  </tbody>\n",
       "</table>\n",
       "<p>36064 rows × 39 columns</p>\n",
       "</div>"
      ],
      "text/plain": [
       "        bizesId    bizesNm brchNm indsLclsCd indsLclsNm indsMclsCd indsMclsNm  \\\n",
       "0      10027626   장모님치킨가창점    가창점          Q         음식        Q05     닭/오리요리   \n",
       "1      10098244     짱구피자치킨                 Q         음식        Q05     닭/오리요리   \n",
       "2      10099459       쭈노치킨                 Q         음식        Q05     닭/오리요리   \n",
       "3      10136167       치킨뱅이                 Q         음식        Q05     닭/오리요리   \n",
       "4      10136346    치킨월드율량점    율량점          Q         음식        Q05     닭/오리요리   \n",
       "...         ...        ...    ...        ...        ...        ...        ...   \n",
       "36059   9829515       아리치킨                 Q         음식        Q05     닭/오리요리   \n",
       "36060   9851302       애니치킨                 Q         음식        Q05     닭/오리요리   \n",
       "36061   9867543      에디슨치킨                 Q         음식        Q05     닭/오리요리   \n",
       "36062   9918905  오븐에꾸운닭장유점    장유점          Q         음식        Q05     닭/오리요리   \n",
       "36063   9967953       웰빙치킨                 Q         음식        Q05     닭/오리요리   \n",
       "\n",
       "      indsSclsCd indsSclsNm  ksicCd  ...                   bldMngNo  \\\n",
       "0         Q05A08  후라이드/양념치킨  I56193  ...  2771031024101200004036858   \n",
       "1         Q05A08  후라이드/양념치킨  I56193  ...  4125010300102680011008557   \n",
       "2         Q05A08  후라이드/양념치킨  I56193  ...  4157025324105380008019970   \n",
       "3         Q05A08  후라이드/양념치킨  I56193  ...  4213011000108300006022278   \n",
       "4         Q05A08  후라이드/양념치킨  I56193  ...  4311111500108060000045239   \n",
       "...          ...        ...     ...  ...                        ...   \n",
       "36059     Q05A08  후라이드/양념치킨  I56193  ...  4125010200106740003008662   \n",
       "36060     Q05A08  후라이드/양념치킨  I56193  ...  4785031036104090002008916   \n",
       "36061     Q05A08  후라이드/양념치킨  I56193  ...  1135010600103590001010681   \n",
       "36062     Q05A08  후라이드/양념치킨  I56193  ...  4825031027103150002091993   \n",
       "36063     Q05A08  후라이드/양념치킨  I56193  ...  4213011100101360002016167   \n",
       "\n",
       "            bldNm                   rdnmAdr oldZipcd newZipcd dongNo flrNo  \\\n",
       "0                      대구광역시 달성군 가창면 가창동로 6   711861    42938            1   \n",
       "1                           경기도 동두천시 못골로 30   483030    11320                \n",
       "2                    경기도 김포시 고촌읍 장차로13번길 18   415811    10126            1   \n",
       "3                            강원도 원주시 금불3길 5   220938    26423            1   \n",
       "4                  충청북도 청주시 청원구 공항로138번길 53   363818    28328            1   \n",
       "...           ...                       ...      ...      ...    ...   ...   \n",
       "36059                      경기도 동두천시 거북마루로 6   483020    11348            1   \n",
       "36060                  경상북도 칠곡군 지천면 신동로 147   718821    39864                \n",
       "36061  중계5단지주공아파트         서울특별시 노원구 중계로 230   139781    01713            1   \n",
       "36062       재영프라자           경상남도 김해시 삼문로 26   621280    51004            1   \n",
       "36063                       강원도 원주시 상지대길 43   220954    26342            1   \n",
       "\n",
       "      hoNo         lon        lat  \n",
       "0           128.644459  35.782663  \n",
       "1           127.065903  37.901262  \n",
       "2           126.769859  37.603752  \n",
       "3           127.932025  37.348358  \n",
       "4           127.487586  36.669816  \n",
       "...    ...         ...        ...  \n",
       "36059       127.046713  37.895702  \n",
       "36060       128.488717  35.956631  \n",
       "36061       127.075031  37.651004  \n",
       "36062       128.803565  35.192491  \n",
       "36063       127.937290  37.369591  \n",
       "\n",
       "[36064 rows x 39 columns]"
      ]
     },
     "execution_count": 204,
     "metadata": {},
     "output_type": "execute_result"
    }
   ],
   "source": [
    "df6= df6.reset_index(drop=True)\n",
    "df6"
   ]
  }
 ],
 "metadata": {
  "kernelspec": {
   "display_name": "Python 3 (ipykernel)",
   "language": "python",
   "name": "python3"
  },
  "language_info": {
   "codemirror_mode": {
    "name": "ipython",
    "version": 3
   },
   "file_extension": ".py",
   "mimetype": "text/x-python",
   "name": "python",
   "nbconvert_exporter": "python",
   "pygments_lexer": "ipython3",
   "version": "3.9.23"
  }
 },
 "nbformat": 4,
 "nbformat_minor": 5
}
