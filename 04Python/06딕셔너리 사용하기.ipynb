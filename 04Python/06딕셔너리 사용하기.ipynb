{
 "cells": [
  {
   "cell_type": "markdown",
   "id": "9308232f",
   "metadata": {},
   "source": [
    "# 딕션너리 사용하기 \n",
    "* dict타입, json 타입이라고도 함\n",
    "* web에서 자료를 주고 받을 떄 주로 사용하는 형식(api)\n",
    "* key : value 쌍으로 이루어진 자료형\n",
    "* key를 호출하면 value가 나온다\n",
    "* Key에는 list,dict를 제외한 자료형이 올 수 있다.\n",
    "* value에는 모든 자료형 올 수 있다."
   ]
  },
  {
   "cell_type": "markdown",
   "id": "2cf960b5",
   "metadata": {},
   "source": [
    "# 딕셔너리 만들기\n",
    "* 중괄호 안에 key : value 쌍으로 만든다. \n",
    "* 빈 딕셔너리 생성 가능{}\n",
    "* dict()함수를 이용해서 대량의 딕셔너리 생성 가능"
   ]
  },
  {
   "cell_type": "code",
   "execution_count": 63,
   "id": "bf87ac75",
   "metadata": {},
   "outputs": [
    {
     "data": {
      "text/plain": [
       "{'년월': '20250924', '국가': '미국', '방문자수': 1000}"
      ]
     },
     "execution_count": 63,
     "metadata": {},
     "output_type": "execute_result"
    }
   ],
   "source": [
    "d = {'년월': '20250924', '국가': '미국', '방문자수':1000}\n",
    "d"
   ]
  },
  {
   "cell_type": "code",
   "execution_count": 2,
   "id": "5409bf91",
   "metadata": {},
   "outputs": [
    {
     "data": {
      "text/plain": [
       "'20250924'"
      ]
     },
     "execution_count": 2,
     "metadata": {},
     "output_type": "execute_result"
    }
   ],
   "source": [
    "d['년월']"
   ]
  },
  {
   "cell_type": "code",
   "execution_count": 3,
   "id": "d5d17ec7",
   "metadata": {},
   "outputs": [
    {
     "name": "stdout",
     "output_type": "stream",
     "text": [
      "{} <class 'dict'>\n"
     ]
    }
   ],
   "source": [
    "d2 = {}\n",
    "print(d2, type(d2))"
   ]
  },
  {
   "cell_type": "markdown",
   "id": "91e58bf4",
   "metadata": {},
   "source": [
    "# dict key의 자료형\n",
    "* list, dict를 제외한 나머지 자료형으로 만듬\n",
    "* 정수, 실수, 문자열, 불린(True, False), Tuple"
   ]
  },
  {
   "cell_type": "code",
   "execution_count": 4,
   "id": "8a1741b1",
   "metadata": {},
   "outputs": [
    {
     "data": {
      "text/plain": [
       "{'백': 100, 100: '백', 3.4: [3.5, 3.7], False: 0, (0, '서울'): '강남구'}"
      ]
     },
     "execution_count": 4,
     "metadata": {},
     "output_type": "execute_result"
    }
   ],
   "source": [
    "d3 ={'백': 100, 100: '백', 3.4: [3.5,3.7], False: 0, (0,'서울'): '강남구'}\n",
    "d3"
   ]
  },
  {
   "cell_type": "code",
   "execution_count": 5,
   "id": "879a09f8",
   "metadata": {},
   "outputs": [
    {
     "ename": "TypeError",
     "evalue": "unhashable type: 'list'",
     "output_type": "error",
     "traceback": [
      "\u001b[1;31m---------------------------------------------------------------------------\u001b[0m",
      "\u001b[1;31mTypeError\u001b[0m                                 Traceback (most recent call last)",
      "Cell \u001b[1;32mIn[5], line 1\u001b[0m\n\u001b[1;32m----> 1\u001b[0m d4 \u001b[38;5;241m=\u001b[39m{\u001b[38;5;124m'\u001b[39m\u001b[38;5;124m백\u001b[39m\u001b[38;5;124m'\u001b[39m: \u001b[38;5;241m100\u001b[39m, \u001b[38;5;241m100\u001b[39m: \u001b[38;5;124m'\u001b[39m\u001b[38;5;124m백\u001b[39m\u001b[38;5;124m'\u001b[39m, \u001b[38;5;241m3.4\u001b[39m: [\u001b[38;5;241m3.5\u001b[39m,\u001b[38;5;241m3.7\u001b[39m], \u001b[38;5;28;01mFalse\u001b[39;00m: \u001b[38;5;241m0\u001b[39m, (\u001b[38;5;241m0\u001b[39m,\u001b[38;5;124m'\u001b[39m\u001b[38;5;124m서울\u001b[39m\u001b[38;5;124m'\u001b[39m): \u001b[38;5;124m'\u001b[39m\u001b[38;5;124m강남구\u001b[39m\u001b[38;5;124m'\u001b[39m, [\u001b[38;5;241m1\u001b[39m,\u001b[38;5;241m2\u001b[39m]:\u001b[38;5;241m123\u001b[39m}\n\u001b[0;32m      2\u001b[0m d4\n",
      "\u001b[1;31mTypeError\u001b[0m: unhashable type: 'list'"
     ]
    }
   ],
   "source": [
    "d4 ={'백': 100, 100: '백', 3.4: [3.5,3.7], False: 0, (0,'서울'): '강남구', [1,2]:123}\n",
    "d4"
   ]
  },
  {
   "cell_type": "code",
   "execution_count": 6,
   "id": "49f73eaf",
   "metadata": {},
   "outputs": [
    {
     "data": {
      "text/plain": [
       "100"
      ]
     },
     "execution_count": 6,
     "metadata": {},
     "output_type": "execute_result"
    }
   ],
   "source": [
    "d3['백']"
   ]
  },
  {
   "cell_type": "code",
   "execution_count": 7,
   "id": "3eab3a2e",
   "metadata": {},
   "outputs": [
    {
     "data": {
      "text/plain": [
       "'백'"
      ]
     },
     "execution_count": 7,
     "metadata": {},
     "output_type": "execute_result"
    }
   ],
   "source": [
    "d3[100]"
   ]
  },
  {
   "cell_type": "code",
   "execution_count": 8,
   "id": "a318cdf6",
   "metadata": {},
   "outputs": [
    {
     "data": {
      "text/plain": [
       "[3.5, 3.7]"
      ]
     },
     "execution_count": 8,
     "metadata": {},
     "output_type": "execute_result"
    }
   ],
   "source": [
    "d3[3.4]"
   ]
  },
  {
   "cell_type": "code",
   "execution_count": 9,
   "id": "a57ffc7f",
   "metadata": {},
   "outputs": [
    {
     "data": {
      "text/plain": [
       "0"
      ]
     },
     "execution_count": 9,
     "metadata": {},
     "output_type": "execute_result"
    }
   ],
   "source": [
    "d3[False]"
   ]
  },
  {
   "cell_type": "code",
   "execution_count": 10,
   "id": "23e09c77",
   "metadata": {},
   "outputs": [
    {
     "data": {
      "text/plain": [
       "'강남구'"
      ]
     },
     "execution_count": 10,
     "metadata": {},
     "output_type": "execute_result"
    }
   ],
   "source": [
    "d3[(0,'서울')]"
   ]
  },
  {
   "cell_type": "markdown",
   "id": "fbcb0258",
   "metadata": {},
   "source": [
    "# 딕셔너리 value의 자료형\n",
    "* value는 모든 자료형이 올 수 있다. "
   ]
  },
  {
   "cell_type": "code",
   "execution_count": 11,
   "id": "0b34408b",
   "metadata": {},
   "outputs": [],
   "source": [
    "d4 = {'정수':100, '실수': 3.5, '문자열': '딕셔너리의 값', '리스트': [1,2,3,4], '튜플': (5,6,7,8), '딕셔너리': {'key': 'value'}, '불린':True}"
   ]
  },
  {
   "cell_type": "code",
   "execution_count": 12,
   "id": "d1b2df14",
   "metadata": {},
   "outputs": [
    {
     "data": {
      "text/plain": [
       "{'정수': 100,\n",
       " '실수': 3.5,\n",
       " '문자열': '딕셔너리의 값',\n",
       " '리스트': [1, 2, 3, 4],\n",
       " '튜플': (5, 6, 7, 8),\n",
       " '딕셔너리': {'key': 'value'},\n",
       " '불린': True}"
      ]
     },
     "execution_count": 12,
     "metadata": {},
     "output_type": "execute_result"
    }
   ],
   "source": [
    "d4"
   ]
  },
  {
   "cell_type": "code",
   "execution_count": 13,
   "id": "586e5340",
   "metadata": {},
   "outputs": [
    {
     "data": {
      "text/plain": [
       "100"
      ]
     },
     "execution_count": 13,
     "metadata": {},
     "output_type": "execute_result"
    }
   ],
   "source": [
    "d4['정수']"
   ]
  },
  {
   "cell_type": "markdown",
   "id": "e3914c3a",
   "metadata": {},
   "source": [
    "# 빈 딕셔너리 만들기\n",
    "* 변수={}\n",
    "* 변수=dict{}"
   ]
  },
  {
   "cell_type": "code",
   "execution_count": 14,
   "id": "566883ff",
   "metadata": {},
   "outputs": [
    {
     "name": "stdout",
     "output_type": "stream",
     "text": [
      "{} <class 'dict'>\n"
     ]
    }
   ],
   "source": [
    "d5 ={}\n",
    "print(d5, type(d5))"
   ]
  },
  {
   "cell_type": "code",
   "execution_count": 15,
   "id": "f74959f1",
   "metadata": {},
   "outputs": [
    {
     "name": "stdout",
     "output_type": "stream",
     "text": [
      "{} <class 'dict'>\n"
     ]
    }
   ],
   "source": [
    "d6 =dict()\n",
    "print(d6, type(d6))"
   ]
  },
  {
   "cell_type": "markdown",
   "id": "9e96bb1f",
   "metadata": {},
   "source": [
    "# 딕셔너리에 자료 추가하기\n",
    "* 변수['key']=value\n",
    "* 이미 key가 있는 경우에는 자료가 수정됨, 나중에 입력한 자료로 덮어쓰기 됨"
   ]
  },
  {
   "cell_type": "code",
   "execution_count": 16,
   "id": "15dab251",
   "metadata": {},
   "outputs": [
    {
     "data": {
      "text/plain": [
       "{'번호': 0}"
      ]
     },
     "execution_count": 16,
     "metadata": {},
     "output_type": "execute_result"
    }
   ],
   "source": [
    "d5['번호']=0\n",
    "d5"
   ]
  },
  {
   "cell_type": "code",
   "execution_count": 17,
   "id": "91f39c7d",
   "metadata": {},
   "outputs": [
    {
     "data": {
      "text/plain": [
       "{'번호': 0, '리스트': [1, 2, 3]}"
      ]
     },
     "execution_count": 17,
     "metadata": {},
     "output_type": "execute_result"
    }
   ],
   "source": [
    "d5['리스트'] = [1,2,3]\n",
    "d5"
   ]
  },
  {
   "cell_type": "code",
   "execution_count": 18,
   "id": "8b8a6a82",
   "metadata": {},
   "outputs": [
    {
     "data": {
      "text/plain": [
       "{'번호': 0, '리스트': [1, 2, 3, 4]}"
      ]
     },
     "execution_count": 18,
     "metadata": {},
     "output_type": "execute_result"
    }
   ],
   "source": [
    "# 이미 키가 있는 경우 나중 값으로 대체된다. \n",
    "d5['리스트'] = [1,2,3,4]\n",
    "d5"
   ]
  },
  {
   "cell_type": "code",
   "execution_count": 19,
   "id": "a9f7a502",
   "metadata": {},
   "outputs": [
    {
     "data": {
      "text/plain": [
       "{'번호': 1, '이름': '둘리', '나이': 15}"
      ]
     },
     "execution_count": 19,
     "metadata": {},
     "output_type": "execute_result"
    }
   ],
   "source": [
    "d7 ={'번호':0, '이름': '홍길동', '나이':35, '번호':1, '이름': '둘리', '나이':15}\n",
    "d7"
   ]
  },
  {
   "cell_type": "markdown",
   "id": "deec2f94",
   "metadata": {},
   "source": [
    "# dict 함수를 이용해서 dict 만들기\n",
    "* dict(key1 =value, key2=value2, key3=value2=3)\n",
    "* key 부분에 \"\"(따옴표)를 사용하지 않는다. \n",
    "* key는 모두 문자형으로 변환된다. \n",
    "* value가 문자형이면 반드시 \"\"가 필요하다."
   ]
  },
  {
   "cell_type": "code",
   "execution_count": 20,
   "id": "6d32aea0",
   "metadata": {},
   "outputs": [
    {
     "data": {
      "text/plain": [
       "{'정수': 100,\n",
       " '실수': 3.5,\n",
       " '문자': '문자열',\n",
       " '리스트': [1, 2, 3],\n",
       " '튜플': (4, 5, 6),\n",
       " '딕셔너리': {'key': 'value'}}"
      ]
     },
     "execution_count": 20,
     "metadata": {},
     "output_type": "execute_result"
    }
   ],
   "source": [
    "dict_ex1 = dict(정수=100, 실수=3.5, 문자='문자열', 리스트=[1,2,3], 튜플=(4,5,6), 딕셔너리={'key': 'value'})\n",
    "dict_ex1"
   ]
  },
  {
   "cell_type": "markdown",
   "id": "f9dbc631",
   "metadata": {},
   "source": [
    "* dict([(key1,value1), (key2,value2), (key3, value3)])\n",
    "* 리스트 안에 key,value 쌍으로 된 튜플을 넣어서 만듬. \n",
    "* key는 자료형에 맞춰서 작성 "
   ]
  },
  {
   "cell_type": "code",
   "execution_count": 21,
   "id": "a5ad3efd",
   "metadata": {},
   "outputs": [
    {
     "data": {
      "text/plain": [
       "{1: 10,\n",
       " 3.5: '3.5',\n",
       " '문자열': '문자열입니다.',\n",
       " 'list': [1, 2, 3],\n",
       " 'tuple': (4, 5, 6),\n",
       " 'dict': {'key': 'value'}}"
      ]
     },
     "execution_count": 21,
     "metadata": {},
     "output_type": "execute_result"
    }
   ],
   "source": [
    "dict_ex2=dict([(1,10), (3.5,'3.5'), ('문자열', '문자열입니다.'),\n",
    "              (\"list\",[1,2,3]), ('tuple', (4,5,6)), ('dict', {'key': 'value'})])\n",
    "dict_ex2"
   ]
  },
  {
   "cell_type": "code",
   "execution_count": 22,
   "id": "b46b2796",
   "metadata": {},
   "outputs": [
    {
     "data": {
      "text/plain": [
       "{'key': 'value'}"
      ]
     },
     "execution_count": 22,
     "metadata": {},
     "output_type": "execute_result"
    }
   ],
   "source": [
    "dict_ex2['dict']"
   ]
  },
  {
   "cell_type": "markdown",
   "id": "0ee5b2d6",
   "metadata": {},
   "source": [
    "* dict(zip([key1, key2, key3], [value1, value2, value3]))\n",
    "* key 묶음 리스트와 value 묶음 리스트를 zip함수로 합친 후 dict 생성\n",
    "* key 묶음의 요소 개수와 value 묶음의 요소 개수가 일치해야 함. "
   ]
  },
  {
   "cell_type": "code",
   "execution_count": 23,
   "id": "64a01d31",
   "metadata": {},
   "outputs": [
    {
     "name": "stdout",
     "output_type": "stream",
     "text": [
      "1 2 3 "
     ]
    }
   ],
   "source": [
    "# zip함수 예시 \n",
    "for i in [1,2,3]:\n",
    "    print(i, end=' ')"
   ]
  },
  {
   "cell_type": "code",
   "execution_count": 24,
   "id": "1e4153d6",
   "metadata": {},
   "outputs": [
    {
     "name": "stdout",
     "output_type": "stream",
     "text": [
      "(1, 4, 7) (2, 5, 8) "
     ]
    }
   ],
   "source": [
    "for i in zip([1,2,3], [4,5,6,], [7,8]):\n",
    "    print(i, end=' ')"
   ]
  },
  {
   "cell_type": "code",
   "execution_count": 25,
   "id": "a4fa8f2c",
   "metadata": {},
   "outputs": [
    {
     "data": {
      "text/plain": [
       "{'정수': 10, '실수': 12.5, '문자열': '문자열입니다.'}"
      ]
     },
     "execution_count": 25,
     "metadata": {},
     "output_type": "execute_result"
    }
   ],
   "source": [
    "dict_ex3 = dict(zip(['정수', '실수', '문자열'], [10,12.5, '문자열입니다.']))\n",
    "dict_ex3"
   ]
  },
  {
   "cell_type": "markdown",
   "id": "fdcb0b7d",
   "metadata": {},
   "source": [
    "# 딕셔너리에 값 입력하고, 수정하고, 삭제하기"
   ]
  },
  {
   "cell_type": "code",
   "execution_count": 26,
   "id": "26d19f54",
   "metadata": {},
   "outputs": [
    {
     "data": {
      "text/plain": [
       "{1: 10,\n",
       " 3.5: '3.5',\n",
       " '문자열': '문자열입니다.',\n",
       " 'list': [1, 2, 3],\n",
       " 'tuple': (4, 5, 6),\n",
       " 'dict': {'key': 'value'}}"
      ]
     },
     "execution_count": 26,
     "metadata": {},
     "output_type": "execute_result"
    }
   ],
   "source": [
    "dict_ex2"
   ]
  },
  {
   "cell_type": "code",
   "execution_count": 27,
   "id": "604a31ee",
   "metadata": {},
   "outputs": [],
   "source": [
    "dict_ex2['new key']='새로운 데이터'"
   ]
  },
  {
   "cell_type": "code",
   "execution_count": 28,
   "id": "bfec2cd8",
   "metadata": {},
   "outputs": [
    {
     "data": {
      "text/plain": [
       "{1: 10,\n",
       " 3.5: '3.5',\n",
       " '문자열': '문자열입니다.',\n",
       " 'list': [1, 2, 3],\n",
       " 'tuple': (4, 5, 6),\n",
       " 'dict': {'key': 'value'},\n",
       " 'new key': '새로운 데이터'}"
      ]
     },
     "execution_count": 28,
     "metadata": {},
     "output_type": "execute_result"
    }
   ],
   "source": [
    "dict_ex2"
   ]
  },
  {
   "cell_type": "code",
   "execution_count": 29,
   "id": "2e9a8e6d",
   "metadata": {},
   "outputs": [],
   "source": [
    "# 딕셔너리 안에 list value에 새로운 값 추가, 수정, 삭제"
   ]
  },
  {
   "cell_type": "code",
   "execution_count": 32,
   "id": "2bffd95d",
   "metadata": {},
   "outputs": [
    {
     "data": {
      "text/plain": [
       "[1, 2, 3, 4, 4]"
      ]
     },
     "execution_count": 32,
     "metadata": {},
     "output_type": "execute_result"
    }
   ],
   "source": [
    "dict_ex2['list'].append(4)\n",
    "dict_ex2['list']"
   ]
  },
  {
   "cell_type": "code",
   "execution_count": 33,
   "id": "cb3dd0e2",
   "metadata": {},
   "outputs": [
    {
     "data": {
      "text/plain": [
       "4"
      ]
     },
     "execution_count": 33,
     "metadata": {},
     "output_type": "execute_result"
    }
   ],
   "source": [
    "max(dict_ex2['list'])"
   ]
  },
  {
   "cell_type": "code",
   "execution_count": 34,
   "id": "0a46873a",
   "metadata": {},
   "outputs": [
    {
     "data": {
      "text/plain": [
       "[1, 2, 30, 3, 4, 4]"
      ]
     },
     "execution_count": 34,
     "metadata": {},
     "output_type": "execute_result"
    }
   ],
   "source": [
    "dict_ex2['list'].insert(2,30)b\n",
    "dict_ex2['list']"
   ]
  },
  {
   "cell_type": "code",
   "execution_count": null,
   "id": "c414706e",
   "metadata": {},
   "outputs": [],
   "source": [
    "# 정수, 문자열\n",
    "dict_ex2[1] + int(dict_ex2[3,5])"
   ]
  },
  {
   "cell_type": "code",
   "execution_count": 35,
   "id": "e5a92c3d",
   "metadata": {},
   "outputs": [
    {
     "data": {
      "text/plain": [
       "[1, 30, 3, 4, 4]"
      ]
     },
     "execution_count": 35,
     "metadata": {},
     "output_type": "execute_result"
    }
   ],
   "source": [
    "dict_ex2['list'].remove(2)\n",
    "dict_ex2['list']"
   ]
  },
  {
   "cell_type": "code",
   "execution_count": 37,
   "id": "4571c15a",
   "metadata": {},
   "outputs": [
    {
     "data": {
      "text/plain": [
       "{'key': 'value', 'key2': 'value2'}"
      ]
     },
     "execution_count": 37,
     "metadata": {},
     "output_type": "execute_result"
    }
   ],
   "source": [
    "dict_ex2['dict']['key2']='value2'\n",
    "dict_ex2['dict']"
   ]
  },
  {
   "cell_type": "code",
   "execution_count": 38,
   "id": "541c6fda",
   "metadata": {},
   "outputs": [
    {
     "data": {
      "text/plain": [
       "{'key': 'value'}"
      ]
     },
     "execution_count": 38,
     "metadata": {},
     "output_type": "execute_result"
    }
   ],
   "source": [
    "del dict_ex2['dict']['key2']\n",
    "dict_ex2['dict']"
   ]
  },
  {
   "cell_type": "code",
   "execution_count": 39,
   "id": "2ab3d2db",
   "metadata": {},
   "outputs": [
    {
     "data": {
      "text/plain": [
       "'새로운 데이터'"
      ]
     },
     "execution_count": 39,
     "metadata": {},
     "output_type": "execute_result"
    }
   ],
   "source": [
    "# pop()을 이용해서 삭제 \n",
    "dict_ex2.pop('new key')"
   ]
  },
  {
   "cell_type": "code",
   "execution_count": 40,
   "id": "0502b0a3",
   "metadata": {},
   "outputs": [
    {
     "data": {
      "text/plain": [
       "'문자열입니다.'"
      ]
     },
     "execution_count": 40,
     "metadata": {},
     "output_type": "execute_result"
    }
   ],
   "source": [
    "dict_ex2.pop('문자열')"
   ]
  },
  {
   "cell_type": "code",
   "execution_count": 41,
   "id": "f6dea36a",
   "metadata": {},
   "outputs": [
    {
     "ename": "TypeError",
     "evalue": "pop expected at least 1 argument, got 0",
     "output_type": "error",
     "traceback": [
      "\u001b[1;31m---------------------------------------------------------------------------\u001b[0m",
      "\u001b[1;31mTypeError\u001b[0m                                 Traceback (most recent call last)",
      "Cell \u001b[1;32mIn[41], line 2\u001b[0m\n\u001b[0;32m      1\u001b[0m \u001b[38;5;66;03m# 딕셔너리에서 pop()으로 삭제할 때는 반드시 key를 넣어줘야 한다. \u001b[39;00m\n\u001b[1;32m----> 2\u001b[0m \u001b[43mdict_ex2\u001b[49m\u001b[38;5;241;43m.\u001b[39;49m\u001b[43mpop\u001b[49m\u001b[43m(\u001b[49m\u001b[43m)\u001b[49m\n",
      "\u001b[1;31mTypeError\u001b[0m: pop expected at least 1 argument, got 0"
     ]
    }
   ],
   "source": [
    "# 딕셔너리에서 pop()으로 삭제할 때는 반드시 key를 넣어줘야 한다. \n",
    "dict_ex2.pop()"
   ]
  },
  {
   "cell_type": "markdown",
   "id": "5596866d",
   "metadata": {},
   "source": [
    "# 딕셔너리 안에 특정 key가 있는지 확인하기 \n",
    "* in, not in"
   ]
  },
  {
   "cell_type": "code",
   "execution_count": 42,
   "id": "594d0684",
   "metadata": {},
   "outputs": [
    {
     "data": {
      "text/plain": [
       "True"
      ]
     },
     "execution_count": 42,
     "metadata": {},
     "output_type": "execute_result"
    }
   ],
   "source": [
    "'정수' in dict_ex1"
   ]
  },
  {
   "cell_type": "markdown",
   "id": "9c358a84",
   "metadata": {},
   "source": [
    "# 딕셔너리 안에 key가 몇 개 있는지 확인하기 \n",
    "* len()\n",
    "* key의 갯만 출력 \n",
    "* 가장 외부의 key 개수만 카운트 한다. 내부 딕셔너리의 key는 따로 꺼내서 세야함."
   ]
  },
  {
   "cell_type": "code",
   "execution_count": 43,
   "id": "d667e31b",
   "metadata": {},
   "outputs": [],
   "source": [
    "data = {'info': [{'name': 'alice', 'scores': (95,88,92)},\n",
    "                 {'name': 'bob', 'scores': (78, 85,89)}],\n",
    "       'extra': {'hobbies': ['leading', 'coding'],\n",
    "                'locaton': ('seoul', 'busan')}}"
   ]
  },
  {
   "cell_type": "code",
   "execution_count": 44,
   "id": "118863ac",
   "metadata": {},
   "outputs": [
    {
     "data": {
      "text/plain": [
       "{'info': [{'name': 'alice', 'scores': (95, 88, 92)},\n",
       "  {'name': 'bob', 'scores': (78, 85, 89)}],\n",
       " 'extra': {'hobbies': ['leading', 'coding'], 'locaton': ('seoul', 'busan')}}"
      ]
     },
     "execution_count": 44,
     "metadata": {},
     "output_type": "execute_result"
    }
   ],
   "source": [
    "data"
   ]
  },
  {
   "cell_type": "code",
   "execution_count": 45,
   "id": "16eb7982",
   "metadata": {},
   "outputs": [
    {
     "data": {
      "text/plain": [
       "2"
      ]
     },
     "execution_count": 45,
     "metadata": {},
     "output_type": "execute_result"
    }
   ],
   "source": [
    "len(data)"
   ]
  },
  {
   "cell_type": "code",
   "execution_count": 47,
   "id": "a40f03fe",
   "metadata": {},
   "outputs": [
    {
     "data": {
      "text/plain": [
       "2"
      ]
     },
     "execution_count": 47,
     "metadata": {},
     "output_type": "execute_result"
    }
   ],
   "source": [
    "len(data['info'][0])"
   ]
  },
  {
   "cell_type": "code",
   "execution_count": 49,
   "id": "42b568e2",
   "metadata": {},
   "outputs": [
    {
     "data": {
      "text/plain": [
       "95"
      ]
     },
     "execution_count": 49,
     "metadata": {},
     "output_type": "execute_result"
    }
   ],
   "source": [
    "# dict -list-dict-list\n",
    "data['info'][0]['scores'][0]"
   ]
  },
  {
   "cell_type": "markdown",
   "id": "7464f101",
   "metadata": {},
   "source": [
    "# 딕셔너리 함수 사용하기 "
   ]
  },
  {
   "cell_type": "markdown",
   "id": "10c07612",
   "metadata": {},
   "source": [
    "## setdefault(key, value) 딕셔너리에 자료 추가 \n",
    "* 딕셔너리에 key와 value를 추가 \n",
    "* key가 중복되면 나중에 추가하는 값을 무시함(원래 자료 보존)\n",
    "* key만 넣고 value를 생략하면 자동으로 'None'이 입력됨\n"
   ]
  },
  {
   "cell_type": "code",
   "execution_count": 50,
   "id": "2bb0eeae",
   "metadata": {},
   "outputs": [
    {
     "data": {
      "text/plain": [
       "{'년월': '20250924', '국가': '미국', '방문자 수': 1000}"
      ]
     },
     "execution_count": 50,
     "metadata": {},
     "output_type": "execute_result"
    }
   ],
   "source": [
    "d"
   ]
  },
  {
   "cell_type": "code",
   "execution_count": 51,
   "id": "bb775d8c",
   "metadata": {},
   "outputs": [
    {
     "data": {
      "text/plain": [
       "{'년월': '20240924', '국가': '미국', '방문자 수': 1000}"
      ]
     },
     "execution_count": 51,
     "metadata": {},
     "output_type": "execute_result"
    }
   ],
   "source": [
    "d['년월']= '20240924'\n",
    "d"
   ]
  },
  {
   "cell_type": "code",
   "execution_count": 52,
   "id": "f8093e65",
   "metadata": {},
   "outputs": [
    {
     "data": {
      "text/plain": [
       "'20240924'"
      ]
     },
     "execution_count": 52,
     "metadata": {},
     "output_type": "execute_result"
    }
   ],
   "source": [
    "# 기존에 key가 있는 경우 기존 key의 value를 출력하고 새로운 값은 무시 \n",
    "d.setdefault('년월', 20250924)"
   ]
  },
  {
   "cell_type": "code",
   "execution_count": 55,
   "id": "82a9937b",
   "metadata": {},
   "outputs": [
    {
     "data": {
      "text/plain": [
       "{'년월': '20240924', '국가': '미국', '방문자 수': 1000, '날씨': '맑음'}"
      ]
     },
     "execution_count": 55,
     "metadata": {},
     "output_type": "execute_result"
    }
   ],
   "source": [
    "d"
   ]
  },
  {
   "cell_type": "code",
   "execution_count": 54,
   "id": "2ac081e4",
   "metadata": {},
   "outputs": [
    {
     "data": {
      "text/plain": [
       "'맑음'"
      ]
     },
     "execution_count": 54,
     "metadata": {},
     "output_type": "execute_result"
    }
   ],
   "source": [
    "d.setdefault('날씨', '맑음')"
   ]
  },
  {
   "cell_type": "code",
   "execution_count": 56,
   "id": "b37b5a5e",
   "metadata": {},
   "outputs": [],
   "source": [
    "for i in range(1,11):\n",
    "    d.setdefault('숫자', []).append(i)"
   ]
  },
  {
   "cell_type": "code",
   "execution_count": 57,
   "id": "bbd22721",
   "metadata": {},
   "outputs": [
    {
     "data": {
      "text/plain": [
       "{'년월': '20240924',\n",
       " '국가': '미국',\n",
       " '방문자 수': 1000,\n",
       " '날씨': '맑음',\n",
       " '숫자': [1, 2, 3, 4, 5, 6, 7, 8, 9, 10]}"
      ]
     },
     "execution_count": 57,
     "metadata": {},
     "output_type": "execute_result"
    }
   ],
   "source": [
    "d"
   ]
  },
  {
   "cell_type": "markdown",
   "id": "b2f28c5a",
   "metadata": {},
   "source": [
    "# update(key=value)\n",
    "* 기존에 key가 있는 경우 값을 새로운 값으로 update\n",
    "* 기존에 key가 없는 경우 새로운 key, value 생성\n",
    "* key 부분에는 ''를 사용하지 않는다.\n",
    "* 기존 key가 없어서 새로 추가하는 경우 key 부분에는 문자형 key만 올 수 있다.\n",
    "* update는 문자형 key만 가능"
   ]
  },
  {
   "cell_type": "code",
   "execution_count": 65,
   "id": "4da03226",
   "metadata": {
    "scrolled": true
   },
   "outputs": [
    {
     "data": {
      "text/plain": [
       "{'년월': '20250924', '국가': '미국', '방문자수': 1000}"
      ]
     },
     "execution_count": 65,
     "metadata": {},
     "output_type": "execute_result"
    }
   ],
   "source": [
    "d"
   ]
  },
  {
   "cell_type": "code",
   "execution_count": 67,
   "id": "9f36121c",
   "metadata": {},
   "outputs": [],
   "source": [
    "d.update(방문자수 =500)"
   ]
  },
  {
   "cell_type": "code",
   "execution_count": 71,
   "id": "cfdb12c6",
   "metadata": {},
   "outputs": [
    {
     "data": {
      "text/plain": [
       "{'년월': '20250924', '국가': '미국', '방문자수': 500, 3: 300, '바람': '강함'}"
      ]
     },
     "execution_count": 71,
     "metadata": {},
     "output_type": "execute_result"
    }
   ],
   "source": [
    "d.update(바람='강함')\n",
    "d"
   ]
  },
  {
   "cell_type": "code",
   "execution_count": 60,
   "id": "2484137a",
   "metadata": {},
   "outputs": [
    {
     "ename": "SyntaxError",
     "evalue": "expression cannot contain assignment, perhaps you meant \"==\"? (2659136881.py, line 1)",
     "output_type": "error",
     "traceback": [
      "\u001b[1;36m  Cell \u001b[1;32mIn[60], line 1\u001b[1;36m\u001b[0m\n\u001b[1;33m    d.update(100='백')\u001b[0m\n\u001b[1;37m             ^\u001b[0m\n\u001b[1;31mSyntaxError\u001b[0m\u001b[1;31m:\u001b[0m expression cannot contain assignment, perhaps you meant \"==\"?\n"
     ]
    }
   ],
   "source": [
    "d.update(100='백')\n",
    "d"
   ]
  },
  {
   "cell_type": "code",
   "execution_count": 69,
   "id": "374c722d",
   "metadata": {},
   "outputs": [
    {
     "data": {
      "text/plain": [
       "{'년월': '20250924', '국가': '미국', '방문자수': 500, 3: 300}"
      ]
     },
     "execution_count": 69,
     "metadata": {},
     "output_type": "execute_result"
    }
   ],
   "source": [
    "d[3] = 300\n",
    "d"
   ]
  },
  {
   "cell_type": "markdown",
   "id": "292ad839",
   "metadata": {},
   "source": [
    "# 딕셔너리에서 value를 가져오는 함수 .get()\n",
    "* 딕셔너리에서 value를 보고 싶은 때는 key를 호출하면 된다.\n",
    "* 만약 딕셔너리 안에 key가 없는데 호출하는 경우 오류 발생\n",
    "* .get('key', 'key가 없을 때 출력할 내용') key 없어도 오류 발생X, 기본값 출력 \n",
    "* 딕셔너리 내에 key가 있다가 없다가를 반복하는 경우 오류 방지 "
   ]
  },
  {
   "cell_type": "code",
   "execution_count": 72,
   "id": "2bf526d7",
   "metadata": {},
   "outputs": [
    {
     "data": {
      "text/plain": [
       "'강함'"
      ]
     },
     "execution_count": 72,
     "metadata": {},
     "output_type": "execute_result"
    }
   ],
   "source": [
    "d['바람']"
   ]
  },
  {
   "cell_type": "code",
   "execution_count": 73,
   "id": "3480766e",
   "metadata": {},
   "outputs": [
    {
     "ename": "KeyError",
     "evalue": "'강수량'",
     "output_type": "error",
     "traceback": [
      "\u001b[1;31m---------------------------------------------------------------------------\u001b[0m",
      "\u001b[1;31mKeyError\u001b[0m                                  Traceback (most recent call last)",
      "Cell \u001b[1;32mIn[73], line 1\u001b[0m\n\u001b[1;32m----> 1\u001b[0m \u001b[43md\u001b[49m\u001b[43m[\u001b[49m\u001b[38;5;124;43m'\u001b[39;49m\u001b[38;5;124;43m강수량\u001b[39;49m\u001b[38;5;124;43m'\u001b[39;49m\u001b[43m]\u001b[49m\n",
      "\u001b[1;31mKeyError\u001b[0m: '강수량'"
     ]
    }
   ],
   "source": [
    "d['강수량']"
   ]
  },
  {
   "cell_type": "code",
   "execution_count": 75,
   "id": "b414e7f4",
   "metadata": {},
   "outputs": [
    {
     "data": {
      "text/plain": [
       "'해당 key 없음'"
      ]
     },
     "execution_count": 75,
     "metadata": {},
     "output_type": "execute_result"
    }
   ],
   "source": [
    "d.get('강수량', '해당 key 없음')"
   ]
  },
  {
   "cell_type": "markdown",
   "id": "a4ca7fac",
   "metadata": {},
   "source": [
    "# 딕셔너리에서 key, value, (key,value)를 가져오는 함수\n",
    "* keys(): 딕셔너리에서 key만 출력\n",
    "* values(): 딕셔너리에서 value만 출력\n",
    "* items(): 딕셔너리에서 key, value를 튜플 묶음 형태로 출력(key, value) \n",
    "* 위 3 함수의 결과를 list()로 형변환을 해주면 list처럼 사용 가능"
   ]
  },
  {
   "cell_type": "code",
   "execution_count": 76,
   "id": "c05c38f6",
   "metadata": {},
   "outputs": [
    {
     "data": {
      "text/plain": [
       "{'info': [{'name': 'alice', 'scores': (95, 88, 92)},\n",
       "  {'name': 'bob', 'scores': (78, 85, 89)}],\n",
       " 'extra': {'hobbies': ['leading', 'coding'], 'locaton': ('seoul', 'busan')}}"
      ]
     },
     "execution_count": 76,
     "metadata": {},
     "output_type": "execute_result"
    }
   ],
   "source": [
    "data"
   ]
  },
  {
   "cell_type": "code",
   "execution_count": 82,
   "id": "e21501b6",
   "metadata": {},
   "outputs": [
    {
     "name": "stdout",
     "output_type": "stream",
     "text": [
      "<class 'list'> <class 'dict_keys'>\n"
     ]
    }
   ],
   "source": [
    "keys =list(data.keys())\n",
    "print(type(keys), type(data.keys()))"
   ]
  },
  {
   "cell_type": "code",
   "execution_count": 80,
   "id": "1c2dcf8e",
   "metadata": {},
   "outputs": [
    {
     "data": {
      "text/plain": [
       "'info'"
      ]
     },
     "execution_count": 80,
     "metadata": {},
     "output_type": "execute_result"
    }
   ],
   "source": [
    "keys[0]"
   ]
  },
  {
   "cell_type": "code",
   "execution_count": 85,
   "id": "99106a73",
   "metadata": {},
   "outputs": [
    {
     "data": {
      "text/plain": [
       "'name'"
      ]
     },
     "execution_count": 85,
     "metadata": {},
     "output_type": "execute_result"
    }
   ],
   "source": [
    "list(data['info'][0].keys())[0]"
   ]
  },
  {
   "cell_type": "code",
   "execution_count": 88,
   "id": "f716affd",
   "metadata": {},
   "outputs": [
    {
     "data": {
      "text/plain": [
       "[[{'name': 'alice', 'scores': (95, 88, 92)},\n",
       "  {'name': 'bob', 'scores': (78, 85, 89)}],\n",
       " {'hobbies': ['leading', 'coding'], 'locaton': ('seoul', 'busan')}]"
      ]
     },
     "execution_count": 88,
     "metadata": {},
     "output_type": "execute_result"
    }
   ],
   "source": [
    "# values\n",
    "values =list(data.values())\n",
    "values"
   ]
  },
  {
   "cell_type": "code",
   "execution_count": 91,
   "id": "99414fdc",
   "metadata": {},
   "outputs": [
    {
     "data": {
      "text/plain": [
       "dict_values(['bob', (78, 85, 89)])"
      ]
     },
     "execution_count": 91,
     "metadata": {},
     "output_type": "execute_result"
    }
   ],
   "source": [
    "values[0][1].values()"
   ]
  },
  {
   "cell_type": "code",
   "execution_count": 92,
   "id": "17a4774f",
   "metadata": {},
   "outputs": [
    {
     "data": {
      "text/plain": [
       "dict_items([('info', [{'name': 'alice', 'scores': (95, 88, 92)}, {'name': 'bob', 'scores': (78, 85, 89)}]), ('extra', {'hobbies': ['leading', 'coding'], 'locaton': ('seoul', 'busan')})])"
      ]
     },
     "execution_count": 92,
     "metadata": {},
     "output_type": "execute_result"
    }
   ],
   "source": [
    "# items 는 (key, value) 형식으로 출력 \n",
    "data.items()"
   ]
  },
  {
   "cell_type": "code",
   "execution_count": 94,
   "id": "10ab2a3a",
   "metadata": {},
   "outputs": [
    {
     "data": {
      "text/plain": [
       "[('info',\n",
       "  [{'name': 'alice', 'scores': (95, 88, 92)},\n",
       "   {'name': 'bob', 'scores': (78, 85, 89)}]),\n",
       " ('extra', {'hobbies': ['leading', 'coding'], 'locaton': ('seoul', 'busan')})]"
      ]
     },
     "execution_count": 94,
     "metadata": {},
     "output_type": "execute_result"
    }
   ],
   "source": [
    "items = list(data.items())\n",
    "items"
   ]
  },
  {
   "cell_type": "code",
   "execution_count": 97,
   "id": "626aa54d",
   "metadata": {},
   "outputs": [
    {
     "data": {
      "text/plain": [
       "('extra', {'hobbies': ['leading', 'coding'], 'locaton': ('seoul', 'busan')})"
      ]
     },
     "execution_count": 97,
     "metadata": {},
     "output_type": "execute_result"
    }
   ],
   "source": [
    "items[1]"
   ]
  },
  {
   "cell_type": "code",
   "execution_count": 100,
   "id": "33c95644",
   "metadata": {},
   "outputs": [
    {
     "data": {
      "text/plain": [
       "dict_keys(['년월', '국가', '방문자수', 3, '바람'])"
      ]
     },
     "execution_count": 100,
     "metadata": {},
     "output_type": "execute_result"
    }
   ],
   "source": [
    "d.keys()"
   ]
  },
  {
   "cell_type": "code",
   "execution_count": 101,
   "id": "7910af01",
   "metadata": {},
   "outputs": [
    {
     "data": {
      "text/plain": [
       "dict_values(['20250924', '미국', 500, 300, '강함'])"
      ]
     },
     "execution_count": 101,
     "metadata": {},
     "output_type": "execute_result"
    }
   ],
   "source": [
    "d.values()"
   ]
  },
  {
   "cell_type": "code",
   "execution_count": 102,
   "id": "60088d4c",
   "metadata": {},
   "outputs": [
    {
     "data": {
      "text/plain": [
       "dict_items([('년월', '20250924'), ('국가', '미국'), ('방문자수', 500), (3, 300), ('바람', '강함')])"
      ]
     },
     "execution_count": 102,
     "metadata": {},
     "output_type": "execute_result"
    }
   ],
   "source": [
    "d.items()"
   ]
  },
  {
   "cell_type": "code",
   "execution_count": 103,
   "id": "c92039a2",
   "metadata": {},
   "outputs": [
    {
     "name": "stdout",
     "output_type": "stream",
     "text": [
      "년월\n",
      "국가\n",
      "방문자수\n",
      "3\n",
      "바람\n"
     ]
    }
   ],
   "source": [
    "for key in d.keys():\n",
    "    print(key)"
   ]
  },
  {
   "cell_type": "code",
   "execution_count": 105,
   "id": "d0060ef4",
   "metadata": {},
   "outputs": [
    {
     "name": "stdout",
     "output_type": "stream",
     "text": [
      "20250924\n",
      "미국\n",
      "500\n",
      "300\n",
      "강함\n"
     ]
    }
   ],
   "source": [
    "for value in d.values():\n",
    "    print(value)"
   ]
  },
  {
   "cell_type": "code",
   "execution_count": 107,
   "id": "dadeae93",
   "metadata": {},
   "outputs": [
    {
     "name": "stdout",
     "output_type": "stream",
     "text": [
      "key: 년월 value: 20250924\n",
      "key: 국가 value: 미국\n",
      "key: 방문자수 value: 500\n",
      "key: 3 value: 300\n",
      "key: 바람 value: 강함\n"
     ]
    }
   ],
   "source": [
    "for key, value in d.items():\n",
    "    print('key:', key, 'value:', value)"
   ]
  }
 ],
 "metadata": {
  "kernelspec": {
   "display_name": "Python 3 (ipykernel)",
   "language": "python",
   "name": "python3"
  },
  "language_info": {
   "codemirror_mode": {
    "name": "ipython",
    "version": 3
   },
   "file_extension": ".py",
   "mimetype": "text/x-python",
   "name": "python",
   "nbconvert_exporter": "python",
   "pygments_lexer": "ipython3",
   "version": "3.9.23"
  }
 },
 "nbformat": 4,
 "nbformat_minor": 5
}
